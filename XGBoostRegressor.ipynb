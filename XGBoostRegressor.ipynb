{
  "cells": [
    {
      "cell_type": "code",
      "execution_count": null,
      "metadata": {
        "id": "K_Zwrzvsr10T"
      },
      "outputs": [],
      "source": [
        "import pandas as pd\n",
        "from pathlib import Path\n",
        "from sklearn import tree\n",
        "from sklearn.preprocessing import StandardScaler\n",
        "from sklearn.model_selection import train_test_split\n",
        "from sklearn.ensemble import GradientBoostingRegressor\n",
        "\n",
        "from sklearn.metrics import confusion_matrix\n",
        "from sklearn.metrics import accuracy_score\n",
        "from sklearn.metrics import classification_report\n",
        "\n",
        "\n",
        "import xgboost as xgb\n",
        "\n",
        "import numpy as np"
      ]
    },
    {
      "cell_type": "markdown",
      "metadata": {
        "id": "Uxe7aGT0r10U"
      },
      "source": [
        "  ### Preprocessing"
      ]
    },
    {
      "cell_type": "code",
      "source": [
        "!pip install yfinance\n",
        "\n",
        "!pip install hpbandster-sklearn"
      ],
      "metadata": {
        "colab": {
          "base_uri": "https://localhost:8080/"
        },
        "id": "BiZz-KKMr_O1",
        "outputId": "538900f9-9972-4af8-f100-31c094c74d41"
      },
      "execution_count": null,
      "outputs": [
        {
          "output_type": "stream",
          "name": "stdout",
          "text": [
            "Requirement already satisfied: yfinance in /usr/local/lib/python3.7/dist-packages (0.1.70)\n",
            "Requirement already satisfied: numpy>=1.15 in /usr/local/lib/python3.7/dist-packages (from yfinance) (1.21.5)\n",
            "Requirement already satisfied: requests>=2.26 in /usr/local/lib/python3.7/dist-packages (from yfinance) (2.27.1)\n",
            "Requirement already satisfied: pandas>=0.24.0 in /usr/local/lib/python3.7/dist-packages (from yfinance) (1.3.5)\n",
            "Requirement already satisfied: multitasking>=0.0.7 in /usr/local/lib/python3.7/dist-packages (from yfinance) (0.0.10)\n",
            "Requirement already satisfied: lxml>=4.5.1 in /usr/local/lib/python3.7/dist-packages (from yfinance) (4.8.0)\n",
            "Requirement already satisfied: python-dateutil>=2.7.3 in /usr/local/lib/python3.7/dist-packages (from pandas>=0.24.0->yfinance) (2.8.2)\n",
            "Requirement already satisfied: pytz>=2017.3 in /usr/local/lib/python3.7/dist-packages (from pandas>=0.24.0->yfinance) (2018.9)\n",
            "Requirement already satisfied: six>=1.5 in /usr/local/lib/python3.7/dist-packages (from python-dateutil>=2.7.3->pandas>=0.24.0->yfinance) (1.15.0)\n",
            "Requirement already satisfied: charset-normalizer~=2.0.0 in /usr/local/lib/python3.7/dist-packages (from requests>=2.26->yfinance) (2.0.12)\n",
            "Requirement already satisfied: urllib3<1.27,>=1.21.1 in /usr/local/lib/python3.7/dist-packages (from requests>=2.26->yfinance) (1.24.3)\n",
            "Requirement already satisfied: certifi>=2017.4.17 in /usr/local/lib/python3.7/dist-packages (from requests>=2.26->yfinance) (2021.10.8)\n",
            "Requirement already satisfied: idna<4,>=2.5 in /usr/local/lib/python3.7/dist-packages (from requests>=2.26->yfinance) (2.10)\n",
            "Requirement already satisfied: hpbandster-sklearn in /usr/local/lib/python3.7/dist-packages (2.0.1)\n",
            "Requirement already satisfied: scikit-learn>=0.24.0 in /usr/local/lib/python3.7/dist-packages (from hpbandster-sklearn) (1.0.2)\n",
            "Requirement already satisfied: hpbandster in /usr/local/lib/python3.7/dist-packages (from hpbandster-sklearn) (0.7.4)\n",
            "Requirement already satisfied: joblib in /usr/local/lib/python3.7/dist-packages (from hpbandster-sklearn) (1.1.0)\n",
            "Requirement already satisfied: ConfigSpace in /usr/local/lib/python3.7/dist-packages (from hpbandster-sklearn) (0.5.0)\n",
            "Requirement already satisfied: threadpoolctl>=2.0.0 in /usr/local/lib/python3.7/dist-packages (from scikit-learn>=0.24.0->hpbandster-sklearn) (3.1.0)\n",
            "Requirement already satisfied: numpy>=1.14.6 in /usr/local/lib/python3.7/dist-packages (from scikit-learn>=0.24.0->hpbandster-sklearn) (1.21.5)\n",
            "Requirement already satisfied: scipy>=1.1.0 in /usr/local/lib/python3.7/dist-packages (from scikit-learn>=0.24.0->hpbandster-sklearn) (1.4.1)\n",
            "Requirement already satisfied: cython in /usr/local/lib/python3.7/dist-packages (from ConfigSpace->hpbandster-sklearn) (0.29.28)\n",
            "Requirement already satisfied: pyparsing in /usr/local/lib/python3.7/dist-packages (from ConfigSpace->hpbandster-sklearn) (3.0.8)\n",
            "Requirement already satisfied: Pyro4 in /usr/local/lib/python3.7/dist-packages (from hpbandster->hpbandster-sklearn) (4.82)\n",
            "Requirement already satisfied: serpent in /usr/local/lib/python3.7/dist-packages (from hpbandster->hpbandster-sklearn) (1.40)\n",
            "Requirement already satisfied: netifaces in /usr/local/lib/python3.7/dist-packages (from hpbandster->hpbandster-sklearn) (0.11.0)\n",
            "Requirement already satisfied: statsmodels in /usr/local/lib/python3.7/dist-packages (from hpbandster->hpbandster-sklearn) (0.10.2)\n",
            "Requirement already satisfied: patsy>=0.4.0 in /usr/local/lib/python3.7/dist-packages (from statsmodels->hpbandster->hpbandster-sklearn) (0.5.2)\n",
            "Requirement already satisfied: pandas>=0.19 in /usr/local/lib/python3.7/dist-packages (from statsmodels->hpbandster->hpbandster-sklearn) (1.3.5)\n",
            "Requirement already satisfied: pytz>=2017.3 in /usr/local/lib/python3.7/dist-packages (from pandas>=0.19->statsmodels->hpbandster->hpbandster-sklearn) (2018.9)\n",
            "Requirement already satisfied: python-dateutil>=2.7.3 in /usr/local/lib/python3.7/dist-packages (from pandas>=0.19->statsmodels->hpbandster->hpbandster-sklearn) (2.8.2)\n",
            "Requirement already satisfied: six in /usr/local/lib/python3.7/dist-packages (from patsy>=0.4.0->statsmodels->hpbandster->hpbandster-sklearn) (1.15.0)\n"
          ]
        }
      ]
    },
    {
      "cell_type": "code",
      "execution_count": null,
      "metadata": {
        "colab": {
          "base_uri": "https://localhost:8080/",
          "height": 467
        },
        "id": "cXv65x32r10V",
        "outputId": "35357b0f-c29a-436a-ead3-a105931d4e2e"
      },
      "outputs": [
        {
          "output_type": "stream",
          "name": "stdout",
          "text": [
            "\r[*********************100%***********************]  1 of 1 completed\n"
          ]
        },
        {
          "output_type": "execute_result",
          "data": {
            "text/plain": [
              "                   Open         High          Low        Close       Volume\n",
              "Date                                                                       \n",
              "2020-04-01   133.612320   135.634552   129.730942   135.634552  12456564435\n",
              "2020-04-02   135.732178   146.787094   135.732178   142.029144  15322861686\n",
              "2020-04-03   142.110458   146.899872   139.619385   142.091309  13184603402\n",
              "2020-04-04   142.215179   145.377304   140.121826   145.219391  11946658257\n",
              "2020-04-05   145.261017   146.128525   142.102081   143.546646  11280993591\n",
              "...                 ...          ...          ...          ...          ...\n",
              "2022-04-03  3444.810547  3573.960205  3421.259766  3522.833496  15333808649\n",
              "2022-04-04  3522.364990  3535.148193  3422.000977  3521.241211  18209969743\n",
              "2022-04-05  3521.239746  3546.706787  3410.547607  3411.792480  16681503199\n",
              "2022-04-06  3411.672119  3411.672119  3171.205078  3171.691895  25632563639\n",
              "2022-04-07  3172.197266  3263.474609  3155.581055  3233.274658  16745496605\n",
              "\n",
              "[737 rows x 5 columns]"
            ],
            "text/html": [
              "\n",
              "  <div id=\"df-7537f3e4-d131-4cbb-bc32-0c2b17f5246a\">\n",
              "    <div class=\"colab-df-container\">\n",
              "      <div>\n",
              "<style scoped>\n",
              "    .dataframe tbody tr th:only-of-type {\n",
              "        vertical-align: middle;\n",
              "    }\n",
              "\n",
              "    .dataframe tbody tr th {\n",
              "        vertical-align: top;\n",
              "    }\n",
              "\n",
              "    .dataframe thead th {\n",
              "        text-align: right;\n",
              "    }\n",
              "</style>\n",
              "<table border=\"1\" class=\"dataframe\">\n",
              "  <thead>\n",
              "    <tr style=\"text-align: right;\">\n",
              "      <th></th>\n",
              "      <th>Open</th>\n",
              "      <th>High</th>\n",
              "      <th>Low</th>\n",
              "      <th>Close</th>\n",
              "      <th>Volume</th>\n",
              "    </tr>\n",
              "    <tr>\n",
              "      <th>Date</th>\n",
              "      <th></th>\n",
              "      <th></th>\n",
              "      <th></th>\n",
              "      <th></th>\n",
              "      <th></th>\n",
              "    </tr>\n",
              "  </thead>\n",
              "  <tbody>\n",
              "    <tr>\n",
              "      <th>2020-04-01</th>\n",
              "      <td>133.612320</td>\n",
              "      <td>135.634552</td>\n",
              "      <td>129.730942</td>\n",
              "      <td>135.634552</td>\n",
              "      <td>12456564435</td>\n",
              "    </tr>\n",
              "    <tr>\n",
              "      <th>2020-04-02</th>\n",
              "      <td>135.732178</td>\n",
              "      <td>146.787094</td>\n",
              "      <td>135.732178</td>\n",
              "      <td>142.029144</td>\n",
              "      <td>15322861686</td>\n",
              "    </tr>\n",
              "    <tr>\n",
              "      <th>2020-04-03</th>\n",
              "      <td>142.110458</td>\n",
              "      <td>146.899872</td>\n",
              "      <td>139.619385</td>\n",
              "      <td>142.091309</td>\n",
              "      <td>13184603402</td>\n",
              "    </tr>\n",
              "    <tr>\n",
              "      <th>2020-04-04</th>\n",
              "      <td>142.215179</td>\n",
              "      <td>145.377304</td>\n",
              "      <td>140.121826</td>\n",
              "      <td>145.219391</td>\n",
              "      <td>11946658257</td>\n",
              "    </tr>\n",
              "    <tr>\n",
              "      <th>2020-04-05</th>\n",
              "      <td>145.261017</td>\n",
              "      <td>146.128525</td>\n",
              "      <td>142.102081</td>\n",
              "      <td>143.546646</td>\n",
              "      <td>11280993591</td>\n",
              "    </tr>\n",
              "    <tr>\n",
              "      <th>...</th>\n",
              "      <td>...</td>\n",
              "      <td>...</td>\n",
              "      <td>...</td>\n",
              "      <td>...</td>\n",
              "      <td>...</td>\n",
              "    </tr>\n",
              "    <tr>\n",
              "      <th>2022-04-03</th>\n",
              "      <td>3444.810547</td>\n",
              "      <td>3573.960205</td>\n",
              "      <td>3421.259766</td>\n",
              "      <td>3522.833496</td>\n",
              "      <td>15333808649</td>\n",
              "    </tr>\n",
              "    <tr>\n",
              "      <th>2022-04-04</th>\n",
              "      <td>3522.364990</td>\n",
              "      <td>3535.148193</td>\n",
              "      <td>3422.000977</td>\n",
              "      <td>3521.241211</td>\n",
              "      <td>18209969743</td>\n",
              "    </tr>\n",
              "    <tr>\n",
              "      <th>2022-04-05</th>\n",
              "      <td>3521.239746</td>\n",
              "      <td>3546.706787</td>\n",
              "      <td>3410.547607</td>\n",
              "      <td>3411.792480</td>\n",
              "      <td>16681503199</td>\n",
              "    </tr>\n",
              "    <tr>\n",
              "      <th>2022-04-06</th>\n",
              "      <td>3411.672119</td>\n",
              "      <td>3411.672119</td>\n",
              "      <td>3171.205078</td>\n",
              "      <td>3171.691895</td>\n",
              "      <td>25632563639</td>\n",
              "    </tr>\n",
              "    <tr>\n",
              "      <th>2022-04-07</th>\n",
              "      <td>3172.197266</td>\n",
              "      <td>3263.474609</td>\n",
              "      <td>3155.581055</td>\n",
              "      <td>3233.274658</td>\n",
              "      <td>16745496605</td>\n",
              "    </tr>\n",
              "  </tbody>\n",
              "</table>\n",
              "<p>737 rows × 5 columns</p>\n",
              "</div>\n",
              "      <button class=\"colab-df-convert\" onclick=\"convertToInteractive('df-7537f3e4-d131-4cbb-bc32-0c2b17f5246a')\"\n",
              "              title=\"Convert this dataframe to an interactive table.\"\n",
              "              style=\"display:none;\">\n",
              "        \n",
              "  <svg xmlns=\"http://www.w3.org/2000/svg\" height=\"24px\"viewBox=\"0 0 24 24\"\n",
              "       width=\"24px\">\n",
              "    <path d=\"M0 0h24v24H0V0z\" fill=\"none\"/>\n",
              "    <path d=\"M18.56 5.44l.94 2.06.94-2.06 2.06-.94-2.06-.94-.94-2.06-.94 2.06-2.06.94zm-11 1L8.5 8.5l.94-2.06 2.06-.94-2.06-.94L8.5 2.5l-.94 2.06-2.06.94zm10 10l.94 2.06.94-2.06 2.06-.94-2.06-.94-.94-2.06-.94 2.06-2.06.94z\"/><path d=\"M17.41 7.96l-1.37-1.37c-.4-.4-.92-.59-1.43-.59-.52 0-1.04.2-1.43.59L10.3 9.45l-7.72 7.72c-.78.78-.78 2.05 0 2.83L4 21.41c.39.39.9.59 1.41.59.51 0 1.02-.2 1.41-.59l7.78-7.78 2.81-2.81c.8-.78.8-2.07 0-2.86zM5.41 20L4 18.59l7.72-7.72 1.47 1.35L5.41 20z\"/>\n",
              "  </svg>\n",
              "      </button>\n",
              "      \n",
              "  <style>\n",
              "    .colab-df-container {\n",
              "      display:flex;\n",
              "      flex-wrap:wrap;\n",
              "      gap: 12px;\n",
              "    }\n",
              "\n",
              "    .colab-df-convert {\n",
              "      background-color: #E8F0FE;\n",
              "      border: none;\n",
              "      border-radius: 50%;\n",
              "      cursor: pointer;\n",
              "      display: none;\n",
              "      fill: #1967D2;\n",
              "      height: 32px;\n",
              "      padding: 0 0 0 0;\n",
              "      width: 32px;\n",
              "    }\n",
              "\n",
              "    .colab-df-convert:hover {\n",
              "      background-color: #E2EBFA;\n",
              "      box-shadow: 0px 1px 2px rgba(60, 64, 67, 0.3), 0px 1px 3px 1px rgba(60, 64, 67, 0.15);\n",
              "      fill: #174EA6;\n",
              "    }\n",
              "\n",
              "    [theme=dark] .colab-df-convert {\n",
              "      background-color: #3B4455;\n",
              "      fill: #D2E3FC;\n",
              "    }\n",
              "\n",
              "    [theme=dark] .colab-df-convert:hover {\n",
              "      background-color: #434B5C;\n",
              "      box-shadow: 0px 1px 3px 1px rgba(0, 0, 0, 0.15);\n",
              "      filter: drop-shadow(0px 1px 2px rgba(0, 0, 0, 0.3));\n",
              "      fill: #FFFFFF;\n",
              "    }\n",
              "  </style>\n",
              "\n",
              "      <script>\n",
              "        const buttonEl =\n",
              "          document.querySelector('#df-7537f3e4-d131-4cbb-bc32-0c2b17f5246a button.colab-df-convert');\n",
              "        buttonEl.style.display =\n",
              "          google.colab.kernel.accessAllowed ? 'block' : 'none';\n",
              "\n",
              "        async function convertToInteractive(key) {\n",
              "          const element = document.querySelector('#df-7537f3e4-d131-4cbb-bc32-0c2b17f5246a');\n",
              "          const dataTable =\n",
              "            await google.colab.kernel.invokeFunction('convertToInteractive',\n",
              "                                                     [key], {});\n",
              "          if (!dataTable) return;\n",
              "\n",
              "          const docLinkHtml = 'Like what you see? Visit the ' +\n",
              "            '<a target=\"_blank\" href=https://colab.research.google.com/notebooks/data_table.ipynb>data table notebook</a>'\n",
              "            + ' to learn more about interactive tables.';\n",
              "          element.innerHTML = '';\n",
              "          dataTable['output_type'] = 'display_data';\n",
              "          await google.colab.output.renderOutput(dataTable, element);\n",
              "          const docLink = document.createElement('div');\n",
              "          docLink.innerHTML = docLinkHtml;\n",
              "          element.appendChild(docLink);\n",
              "        }\n",
              "      </script>\n",
              "    </div>\n",
              "  </div>\n",
              "  "
            ]
          },
          "metadata": {},
          "execution_count": 27
        }
      ],
      "source": [
        "# Load data\n",
        "import yfinance as yf\n",
        "\n",
        "btcdata = yf.download(\"ETH-USD\", start=\"2020-04-01\", end=\"2022-04-07\")\n",
        "df = pd.DataFrame(btcdata)\n",
        "df.drop(columns=['Adj Close'],inplace=True)\n",
        "\n",
        "\n",
        "df"
      ]
    },
    {
      "cell_type": "code",
      "execution_count": null,
      "metadata": {
        "jupyter": {
          "outputs_hidden": false
        },
        "pycharm": {
          "name": "#%%\n"
        },
        "colab": {
          "base_uri": "https://localhost:8080/",
          "height": 450
        },
        "id": "Cb-sT_Qrr10W",
        "outputId": "deedb8d5-1795-4bcb-cbf0-68eea8585349"
      },
      "outputs": [
        {
          "output_type": "execute_result",
          "data": {
            "text/plain": [
              "                   Open         High          Low       Volume\n",
              "Date                                                          \n",
              "2020-04-01   153.200424   173.157272   150.359421   207.780884\n",
              "2020-04-02   172.279419   174.275909   169.751572   212.878677\n",
              "2020-04-03   171.618073   187.940475   171.618073   208.692368\n",
              "2020-04-04   186.861984   188.098923   180.120819   199.047729\n",
              "2020-04-05   181.480225   186.083542   170.321274   204.031128\n",
              "...                 ...          ...          ...          ...\n",
              "2022-03-04  2944.721680  2979.987061  2910.802246  3421.259766\n",
              "2022-03-05  2946.547607  2956.965576  2826.107422  3422.000977\n",
              "2022-03-06  2860.103271  2954.556641  2838.250488  3410.547607\n",
              "2022-03-07  2897.774170  3040.382812  2892.544434  3171.205078\n",
              "2022-03-08  2973.145020  3036.752197  2933.306641  3155.581055\n",
              "\n",
              "[707 rows x 4 columns]"
            ],
            "text/html": [
              "\n",
              "  <div id=\"df-31e74306-e112-43f5-8a35-6da39dafd915\">\n",
              "    <div class=\"colab-df-container\">\n",
              "      <div>\n",
              "<style scoped>\n",
              "    .dataframe tbody tr th:only-of-type {\n",
              "        vertical-align: middle;\n",
              "    }\n",
              "\n",
              "    .dataframe tbody tr th {\n",
              "        vertical-align: top;\n",
              "    }\n",
              "\n",
              "    .dataframe thead th {\n",
              "        text-align: right;\n",
              "    }\n",
              "</style>\n",
              "<table border=\"1\" class=\"dataframe\">\n",
              "  <thead>\n",
              "    <tr style=\"text-align: right;\">\n",
              "      <th></th>\n",
              "      <th>Open</th>\n",
              "      <th>High</th>\n",
              "      <th>Low</th>\n",
              "      <th>Volume</th>\n",
              "    </tr>\n",
              "    <tr>\n",
              "      <th>Date</th>\n",
              "      <th></th>\n",
              "      <th></th>\n",
              "      <th></th>\n",
              "      <th></th>\n",
              "    </tr>\n",
              "  </thead>\n",
              "  <tbody>\n",
              "    <tr>\n",
              "      <th>2020-04-01</th>\n",
              "      <td>153.200424</td>\n",
              "      <td>173.157272</td>\n",
              "      <td>150.359421</td>\n",
              "      <td>207.780884</td>\n",
              "    </tr>\n",
              "    <tr>\n",
              "      <th>2020-04-02</th>\n",
              "      <td>172.279419</td>\n",
              "      <td>174.275909</td>\n",
              "      <td>169.751572</td>\n",
              "      <td>212.878677</td>\n",
              "    </tr>\n",
              "    <tr>\n",
              "      <th>2020-04-03</th>\n",
              "      <td>171.618073</td>\n",
              "      <td>187.940475</td>\n",
              "      <td>171.618073</td>\n",
              "      <td>208.692368</td>\n",
              "    </tr>\n",
              "    <tr>\n",
              "      <th>2020-04-04</th>\n",
              "      <td>186.861984</td>\n",
              "      <td>188.098923</td>\n",
              "      <td>180.120819</td>\n",
              "      <td>199.047729</td>\n",
              "    </tr>\n",
              "    <tr>\n",
              "      <th>2020-04-05</th>\n",
              "      <td>181.480225</td>\n",
              "      <td>186.083542</td>\n",
              "      <td>170.321274</td>\n",
              "      <td>204.031128</td>\n",
              "    </tr>\n",
              "    <tr>\n",
              "      <th>...</th>\n",
              "      <td>...</td>\n",
              "      <td>...</td>\n",
              "      <td>...</td>\n",
              "      <td>...</td>\n",
              "    </tr>\n",
              "    <tr>\n",
              "      <th>2022-03-04</th>\n",
              "      <td>2944.721680</td>\n",
              "      <td>2979.987061</td>\n",
              "      <td>2910.802246</td>\n",
              "      <td>3421.259766</td>\n",
              "    </tr>\n",
              "    <tr>\n",
              "      <th>2022-03-05</th>\n",
              "      <td>2946.547607</td>\n",
              "      <td>2956.965576</td>\n",
              "      <td>2826.107422</td>\n",
              "      <td>3422.000977</td>\n",
              "    </tr>\n",
              "    <tr>\n",
              "      <th>2022-03-06</th>\n",
              "      <td>2860.103271</td>\n",
              "      <td>2954.556641</td>\n",
              "      <td>2838.250488</td>\n",
              "      <td>3410.547607</td>\n",
              "    </tr>\n",
              "    <tr>\n",
              "      <th>2022-03-07</th>\n",
              "      <td>2897.774170</td>\n",
              "      <td>3040.382812</td>\n",
              "      <td>2892.544434</td>\n",
              "      <td>3171.205078</td>\n",
              "    </tr>\n",
              "    <tr>\n",
              "      <th>2022-03-08</th>\n",
              "      <td>2973.145020</td>\n",
              "      <td>3036.752197</td>\n",
              "      <td>2933.306641</td>\n",
              "      <td>3155.581055</td>\n",
              "    </tr>\n",
              "  </tbody>\n",
              "</table>\n",
              "<p>707 rows × 4 columns</p>\n",
              "</div>\n",
              "      <button class=\"colab-df-convert\" onclick=\"convertToInteractive('df-31e74306-e112-43f5-8a35-6da39dafd915')\"\n",
              "              title=\"Convert this dataframe to an interactive table.\"\n",
              "              style=\"display:none;\">\n",
              "        \n",
              "  <svg xmlns=\"http://www.w3.org/2000/svg\" height=\"24px\"viewBox=\"0 0 24 24\"\n",
              "       width=\"24px\">\n",
              "    <path d=\"M0 0h24v24H0V0z\" fill=\"none\"/>\n",
              "    <path d=\"M18.56 5.44l.94 2.06.94-2.06 2.06-.94-2.06-.94-.94-2.06-.94 2.06-2.06.94zm-11 1L8.5 8.5l.94-2.06 2.06-.94-2.06-.94L8.5 2.5l-.94 2.06-2.06.94zm10 10l.94 2.06.94-2.06 2.06-.94-2.06-.94-.94-2.06-.94 2.06-2.06.94z\"/><path d=\"M17.41 7.96l-1.37-1.37c-.4-.4-.92-.59-1.43-.59-.52 0-1.04.2-1.43.59L10.3 9.45l-7.72 7.72c-.78.78-.78 2.05 0 2.83L4 21.41c.39.39.9.59 1.41.59.51 0 1.02-.2 1.41-.59l7.78-7.78 2.81-2.81c.8-.78.8-2.07 0-2.86zM5.41 20L4 18.59l7.72-7.72 1.47 1.35L5.41 20z\"/>\n",
              "  </svg>\n",
              "      </button>\n",
              "      \n",
              "  <style>\n",
              "    .colab-df-container {\n",
              "      display:flex;\n",
              "      flex-wrap:wrap;\n",
              "      gap: 12px;\n",
              "    }\n",
              "\n",
              "    .colab-df-convert {\n",
              "      background-color: #E8F0FE;\n",
              "      border: none;\n",
              "      border-radius: 50%;\n",
              "      cursor: pointer;\n",
              "      display: none;\n",
              "      fill: #1967D2;\n",
              "      height: 32px;\n",
              "      padding: 0 0 0 0;\n",
              "      width: 32px;\n",
              "    }\n",
              "\n",
              "    .colab-df-convert:hover {\n",
              "      background-color: #E2EBFA;\n",
              "      box-shadow: 0px 1px 2px rgba(60, 64, 67, 0.3), 0px 1px 3px 1px rgba(60, 64, 67, 0.15);\n",
              "      fill: #174EA6;\n",
              "    }\n",
              "\n",
              "    [theme=dark] .colab-df-convert {\n",
              "      background-color: #3B4455;\n",
              "      fill: #D2E3FC;\n",
              "    }\n",
              "\n",
              "    [theme=dark] .colab-df-convert:hover {\n",
              "      background-color: #434B5C;\n",
              "      box-shadow: 0px 1px 3px 1px rgba(0, 0, 0, 0.15);\n",
              "      filter: drop-shadow(0px 1px 2px rgba(0, 0, 0, 0.3));\n",
              "      fill: #FFFFFF;\n",
              "    }\n",
              "  </style>\n",
              "\n",
              "      <script>\n",
              "        const buttonEl =\n",
              "          document.querySelector('#df-31e74306-e112-43f5-8a35-6da39dafd915 button.colab-df-convert');\n",
              "        buttonEl.style.display =\n",
              "          google.colab.kernel.accessAllowed ? 'block' : 'none';\n",
              "\n",
              "        async function convertToInteractive(key) {\n",
              "          const element = document.querySelector('#df-31e74306-e112-43f5-8a35-6da39dafd915');\n",
              "          const dataTable =\n",
              "            await google.colab.kernel.invokeFunction('convertToInteractive',\n",
              "                                                     [key], {});\n",
              "          if (!dataTable) return;\n",
              "\n",
              "          const docLinkHtml = 'Like what you see? Visit the ' +\n",
              "            '<a target=\"_blank\" href=https://colab.research.google.com/notebooks/data_table.ipynb>data table notebook</a>'\n",
              "            + ' to learn more about interactive tables.';\n",
              "          element.innerHTML = '';\n",
              "          dataTable['output_type'] = 'display_data';\n",
              "          await google.colab.output.renderOutput(dataTable, element);\n",
              "          const docLink = document.createElement('div');\n",
              "          docLink.innerHTML = docLinkHtml;\n",
              "          element.appendChild(docLink);\n",
              "        }\n",
              "      </script>\n",
              "    </div>\n",
              "  </div>\n",
              "  "
            ]
          },
          "metadata": {},
          "execution_count": 28
        }
      ],
      "source": [
        "df['Open']=df.Open.shift(-15)\n",
        "df['High']=df.High.shift(-15)\n",
        "df['Low']=df.Low.shift(-15)\n",
        "df['Volume']=df.Low.shift(-15)\n",
        "df.dropna(inplace=True)\n",
        "X=df.copy()\n",
        "X.drop(\"Close\", axis=1, inplace=True)\n",
        "X"
      ]
    },
    {
      "cell_type": "code",
      "execution_count": null,
      "metadata": {
        "jupyter": {
          "outputs_hidden": false
        },
        "pycharm": {
          "name": "#%%\n"
        },
        "colab": {
          "base_uri": "https://localhost:8080/",
          "height": 1000
        },
        "id": "0MaHOuiKr10X",
        "outputId": "34eaccdf-1dd3-485f-9479-c9e334c7132d"
      },
      "outputs": [
        {
          "output_type": "execute_result",
          "data": {
            "text/plain": [
              "<matplotlib.axes._subplots.AxesSubplot at 0x7f101a06c690>"
            ]
          },
          "metadata": {},
          "execution_count": 29
        },
        {
          "output_type": "display_data",
          "data": {
            "text/plain": [
              "<Figure size 3600x1440 with 1 Axes>"
            ],
            "image/png": "[encoded data removed]"
          },
          "metadata": {
            "needs_background": "light"
          }
        }
      ],
      "source": [
        "# Define target vector\n",
        "y = df.Close\n",
        "df.Close.plot(figsize=(50, 20))\n"
      ]
    },
    {
      "cell_type": "code",
      "execution_count": null,
      "metadata": {
        "id": "jGQN3nUzr10X"
      },
      "outputs": [],
      "source": [
        "# Splitting into Train and Test sets\n",
        "#X_train, X_test, y_train, y_test = train_test_split(X, y, random_state=78)\n",
        "\n",
        "split = int(0.7 * len(X))\n",
        "X_train = X[: split]\n",
        "X_test = X[split:]\n",
        "y_train = y[: split]\n",
        "y_test = y[split:]\n",
        "\n",
        "# Creating StandardScaler instance\n",
        "scaler = StandardScaler()\n",
        "\n",
        "# Fitting Standard Scaler\n",
        "X_scaler = scaler.fit(X_train)\n",
        "\n",
        "# Scaling data\n",
        "X_train_scaled = X_scaler.transform(X_train)\n",
        "X_test_scaled = X_scaler.transform(X_test)"
      ]
    },
    {
      "cell_type": "code",
      "execution_count": null,
      "metadata": {
        "colab": {
          "base_uri": "https://localhost:8080/",
          "height": 450
        },
        "id": "qBt1eotir10Y",
        "outputId": "4dbf4ae4-256e-4d20-d533-c55b7adc15a6"
      },
      "outputs": [
        {
          "output_type": "execute_result",
          "data": {
            "text/plain": [
              "                  Close\n",
              "Date                   \n",
              "2021-08-08  3013.732666\n",
              "2021-08-09  3167.856201\n",
              "2021-08-10  3141.691162\n",
              "2021-08-11  3164.245117\n",
              "2021-08-12  3043.414307\n",
              "...                 ...\n",
              "2022-03-04  2617.156006\n",
              "2022-03-05  2664.831055\n",
              "2022-03-06  2555.037354\n",
              "2022-03-07  2497.771240\n",
              "2022-03-08  2576.747559\n",
              "\n",
              "[213 rows x 1 columns]"
            ],
            "text/html": [
              "\n",
              "  <div id=\"df-82425382-ad49-49a7-8572-bdb637dc6442\">\n",
              "    <div class=\"colab-df-container\">\n",
              "      <div>\n",
              "<style scoped>\n",
              "    .dataframe tbody tr th:only-of-type {\n",
              "        vertical-align: middle;\n",
              "    }\n",
              "\n",
              "    .dataframe tbody tr th {\n",
              "        vertical-align: top;\n",
              "    }\n",
              "\n",
              "    .dataframe thead th {\n",
              "        text-align: right;\n",
              "    }\n",
              "</style>\n",
              "<table border=\"1\" class=\"dataframe\">\n",
              "  <thead>\n",
              "    <tr style=\"text-align: right;\">\n",
              "      <th></th>\n",
              "      <th>Close</th>\n",
              "    </tr>\n",
              "    <tr>\n",
              "      <th>Date</th>\n",
              "      <th></th>\n",
              "    </tr>\n",
              "  </thead>\n",
              "  <tbody>\n",
              "    <tr>\n",
              "      <th>2021-08-08</th>\n",
              "      <td>3013.732666</td>\n",
              "    </tr>\n",
              "    <tr>\n",
              "      <th>2021-08-09</th>\n",
              "      <td>3167.856201</td>\n",
              "    </tr>\n",
              "    <tr>\n",
              "      <th>2021-08-10</th>\n",
              "      <td>3141.691162</td>\n",
              "    </tr>\n",
              "    <tr>\n",
              "      <th>2021-08-11</th>\n",
              "      <td>3164.245117</td>\n",
              "    </tr>\n",
              "    <tr>\n",
              "      <th>2021-08-12</th>\n",
              "      <td>3043.414307</td>\n",
              "    </tr>\n",
              "    <tr>\n",
              "      <th>...</th>\n",
              "      <td>...</td>\n",
              "    </tr>\n",
              "    <tr>\n",
              "      <th>2022-03-04</th>\n",
              "      <td>2617.156006</td>\n",
              "    </tr>\n",
              "    <tr>\n",
              "      <th>2022-03-05</th>\n",
              "      <td>2664.831055</td>\n",
              "    </tr>\n",
              "    <tr>\n",
              "      <th>2022-03-06</th>\n",
              "      <td>2555.037354</td>\n",
              "    </tr>\n",
              "    <tr>\n",
              "      <th>2022-03-07</th>\n",
              "      <td>2497.771240</td>\n",
              "    </tr>\n",
              "    <tr>\n",
              "      <th>2022-03-08</th>\n",
              "      <td>2576.747559</td>\n",
              "    </tr>\n",
              "  </tbody>\n",
              "</table>\n",
              "<p>213 rows × 1 columns</p>\n",
              "</div>\n",
              "      <button class=\"colab-df-convert\" onclick=\"convertToInteractive('df-82425382-ad49-49a7-8572-bdb637dc6442')\"\n",
              "              title=\"Convert this dataframe to an interactive table.\"\n",
              "              style=\"display:none;\">\n",
              "        \n",
              "  <svg xmlns=\"http://www.w3.org/2000/svg\" height=\"24px\"viewBox=\"0 0 24 24\"\n",
              "       width=\"24px\">\n",
              "    <path d=\"M0 0h24v24H0V0z\" fill=\"none\"/>\n",
              "    <path d=\"M18.56 5.44l.94 2.06.94-2.06 2.06-.94-2.06-.94-.94-2.06-.94 2.06-2.06.94zm-11 1L8.5 8.5l.94-2.06 2.06-.94-2.06-.94L8.5 2.5l-.94 2.06-2.06.94zm10 10l.94 2.06.94-2.06 2.06-.94-2.06-.94-.94-2.06-.94 2.06-2.06.94z\"/><path d=\"M17.41 7.96l-1.37-1.37c-.4-.4-.92-.59-1.43-.59-.52 0-1.04.2-1.43.59L10.3 9.45l-7.72 7.72c-.78.78-.78 2.05 0 2.83L4 21.41c.39.39.9.59 1.41.59.51 0 1.02-.2 1.41-.59l7.78-7.78 2.81-2.81c.8-.78.8-2.07 0-2.86zM5.41 20L4 18.59l7.72-7.72 1.47 1.35L5.41 20z\"/>\n",
              "  </svg>\n",
              "      </button>\n",
              "      \n",
              "  <style>\n",
              "    .colab-df-container {\n",
              "      display:flex;\n",
              "      flex-wrap:wrap;\n",
              "      gap: 12px;\n",
              "    }\n",
              "\n",
              "    .colab-df-convert {\n",
              "      background-color: #E8F0FE;\n",
              "      border: none;\n",
              "      border-radius: 50%;\n",
              "      cursor: pointer;\n",
              "      display: none;\n",
              "      fill: #1967D2;\n",
              "      height: 32px;\n",
              "      padding: 0 0 0 0;\n",
              "      width: 32px;\n",
              "    }\n",
              "\n",
              "    .colab-df-convert:hover {\n",
              "      background-color: #E2EBFA;\n",
              "      box-shadow: 0px 1px 2px rgba(60, 64, 67, 0.3), 0px 1px 3px 1px rgba(60, 64, 67, 0.15);\n",
              "      fill: #174EA6;\n",
              "    }\n",
              "\n",
              "    [theme=dark] .colab-df-convert {\n",
              "      background-color: #3B4455;\n",
              "      fill: #D2E3FC;\n",
              "    }\n",
              "\n",
              "    [theme=dark] .colab-df-convert:hover {\n",
              "      background-color: #434B5C;\n",
              "      box-shadow: 0px 1px 3px 1px rgba(0, 0, 0, 0.15);\n",
              "      filter: drop-shadow(0px 1px 2px rgba(0, 0, 0, 0.3));\n",
              "      fill: #FFFFFF;\n",
              "    }\n",
              "  </style>\n",
              "\n",
              "      <script>\n",
              "        const buttonEl =\n",
              "          document.querySelector('#df-82425382-ad49-49a7-8572-bdb637dc6442 button.colab-df-convert');\n",
              "        buttonEl.style.display =\n",
              "          google.colab.kernel.accessAllowed ? 'block' : 'none';\n",
              "\n",
              "        async function convertToInteractive(key) {\n",
              "          const element = document.querySelector('#df-82425382-ad49-49a7-8572-bdb637dc6442');\n",
              "          const dataTable =\n",
              "            await google.colab.kernel.invokeFunction('convertToInteractive',\n",
              "                                                     [key], {});\n",
              "          if (!dataTable) return;\n",
              "\n",
              "          const docLinkHtml = 'Like what you see? Visit the ' +\n",
              "            '<a target=\"_blank\" href=https://colab.research.google.com/notebooks/data_table.ipynb>data table notebook</a>'\n",
              "            + ' to learn more about interactive tables.';\n",
              "          element.innerHTML = '';\n",
              "          dataTable['output_type'] = 'display_data';\n",
              "          await google.colab.output.renderOutput(dataTable, element);\n",
              "          const docLink = document.createElement('div');\n",
              "          docLink.innerHTML = docLinkHtml;\n",
              "          element.appendChild(docLink);\n",
              "        }\n",
              "      </script>\n",
              "    </div>\n",
              "  </div>\n",
              "  "
            ]
          },
          "metadata": {},
          "execution_count": 31
        }
      ],
      "source": [
        "pd.DataFrame(y_test)"
      ]
    },
    {
      "cell_type": "markdown",
      "metadata": {
        "id": "cT2unoVdr10Y"
      },
      "source": [
        "  ### Choose best learning rate"
      ]
    },
    {
      "cell_type": "markdown",
      "metadata": {
        "id": "lIOURwqXr10Y"
      },
      "source": [
        "  ### Create Gradient Boosting Classifier"
      ]
    },
    {
      "cell_type": "code",
      "source": [
        "from hpbandster_sklearn import HpBandSterSearchCV\n",
        "\n",
        "param_distributions = {\"max_depth\": list(range(1, 10)), \"learning_rate\":[0,0.25,.5,.75,1]}\n",
        "model = xgb.XGBRegressor(objective ='reg:linear')\n",
        "\n",
        "\n",
        "\n",
        "search = HpBandSterSearchCV(model, param_distributions,random_state=0, n_jobs=1, n_iter=10, verbose=1).fit(X_train_scaled, y_train.ravel())\n",
        "search.best_params_"
      ],
      "metadata": {
        "colab": {
          "base_uri": "https://localhost:8080/"
        },
        "id": "39JaMt8Qum4f",
        "outputId": "97b9aa80-f392-4b76-e0b1-01266de5bfd9"
      },
      "execution_count": null,
      "outputs": [
        {
          "output_type": "stream",
          "name": "stderr",
          "text": [
            "WORKER: start listening for jobs\n",
            "HBMASTER: adjusted queue size to (0, 1)\n",
            "HBMASTER: starting run at 1650076365.3198798\n",
            "WORKER: start processing job (0, 0, 0)\n",
            "WORKER: registered result for job (0, 0, 0) with dispatcher\n",
            "WORKER: start processing job (0, 0, 1)\n",
            "WORKER: registered result for job (0, 0, 1) with dispatcher\n",
            "WORKER: start processing job (0, 0, 2)\n"
          ]
        },
        {
          "output_type": "stream",
          "name": "stdout",
          "text": [
            "{'base_score': 0.5, 'booster': 'gbtree', 'colsample_bylevel': 1, 'colsample_bynode': 1, 'colsample_bytree': 1, 'gamma': 0, 'importance_type': 'gain', 'learning_rate': 0.25, 'max_delta_step': 0, 'max_depth': 8, 'min_child_weight': 1, 'missing': None, 'n_estimators': 11, 'n_jobs': 1, 'nthread': None, 'objective': 'reg:linear', 'random_state': 0, 'reg_alpha': 0, 'reg_lambda': 1, 'scale_pos_weight': 1, 'seed': None, 'silent': None, 'subsample': 1, 'verbosity': 1, 'warm_start': True}\n",
            "{'base_score': 0.5, 'booster': 'gbtree', 'colsample_bylevel': 1, 'colsample_bynode': 1, 'colsample_bytree': 1, 'gamma': 0, 'importance_type': 'gain', 'learning_rate': 1, 'max_delta_step': 0, 'max_depth': 2, 'min_child_weight': 1, 'missing': None, 'n_estimators': 11, 'n_jobs': 1, 'nthread': None, 'objective': 'reg:linear', 'random_state': 0, 'reg_alpha': 0, 'reg_lambda': 1, 'scale_pos_weight': 1, 'seed': None, 'silent': None, 'subsample': 1, 'verbosity': 1, 'warm_start': True}\n",
            "{'base_score': 0.5, 'booster': 'gbtree', 'colsample_bylevel': 1, 'colsample_bynode': 1, 'colsample_bytree': 1, 'gamma': 0, 'importance_type': 'gain', 'learning_rate': 0, 'max_delta_step': 0, 'max_depth': 5, 'min_child_weight': 1, 'missing': None, 'n_estimators': 11, 'n_jobs': 1, 'nthread': None, 'objective': 'reg:linear', 'random_state': 0, 'reg_alpha': 0, 'reg_lambda': 1, 'scale_pos_weight': 1, 'seed': None, 'silent': None, 'subsample': 1, 'verbosity': 1, 'warm_start': True}\n"
          ]
        },
        {
          "output_type": "stream",
          "name": "stderr",
          "text": [
            "WORKER: registered result for job (0, 0, 2) with dispatcher\n",
            "WORKER: start processing job (0, 0, 3)\n",
            "WORKER: registered result for job (0, 0, 3) with dispatcher\n",
            "WORKER: start processing job (0, 0, 4)\n",
            "WORKER: registered result for job (0, 0, 4) with dispatcher\n",
            "WORKER: start processing job (0, 0, 5)\n"
          ]
        },
        {
          "output_type": "stream",
          "name": "stdout",
          "text": [
            "{'base_score': 0.5, 'booster': 'gbtree', 'colsample_bylevel': 1, 'colsample_bynode': 1, 'colsample_bytree': 1, 'gamma': 0, 'importance_type': 'gain', 'learning_rate': 0, 'max_delta_step': 0, 'max_depth': 2, 'min_child_weight': 1, 'missing': None, 'n_estimators': 11, 'n_jobs': 1, 'nthread': None, 'objective': 'reg:linear', 'random_state': 0, 'reg_alpha': 0, 'reg_lambda': 1, 'scale_pos_weight': 1, 'seed': None, 'silent': None, 'subsample': 1, 'verbosity': 1, 'warm_start': True}\n",
            "{'base_score': 0.5, 'booster': 'gbtree', 'colsample_bylevel': 1, 'colsample_bynode': 1, 'colsample_bytree': 1, 'gamma': 0, 'importance_type': 'gain', 'learning_rate': 0, 'max_delta_step': 0, 'max_depth': 6, 'min_child_weight': 1, 'missing': None, 'n_estimators': 11, 'n_jobs': 1, 'nthread': None, 'objective': 'reg:linear', 'random_state': 0, 'reg_alpha': 0, 'reg_lambda': 1, 'scale_pos_weight': 1, 'seed': None, 'silent': None, 'subsample': 1, 'verbosity': 1, 'warm_start': True}\n",
            "{'base_score': 0.5, 'booster': 'gbtree', 'colsample_bylevel': 1, 'colsample_bynode': 1, 'colsample_bytree': 1, 'gamma': 0, 'importance_type': 'gain', 'learning_rate': 0, 'max_delta_step': 0, 'max_depth': 7, 'min_child_weight': 1, 'missing': None, 'n_estimators': 11, 'n_jobs': 1, 'nthread': None, 'objective': 'reg:linear', 'random_state': 0, 'reg_alpha': 0, 'reg_lambda': 1, 'scale_pos_weight': 1, 'seed': None, 'silent': None, 'subsample': 1, 'verbosity': 1, 'warm_start': True}\n"
          ]
        },
        {
          "output_type": "stream",
          "name": "stderr",
          "text": [
            "WORKER: registered result for job (0, 0, 5) with dispatcher\n",
            "/usr/local/lib/python3.7/dist-packages/statsmodels/nonparametric/kernels.py:64: RuntimeWarning: divide by zero encountered in true_divide\n",
            "  kernel_value = np.ones(Xi.size) * h / (num_levels - 1)\n",
            "sampled vector: [3, 3] has EI value inf\n",
            "data in the KDEs:\n",
            "[[1. 7.]\n",
            " [4. 1.]\n",
            " [0. 4.]]\n",
            "[[0. 1.]\n",
            " [0. 5.]\n",
            " [0. 6.]]\n",
            "bandwidth of the KDEs:\n",
            "[1.50020661 2.16202784]\n",
            "[1.00000000e-03 1.90672933e+00]\n",
            "l(x) = 0.8108721143531382\n",
            "g(x) = inf\n",
            "WORKER: start processing job (0, 0, 6)\n",
            "WORKER: registered result for job (0, 0, 6) with dispatcher\n",
            "/usr/local/lib/python3.7/dist-packages/statsmodels/nonparametric/kernels.py:64: RuntimeWarning: divide by zero encountered in true_divide\n",
            "  kernel_value = np.ones(Xi.size) * h / (num_levels - 1)\n",
            "sampled vector: [1, 3] has EI value inf\n",
            "data in the KDEs:\n",
            "[[1. 7.]\n",
            " [3. 3.]\n",
            " [4. 1.]]\n",
            "[[0. 4.]\n",
            " [0. 1.]\n",
            " [0. 5.]\n",
            " [0. 6.]]\n",
            "bandwidth of the KDEs:\n",
            "[1.10085069 2.20170138]\n",
            "[1.00000000e-03 1.57397038e+00]\n",
            "l(x) = -0.05551077629108914\n",
            "g(x) = inf\n",
            "WORKER: start processing job (0, 0, 7)\n",
            "WORKER: registered result for job (0, 0, 7) with dispatcher\n"
          ]
        },
        {
          "output_type": "stream",
          "name": "stdout",
          "text": [
            "{'base_score': 0.5, 'booster': 'gbtree', 'colsample_bylevel': 1, 'colsample_bynode': 1, 'colsample_bytree': 1, 'gamma': 0, 'importance_type': 'gain', 'learning_rate': 0.75, 'max_delta_step': 0, 'max_depth': 4, 'min_child_weight': 1, 'missing': None, 'n_estimators': 11, 'n_jobs': 1, 'nthread': None, 'objective': 'reg:linear', 'random_state': 0, 'reg_alpha': 0, 'reg_lambda': 1, 'scale_pos_weight': 1, 'seed': None, 'silent': None, 'subsample': 1, 'verbosity': 1, 'warm_start': True}\n",
            "{'base_score': 0.5, 'booster': 'gbtree', 'colsample_bylevel': 1, 'colsample_bynode': 1, 'colsample_bytree': 1, 'gamma': 0, 'importance_type': 'gain', 'learning_rate': 0.25, 'max_delta_step': 0, 'max_depth': 4, 'min_child_weight': 1, 'missing': None, 'n_estimators': 11, 'n_jobs': 1, 'nthread': None, 'objective': 'reg:linear', 'random_state': 0, 'reg_alpha': 0, 'reg_lambda': 1, 'scale_pos_weight': 1, 'seed': None, 'silent': None, 'subsample': 1, 'verbosity': 1, 'warm_start': True}\n"
          ]
        },
        {
          "output_type": "stream",
          "name": "stderr",
          "text": [
            "WORKER: start processing job (0, 0, 8)\n",
            "WORKER: registered result for job (0, 0, 8) with dispatcher\n",
            "WORKER: start processing job (0, 0, 0)\n"
          ]
        },
        {
          "output_type": "stream",
          "name": "stdout",
          "text": [
            "{'base_score': 0.5, 'booster': 'gbtree', 'colsample_bylevel': 1, 'colsample_bynode': 1, 'colsample_bytree': 1, 'gamma': 0, 'importance_type': 'gain', 'learning_rate': 0, 'max_delta_step': 0, 'max_depth': 2, 'min_child_weight': 1, 'missing': None, 'n_estimators': 11, 'n_jobs': 1, 'nthread': None, 'objective': 'reg:linear', 'random_state': 0, 'reg_alpha': 0, 'reg_lambda': 1, 'scale_pos_weight': 1, 'seed': None, 'silent': None, 'subsample': 1, 'verbosity': 1, 'warm_start': True}\n",
            "{'base_score': 0.5, 'booster': 'gbtree', 'colsample_bylevel': 1, 'colsample_bynode': 1, 'colsample_bytree': 1, 'gamma': 0, 'importance_type': 'gain', 'learning_rate': 0.25, 'max_delta_step': 0, 'max_depth': 8, 'min_child_weight': 1, 'missing': None, 'n_estimators': 33, 'n_jobs': 1, 'nthread': None, 'objective': 'reg:linear', 'random_state': 0, 'reg_alpha': 0, 'reg_lambda': 1, 'scale_pos_weight': 1, 'seed': None, 'silent': None, 'subsample': 1, 'verbosity': 1, 'warm_start': True}\n"
          ]
        },
        {
          "output_type": "stream",
          "name": "stderr",
          "text": [
            "WORKER: registered result for job (0, 0, 0) with dispatcher\n",
            "WORKER: start processing job (0, 0, 7)\n",
            "WORKER: registered result for job (0, 0, 7) with dispatcher\n",
            "WORKER: start processing job (0, 0, 8)\n"
          ]
        },
        {
          "output_type": "stream",
          "name": "stdout",
          "text": [
            "{'base_score': 0.5, 'booster': 'gbtree', 'colsample_bylevel': 1, 'colsample_bynode': 1, 'colsample_bytree': 1, 'gamma': 0, 'importance_type': 'gain', 'learning_rate': 0.25, 'max_delta_step': 0, 'max_depth': 4, 'min_child_weight': 1, 'missing': None, 'n_estimators': 33, 'n_jobs': 1, 'nthread': None, 'objective': 'reg:linear', 'random_state': 0, 'reg_alpha': 0, 'reg_lambda': 1, 'scale_pos_weight': 1, 'seed': None, 'silent': None, 'subsample': 1, 'verbosity': 1, 'warm_start': True}\n",
            "{'base_score': 0.5, 'booster': 'gbtree', 'colsample_bylevel': 1, 'colsample_bynode': 1, 'colsample_bytree': 1, 'gamma': 0, 'importance_type': 'gain', 'learning_rate': 0, 'max_delta_step': 0, 'max_depth': 2, 'min_child_weight': 1, 'missing': None, 'n_estimators': 33, 'n_jobs': 1, 'nthread': None, 'objective': 'reg:linear', 'random_state': 0, 'reg_alpha': 0, 'reg_lambda': 1, 'scale_pos_weight': 1, 'seed': None, 'silent': None, 'subsample': 1, 'verbosity': 1, 'warm_start': True}\n"
          ]
        },
        {
          "output_type": "stream",
          "name": "stderr",
          "text": [
            "WORKER: registered result for job (0, 0, 8) with dispatcher\n",
            "WORKER: start processing job (0, 0, 7)\n"
          ]
        },
        {
          "output_type": "stream",
          "name": "stdout",
          "text": [
            "{'base_score': 0.5, 'booster': 'gbtree', 'colsample_bylevel': 1, 'colsample_bynode': 1, 'colsample_bytree': 1, 'gamma': 0, 'importance_type': 'gain', 'learning_rate': 0.25, 'max_delta_step': 0, 'max_depth': 4, 'min_child_weight': 1, 'missing': None, 'n_estimators': 100, 'n_jobs': 1, 'nthread': None, 'objective': 'reg:linear', 'random_state': 0, 'reg_alpha': 0, 'reg_lambda': 1, 'scale_pos_weight': 1, 'seed': None, 'silent': None, 'subsample': 1, 'verbosity': 1, 'warm_start': True}\n"
          ]
        },
        {
          "output_type": "stream",
          "name": "stderr",
          "text": [
            "WORKER: registered result for job (0, 0, 7) with dispatcher\n",
            "WORKER: start processing job (1, 0, 0)\n",
            "WORKER: registered result for job (1, 0, 0) with dispatcher\n",
            "WORKER: start processing job (1, 0, 1)\n"
          ]
        },
        {
          "output_type": "stream",
          "name": "stdout",
          "text": [
            "{'base_score': 0.5, 'booster': 'gbtree', 'colsample_bylevel': 1, 'colsample_bynode': 1, 'colsample_bytree': 1, 'gamma': 0, 'importance_type': 'gain', 'learning_rate': 0, 'max_delta_step': 0, 'max_depth': 8, 'min_child_weight': 1, 'missing': None, 'n_estimators': 33, 'n_jobs': 1, 'nthread': None, 'objective': 'reg:linear', 'random_state': 0, 'reg_alpha': 0, 'reg_lambda': 1, 'scale_pos_weight': 1, 'seed': None, 'silent': None, 'subsample': 1, 'verbosity': 1, 'warm_start': True}\n",
            "{'base_score': 0.5, 'booster': 'gbtree', 'colsample_bylevel': 1, 'colsample_bynode': 1, 'colsample_bytree': 1, 'gamma': 0, 'importance_type': 'gain', 'learning_rate': 0, 'max_delta_step': 0, 'max_depth': 4, 'min_child_weight': 1, 'missing': None, 'n_estimators': 33, 'n_jobs': 1, 'nthread': None, 'objective': 'reg:linear', 'random_state': 0, 'reg_alpha': 0, 'reg_lambda': 1, 'scale_pos_weight': 1, 'seed': None, 'silent': None, 'subsample': 1, 'verbosity': 1, 'warm_start': True}\n"
          ]
        },
        {
          "output_type": "stream",
          "name": "stderr",
          "text": [
            "WORKER: registered result for job (1, 0, 1) with dispatcher\n",
            "WORKER: start processing job (1, 0, 2)\n",
            "WORKER: registered result for job (1, 0, 2) with dispatcher\n"
          ]
        },
        {
          "output_type": "stream",
          "name": "stdout",
          "text": [
            "{'base_score': 0.5, 'booster': 'gbtree', 'colsample_bylevel': 1, 'colsample_bynode': 1, 'colsample_bytree': 1, 'gamma': 0, 'importance_type': 'gain', 'learning_rate': 0, 'max_delta_step': 0, 'max_depth': 4, 'min_child_weight': 1, 'missing': None, 'n_estimators': 33, 'n_jobs': 1, 'nthread': None, 'objective': 'reg:linear', 'random_state': 0, 'reg_alpha': 0, 'reg_lambda': 1, 'scale_pos_weight': 1, 'seed': None, 'silent': None, 'subsample': 1, 'verbosity': 1, 'warm_start': True}\n"
          ]
        },
        {
          "output_type": "stream",
          "name": "stderr",
          "text": [
            "WORKER: start processing job (1, 0, 0)\n"
          ]
        },
        {
          "output_type": "stream",
          "name": "stdout",
          "text": [
            "{'base_score': 0.5, 'booster': 'gbtree', 'colsample_bylevel': 1, 'colsample_bynode': 1, 'colsample_bytree': 1, 'gamma': 0, 'importance_type': 'gain', 'learning_rate': 0, 'max_delta_step': 0, 'max_depth': 8, 'min_child_weight': 1, 'missing': None, 'n_estimators': 100, 'n_jobs': 1, 'nthread': None, 'objective': 'reg:linear', 'random_state': 0, 'reg_alpha': 0, 'reg_lambda': 1, 'scale_pos_weight': 1, 'seed': None, 'silent': None, 'subsample': 1, 'verbosity': 1, 'warm_start': True}\n"
          ]
        },
        {
          "output_type": "stream",
          "name": "stderr",
          "text": [
            "WORKER: registered result for job (1, 0, 0) with dispatcher\n",
            "/usr/local/lib/python3.7/dist-packages/statsmodels/nonparametric/kernels.py:64: RuntimeWarning: divide by zero encountered in true_divide\n",
            "  kernel_value = np.ones(Xi.size) * h / (num_levels - 1)\n",
            "/usr/local/lib/python3.7/dist-packages/numpy/core/_methods.py:48: RuntimeWarning: invalid value encountered in reduce\n",
            "  return umr_sum(a, axis, dtype, out, keepdims, initial, where)\n",
            "sampled vector: [1, 4] has EI value inf\n",
            "data in the KDEs:\n",
            "[[1. 3.]\n",
            " [0. 1.]\n",
            " [1. 7.]]\n",
            "[[0. 7.]\n",
            " [0. 3.]\n",
            " [0. 3.]]\n",
            "bandwidth of the KDEs:\n",
            "[0.41608245 2.20170138]\n",
            "[1.0000000e-03 1.6643298e+00]\n",
            "l(x) = 0.5812189092348223\n",
            "g(x) = inf\n",
            "WORKER: start processing job (2, 0, 0)\n"
          ]
        },
        {
          "output_type": "stream",
          "name": "stdout",
          "text": [
            "{'base_score': 0.5, 'booster': 'gbtree', 'colsample_bylevel': 1, 'colsample_bynode': 1, 'colsample_bytree': 1, 'gamma': 0, 'importance_type': 'gain', 'learning_rate': 0.25, 'max_delta_step': 0, 'max_depth': 5, 'min_child_weight': 1, 'missing': None, 'n_estimators': 100, 'n_jobs': 1, 'nthread': None, 'objective': 'reg:linear', 'random_state': 0, 'reg_alpha': 0, 'reg_lambda': 1, 'scale_pos_weight': 1, 'seed': None, 'silent': None, 'subsample': 1, 'verbosity': 1, 'warm_start': True}\n"
          ]
        },
        {
          "output_type": "stream",
          "name": "stderr",
          "text": [
            "WORKER: registered result for job (2, 0, 0) with dispatcher\n",
            "WORKER: start processing job (2, 0, 1)\n"
          ]
        },
        {
          "output_type": "stream",
          "name": "stdout",
          "text": [
            "{'base_score': 0.5, 'booster': 'gbtree', 'colsample_bylevel': 1, 'colsample_bynode': 1, 'colsample_bytree': 1, 'gamma': 0, 'importance_type': 'gain', 'learning_rate': 1, 'max_delta_step': 0, 'max_depth': 7, 'min_child_weight': 1, 'missing': None, 'n_estimators': 100, 'n_jobs': 1, 'nthread': None, 'objective': 'reg:linear', 'random_state': 0, 'reg_alpha': 0, 'reg_lambda': 1, 'scale_pos_weight': 1, 'seed': None, 'silent': None, 'subsample': 1, 'verbosity': 1, 'warm_start': True}\n"
          ]
        },
        {
          "output_type": "stream",
          "name": "stderr",
          "text": [
            "WORKER: registered result for job (2, 0, 1) with dispatcher\n",
            "/usr/local/lib/python3.7/dist-packages/statsmodels/nonparametric/kernels.py:64: RuntimeWarning: divide by zero encountered in true_divide\n",
            "  kernel_value = np.ones(Xi.size) * h / (num_levels - 1)\n",
            "/usr/local/lib/python3.7/dist-packages/numpy/core/_methods.py:48: RuntimeWarning: invalid value encountered in reduce\n",
            "  return umr_sum(a, axis, dtype, out, keepdims, initial, where)\n",
            "sampled vector: [1, 8] has EI value inf\n",
            "data in the KDEs:\n",
            "[[1. 3.]\n",
            " [0. 1.]\n",
            " [1. 7.]]\n",
            "[[0. 7.]\n",
            " [0. 3.]\n",
            " [0. 3.]]\n",
            "bandwidth of the KDEs:\n",
            "[0.41608245 2.20170138]\n",
            "[1.0000000e-03 1.6643298e+00]\n",
            "l(x) = 0.5812189092348223\n",
            "g(x) = inf\n",
            "WORKER: start processing job (2, 0, 2)\n"
          ]
        },
        {
          "output_type": "stream",
          "name": "stdout",
          "text": [
            "{'base_score': 0.5, 'booster': 'gbtree', 'colsample_bylevel': 1, 'colsample_bynode': 1, 'colsample_bytree': 1, 'gamma': 0, 'importance_type': 'gain', 'learning_rate': 0.25, 'max_delta_step': 0, 'max_depth': 9, 'min_child_weight': 1, 'missing': None, 'n_estimators': 100, 'n_jobs': 1, 'nthread': None, 'objective': 'reg:linear', 'random_state': 0, 'reg_alpha': 0, 'reg_lambda': 1, 'scale_pos_weight': 1, 'seed': None, 'silent': None, 'subsample': 1, 'verbosity': 1, 'warm_start': True}\n"
          ]
        },
        {
          "output_type": "stream",
          "name": "stderr",
          "text": [
            "WORKER: registered result for job (2, 0, 2) with dispatcher\n",
            "/usr/local/lib/python3.7/dist-packages/statsmodels/nonparametric/kernels.py:64: RuntimeWarning: divide by zero encountered in true_divide\n",
            "  kernel_value = np.ones(Xi.size) * h / (num_levels - 1)\n",
            "sampled vector: [1, 0] has EI value inf\n",
            "data in the KDEs:\n",
            "[[1. 3.]\n",
            " [0. 1.]\n",
            " [1. 7.]]\n",
            "[[0. 7.]\n",
            " [0. 3.]\n",
            " [0. 3.]]\n",
            "bandwidth of the KDEs:\n",
            "[0.41608245 2.20170138]\n",
            "[1.0000000e-03 1.6643298e+00]\n",
            "l(x) = 0.5812189092348223\n",
            "g(x) = inf\n",
            "WORKER: start processing job (3, 0, 0)\n",
            "WORKER: registered result for job (3, 0, 0) with dispatcher\n",
            "WORKER: start processing job (3, 0, 1)\n"
          ]
        },
        {
          "output_type": "stream",
          "name": "stdout",
          "text": [
            "{'base_score': 0.5, 'booster': 'gbtree', 'colsample_bylevel': 1, 'colsample_bynode': 1, 'colsample_bytree': 1, 'gamma': 0, 'importance_type': 'gain', 'learning_rate': 0.25, 'max_delta_step': 0, 'max_depth': 1, 'min_child_weight': 1, 'missing': None, 'n_estimators': 11, 'n_jobs': 1, 'nthread': None, 'objective': 'reg:linear', 'random_state': 0, 'reg_alpha': 0, 'reg_lambda': 1, 'scale_pos_weight': 1, 'seed': None, 'silent': None, 'subsample': 1, 'verbosity': 1, 'warm_start': True}\n",
            "{'base_score': 0.5, 'booster': 'gbtree', 'colsample_bylevel': 1, 'colsample_bynode': 1, 'colsample_bytree': 1, 'gamma': 0, 'importance_type': 'gain', 'learning_rate': 1, 'max_delta_step': 0, 'max_depth': 9, 'min_child_weight': 1, 'missing': None, 'n_estimators': 11, 'n_jobs': 1, 'nthread': None, 'objective': 'reg:linear', 'random_state': 0, 'reg_alpha': 0, 'reg_lambda': 1, 'scale_pos_weight': 1, 'seed': None, 'silent': None, 'subsample': 1, 'verbosity': 1, 'warm_start': True}\n"
          ]
        },
        {
          "output_type": "stream",
          "name": "stderr",
          "text": [
            "WORKER: registered result for job (3, 0, 1) with dispatcher\n",
            "/usr/local/lib/python3.7/dist-packages/statsmodels/nonparametric/kernels.py:64: RuntimeWarning: divide by zero encountered in true_divide\n",
            "  kernel_value = np.ones(Xi.size) * h / (num_levels - 1)\n",
            "sampled vector: [1, 8] has EI value inf\n",
            "data in the KDEs:\n",
            "[[1. 3.]\n",
            " [0. 1.]\n",
            " [1. 7.]]\n",
            "[[0. 7.]\n",
            " [0. 3.]\n",
            " [0. 3.]]\n",
            "bandwidth of the KDEs:\n",
            "[0.41608245 2.20170138]\n",
            "[1.0000000e-03 1.6643298e+00]\n",
            "l(x) = 0.5812189092348223\n",
            "g(x) = inf\n",
            "WORKER: start processing job (3, 0, 2)\n",
            "WORKER: registered result for job (3, 0, 2) with dispatcher\n"
          ]
        },
        {
          "output_type": "stream",
          "name": "stdout",
          "text": [
            "{'base_score': 0.5, 'booster': 'gbtree', 'colsample_bylevel': 1, 'colsample_bynode': 1, 'colsample_bytree': 1, 'gamma': 0, 'importance_type': 'gain', 'learning_rate': 0.25, 'max_delta_step': 0, 'max_depth': 9, 'min_child_weight': 1, 'missing': None, 'n_estimators': 11, 'n_jobs': 1, 'nthread': None, 'objective': 'reg:linear', 'random_state': 0, 'reg_alpha': 0, 'reg_lambda': 1, 'scale_pos_weight': 1, 'seed': None, 'silent': None, 'subsample': 1, 'verbosity': 1, 'warm_start': True}\n"
          ]
        },
        {
          "output_type": "stream",
          "name": "stderr",
          "text": [
            "/usr/local/lib/python3.7/dist-packages/statsmodels/nonparametric/kernels.py:64: RuntimeWarning: divide by zero encountered in true_divide\n",
            "  kernel_value = np.ones(Xi.size) * h / (num_levels - 1)\n",
            "/usr/local/lib/python3.7/dist-packages/numpy/core/_methods.py:48: RuntimeWarning: invalid value encountered in reduce\n",
            "  return umr_sum(a, axis, dtype, out, keepdims, initial, where)\n",
            "sampled vector: [3, 1] has EI value inf\n",
            "data in the KDEs:\n",
            "[[1. 3.]\n",
            " [0. 1.]\n",
            " [1. 7.]]\n",
            "[[0. 7.]\n",
            " [0. 3.]\n",
            " [0. 3.]]\n",
            "bandwidth of the KDEs:\n",
            "[0.41608245 2.20170138]\n",
            "[1.0000000e-03 1.6643298e+00]\n",
            "l(x) = 0.13869415039783442\n",
            "g(x) = inf\n",
            "WORKER: start processing job (3, 0, 3)\n"
          ]
        },
        {
          "output_type": "stream",
          "name": "stdout",
          "text": [
            "{'base_score': 0.5, 'booster': 'gbtree', 'colsample_bylevel': 1, 'colsample_bynode': 1, 'colsample_bytree': 1, 'gamma': 0, 'importance_type': 'gain', 'learning_rate': 0.75, 'max_delta_step': 0, 'max_depth': 2, 'min_child_weight': 1, 'missing': None, 'n_estimators': 11, 'n_jobs': 1, 'nthread': None, 'objective': 'reg:linear', 'random_state': 0, 'reg_alpha': 0, 'reg_lambda': 1, 'scale_pos_weight': 1, 'seed': None, 'silent': None, 'subsample': 1, 'verbosity': 1, 'warm_start': True}\n"
          ]
        },
        {
          "output_type": "stream",
          "name": "stderr",
          "text": [
            "WORKER: registered result for job (3, 0, 3) with dispatcher\n",
            "/usr/local/lib/python3.7/dist-packages/statsmodels/nonparametric/kernels.py:64: RuntimeWarning: divide by zero encountered in true_divide\n",
            "  kernel_value = np.ones(Xi.size) * h / (num_levels - 1)\n",
            "sampled vector: [1, 6] has EI value inf\n",
            "data in the KDEs:\n",
            "[[1. 3.]\n",
            " [0. 1.]\n",
            " [1. 7.]]\n",
            "[[0. 7.]\n",
            " [0. 3.]\n",
            " [0. 3.]]\n",
            "bandwidth of the KDEs:\n",
            "[0.41608245 2.20170138]\n",
            "[1.0000000e-03 1.6643298e+00]\n",
            "l(x) = 0.5812189092348223\n",
            "g(x) = inf\n",
            "WORKER: start processing job (3, 0, 4)\n"
          ]
        },
        {
          "output_type": "stream",
          "name": "stdout",
          "text": [
            "{'base_score': 0.5, 'booster': 'gbtree', 'colsample_bylevel': 1, 'colsample_bynode': 1, 'colsample_bytree': 1, 'gamma': 0, 'importance_type': 'gain', 'learning_rate': 0.25, 'max_delta_step': 0, 'max_depth': 7, 'min_child_weight': 1, 'missing': None, 'n_estimators': 11, 'n_jobs': 1, 'nthread': None, 'objective': 'reg:linear', 'random_state': 0, 'reg_alpha': 0, 'reg_lambda': 1, 'scale_pos_weight': 1, 'seed': None, 'silent': None, 'subsample': 1, 'verbosity': 1, 'warm_start': True}\n"
          ]
        },
        {
          "output_type": "stream",
          "name": "stderr",
          "text": [
            "WORKER: registered result for job (3, 0, 4) with dispatcher\n",
            "/usr/local/lib/python3.7/dist-packages/statsmodels/nonparametric/kernels.py:64: RuntimeWarning: divide by zero encountered in true_divide\n",
            "  kernel_value = np.ones(Xi.size) * h / (num_levels - 1)\n",
            "sampled vector: [1, 2] has EI value inf\n",
            "data in the KDEs:\n",
            "[[1. 3.]\n",
            " [0. 1.]\n",
            " [1. 7.]]\n",
            "[[0. 7.]\n",
            " [0. 3.]\n",
            " [0. 3.]]\n",
            "bandwidth of the KDEs:\n",
            "[0.41608245 2.20170138]\n",
            "[1.0000000e-03 1.6643298e+00]\n",
            "l(x) = 0.5812189092348223\n",
            "g(x) = inf\n",
            "WORKER: start processing job (3, 0, 5)\n"
          ]
        },
        {
          "output_type": "stream",
          "name": "stdout",
          "text": [
            "{'base_score': 0.5, 'booster': 'gbtree', 'colsample_bylevel': 1, 'colsample_bynode': 1, 'colsample_bytree': 1, 'gamma': 0, 'importance_type': 'gain', 'learning_rate': 0.25, 'max_delta_step': 0, 'max_depth': 3, 'min_child_weight': 1, 'missing': None, 'n_estimators': 11, 'n_jobs': 1, 'nthread': None, 'objective': 'reg:linear', 'random_state': 0, 'reg_alpha': 0, 'reg_lambda': 1, 'scale_pos_weight': 1, 'seed': None, 'silent': None, 'subsample': 1, 'verbosity': 1, 'warm_start': True}\n"
          ]
        },
        {
          "output_type": "stream",
          "name": "stderr",
          "text": [
            "WORKER: registered result for job (3, 0, 5) with dispatcher\n",
            "WORKER: start processing job (3, 0, 6)\n"
          ]
        },
        {
          "output_type": "stream",
          "name": "stdout",
          "text": [
            "{'base_score': 0.5, 'booster': 'gbtree', 'colsample_bylevel': 1, 'colsample_bynode': 1, 'colsample_bytree': 1, 'gamma': 0, 'importance_type': 'gain', 'learning_rate': 0.25, 'max_delta_step': 0, 'max_depth': 7, 'min_child_weight': 1, 'missing': None, 'n_estimators': 11, 'n_jobs': 1, 'nthread': None, 'objective': 'reg:linear', 'random_state': 0, 'reg_alpha': 0, 'reg_lambda': 1, 'scale_pos_weight': 1, 'seed': None, 'silent': None, 'subsample': 1, 'verbosity': 1, 'warm_start': True}\n"
          ]
        },
        {
          "output_type": "stream",
          "name": "stderr",
          "text": [
            "WORKER: registered result for job (3, 0, 6) with dispatcher\n",
            "/usr/local/lib/python3.7/dist-packages/statsmodels/nonparametric/kernels.py:64: RuntimeWarning: divide by zero encountered in true_divide\n",
            "  kernel_value = np.ones(Xi.size) * h / (num_levels - 1)\n",
            "sampled vector: [1, 1] has EI value inf\n",
            "data in the KDEs:\n",
            "[[1. 3.]\n",
            " [0. 1.]\n",
            " [1. 7.]]\n",
            "[[0. 7.]\n",
            " [0. 3.]\n",
            " [0. 3.]]\n",
            "bandwidth of the KDEs:\n",
            "[0.41608245 2.20170138]\n",
            "[1.0000000e-03 1.6643298e+00]\n",
            "l(x) = 0.2618684058247642\n",
            "g(x) = inf\n",
            "WORKER: start processing job (3, 0, 7)\n"
          ]
        },
        {
          "output_type": "stream",
          "name": "stdout",
          "text": [
            "{'base_score': 0.5, 'booster': 'gbtree', 'colsample_bylevel': 1, 'colsample_bynode': 1, 'colsample_bytree': 1, 'gamma': 0, 'importance_type': 'gain', 'learning_rate': 0.25, 'max_delta_step': 0, 'max_depth': 2, 'min_child_weight': 1, 'missing': None, 'n_estimators': 11, 'n_jobs': 1, 'nthread': None, 'objective': 'reg:linear', 'random_state': 0, 'reg_alpha': 0, 'reg_lambda': 1, 'scale_pos_weight': 1, 'seed': None, 'silent': None, 'subsample': 1, 'verbosity': 1, 'warm_start': True}\n"
          ]
        },
        {
          "output_type": "stream",
          "name": "stderr",
          "text": [
            "WORKER: registered result for job (3, 0, 7) with dispatcher\n",
            "/usr/local/lib/python3.7/dist-packages/statsmodels/nonparametric/kernels.py:64: RuntimeWarning: divide by zero encountered in true_divide\n",
            "  kernel_value = np.ones(Xi.size) * h / (num_levels - 1)\n",
            "sampled vector: [2, 1] has EI value inf\n",
            "data in the KDEs:\n",
            "[[1. 3.]\n",
            " [0. 1.]\n",
            " [1. 7.]]\n",
            "[[0. 7.]\n",
            " [0. 3.]\n",
            " [0. 3.]]\n",
            "bandwidth of the KDEs:\n",
            "[0.41608245 2.20170138]\n",
            "[1.0000000e-03 1.6643298e+00]\n",
            "l(x) = 0.13869415039783442\n",
            "g(x) = inf\n",
            "WORKER: start processing job (3, 0, 8)\n"
          ]
        },
        {
          "output_type": "stream",
          "name": "stdout",
          "text": [
            "{'base_score': 0.5, 'booster': 'gbtree', 'colsample_bylevel': 1, 'colsample_bynode': 1, 'colsample_bytree': 1, 'gamma': 0, 'importance_type': 'gain', 'learning_rate': 0.5, 'max_delta_step': 0, 'max_depth': 2, 'min_child_weight': 1, 'missing': None, 'n_estimators': 11, 'n_jobs': 1, 'nthread': None, 'objective': 'reg:linear', 'random_state': 0, 'reg_alpha': 0, 'reg_lambda': 1, 'scale_pos_weight': 1, 'seed': None, 'silent': None, 'subsample': 1, 'verbosity': 1, 'warm_start': True}\n"
          ]
        },
        {
          "output_type": "stream",
          "name": "stderr",
          "text": [
            "WORKER: registered result for job (3, 0, 8) with dispatcher\n",
            "WORKER: start processing job (3, 0, 1)\n"
          ]
        },
        {
          "output_type": "stream",
          "name": "stdout",
          "text": [
            "{'base_score': 0.5, 'booster': 'gbtree', 'colsample_bylevel': 1, 'colsample_bynode': 1, 'colsample_bytree': 1, 'gamma': 0, 'importance_type': 'gain', 'learning_rate': 1, 'max_delta_step': 0, 'max_depth': 9, 'min_child_weight': 1, 'missing': None, 'n_estimators': 33, 'n_jobs': 1, 'nthread': None, 'objective': 'reg:linear', 'random_state': 0, 'reg_alpha': 0, 'reg_lambda': 1, 'scale_pos_weight': 1, 'seed': None, 'silent': None, 'subsample': 1, 'verbosity': 1, 'warm_start': True}\n"
          ]
        },
        {
          "output_type": "stream",
          "name": "stderr",
          "text": [
            "WORKER: registered result for job (3, 0, 1) with dispatcher\n",
            "WORKER: start processing job (3, 0, 2)\n"
          ]
        },
        {
          "output_type": "stream",
          "name": "stdout",
          "text": [
            "{'base_score': 0.5, 'booster': 'gbtree', 'colsample_bylevel': 1, 'colsample_bynode': 1, 'colsample_bytree': 1, 'gamma': 0, 'importance_type': 'gain', 'learning_rate': 0.25, 'max_delta_step': 0, 'max_depth': 9, 'min_child_weight': 1, 'missing': None, 'n_estimators': 33, 'n_jobs': 1, 'nthread': None, 'objective': 'reg:linear', 'random_state': 0, 'reg_alpha': 0, 'reg_lambda': 1, 'scale_pos_weight': 1, 'seed': None, 'silent': None, 'subsample': 1, 'verbosity': 1, 'warm_start': True}\n"
          ]
        },
        {
          "output_type": "stream",
          "name": "stderr",
          "text": [
            "WORKER: registered result for job (3, 0, 2) with dispatcher\n",
            "WORKER: start processing job (3, 0, 8)\n"
          ]
        },
        {
          "output_type": "stream",
          "name": "stdout",
          "text": [
            "{'base_score': 0.5, 'booster': 'gbtree', 'colsample_bylevel': 1, 'colsample_bynode': 1, 'colsample_bytree': 1, 'gamma': 0, 'importance_type': 'gain', 'learning_rate': 0.5, 'max_delta_step': 0, 'max_depth': 2, 'min_child_weight': 1, 'missing': None, 'n_estimators': 33, 'n_jobs': 1, 'nthread': None, 'objective': 'reg:linear', 'random_state': 0, 'reg_alpha': 0, 'reg_lambda': 1, 'scale_pos_weight': 1, 'seed': None, 'silent': None, 'subsample': 1, 'verbosity': 1, 'warm_start': True}\n"
          ]
        },
        {
          "output_type": "stream",
          "name": "stderr",
          "text": [
            "WORKER: registered result for job (3, 0, 8) with dispatcher\n",
            "WORKER: start processing job (3, 0, 2)\n"
          ]
        },
        {
          "output_type": "stream",
          "name": "stdout",
          "text": [
            "{'base_score': 0.5, 'booster': 'gbtree', 'colsample_bylevel': 1, 'colsample_bynode': 1, 'colsample_bytree': 1, 'gamma': 0, 'importance_type': 'gain', 'learning_rate': 0.25, 'max_delta_step': 0, 'max_depth': 9, 'min_child_weight': 1, 'missing': None, 'n_estimators': 100, 'n_jobs': 1, 'nthread': None, 'objective': 'reg:linear', 'random_state': 0, 'reg_alpha': 0, 'reg_lambda': 1, 'scale_pos_weight': 1, 'seed': None, 'silent': None, 'subsample': 1, 'verbosity': 1, 'warm_start': True}\n"
          ]
        },
        {
          "output_type": "stream",
          "name": "stderr",
          "text": [
            "WORKER: registered result for job (3, 0, 2) with dispatcher\n",
            "WORKER: start processing job (4, 0, 0)\n"
          ]
        },
        {
          "output_type": "stream",
          "name": "stdout",
          "text": [
            "{'base_score': 0.5, 'booster': 'gbtree', 'colsample_bylevel': 1, 'colsample_bynode': 1, 'colsample_bytree': 1, 'gamma': 0, 'importance_type': 'gain', 'learning_rate': 0.5, 'max_delta_step': 0, 'max_depth': 5, 'min_child_weight': 1, 'missing': None, 'n_estimators': 33, 'n_jobs': 1, 'nthread': None, 'objective': 'reg:linear', 'random_state': 0, 'reg_alpha': 0, 'reg_lambda': 1, 'scale_pos_weight': 1, 'seed': None, 'silent': None, 'subsample': 1, 'verbosity': 1, 'warm_start': True}\n"
          ]
        },
        {
          "output_type": "stream",
          "name": "stderr",
          "text": [
            "WORKER: registered result for job (4, 0, 0) with dispatcher\n",
            "WORKER: start processing job (4, 0, 1)\n"
          ]
        },
        {
          "output_type": "stream",
          "name": "stdout",
          "text": [
            "{'base_score': 0.5, 'booster': 'gbtree', 'colsample_bylevel': 1, 'colsample_bynode': 1, 'colsample_bytree': 1, 'gamma': 0, 'importance_type': 'gain', 'learning_rate': 0.75, 'max_delta_step': 0, 'max_depth': 8, 'min_child_weight': 1, 'missing': None, 'n_estimators': 33, 'n_jobs': 1, 'nthread': None, 'objective': 'reg:linear', 'random_state': 0, 'reg_alpha': 0, 'reg_lambda': 1, 'scale_pos_weight': 1, 'seed': None, 'silent': None, 'subsample': 1, 'verbosity': 1, 'warm_start': True}\n"
          ]
        },
        {
          "output_type": "stream",
          "name": "stderr",
          "text": [
            "WORKER: registered result for job (4, 0, 1) with dispatcher\n",
            "WORKER: start processing job (4, 0, 2)\n"
          ]
        },
        {
          "output_type": "stream",
          "name": "stdout",
          "text": [
            "{'base_score': 0.5, 'booster': 'gbtree', 'colsample_bylevel': 1, 'colsample_bynode': 1, 'colsample_bytree': 1, 'gamma': 0, 'importance_type': 'gain', 'learning_rate': 1, 'max_delta_step': 0, 'max_depth': 2, 'min_child_weight': 1, 'missing': None, 'n_estimators': 33, 'n_jobs': 1, 'nthread': None, 'objective': 'reg:linear', 'random_state': 0, 'reg_alpha': 0, 'reg_lambda': 1, 'scale_pos_weight': 1, 'seed': None, 'silent': None, 'subsample': 1, 'verbosity': 1, 'warm_start': True}\n"
          ]
        },
        {
          "output_type": "stream",
          "name": "stderr",
          "text": [
            "WORKER: registered result for job (4, 0, 2) with dispatcher\n",
            "WORKER: start processing job (4, 0, 2)\n"
          ]
        },
        {
          "output_type": "stream",
          "name": "stdout",
          "text": [
            "{'base_score': 0.5, 'booster': 'gbtree', 'colsample_bylevel': 1, 'colsample_bynode': 1, 'colsample_bytree': 1, 'gamma': 0, 'importance_type': 'gain', 'learning_rate': 1, 'max_delta_step': 0, 'max_depth': 2, 'min_child_weight': 1, 'missing': None, 'n_estimators': 100, 'n_jobs': 1, 'nthread': None, 'objective': 'reg:linear', 'random_state': 0, 'reg_alpha': 0, 'reg_lambda': 1, 'scale_pos_weight': 1, 'seed': None, 'silent': None, 'subsample': 1, 'verbosity': 1, 'warm_start': True}\n"
          ]
        },
        {
          "output_type": "stream",
          "name": "stderr",
          "text": [
            "WORKER: registered result for job (4, 0, 2) with dispatcher\n",
            "WORKER: start processing job (5, 0, 0)\n"
          ]
        },
        {
          "output_type": "stream",
          "name": "stdout",
          "text": [
            "{'base_score': 0.5, 'booster': 'gbtree', 'colsample_bylevel': 1, 'colsample_bynode': 1, 'colsample_bytree': 1, 'gamma': 0, 'importance_type': 'gain', 'learning_rate': 0.25, 'max_delta_step': 0, 'max_depth': 8, 'min_child_weight': 1, 'missing': None, 'n_estimators': 100, 'n_jobs': 1, 'nthread': None, 'objective': 'reg:linear', 'random_state': 0, 'reg_alpha': 0, 'reg_lambda': 1, 'scale_pos_weight': 1, 'seed': None, 'silent': None, 'subsample': 1, 'verbosity': 1, 'warm_start': True}\n"
          ]
        },
        {
          "output_type": "stream",
          "name": "stderr",
          "text": [
            "WORKER: registered result for job (5, 0, 0) with dispatcher\n",
            "WORKER: start processing job (5, 0, 1)\n"
          ]
        },
        {
          "output_type": "stream",
          "name": "stdout",
          "text": [
            "{'base_score': 0.5, 'booster': 'gbtree', 'colsample_bylevel': 1, 'colsample_bynode': 1, 'colsample_bytree': 1, 'gamma': 0, 'importance_type': 'gain', 'learning_rate': 0.5, 'max_delta_step': 0, 'max_depth': 4, 'min_child_weight': 1, 'missing': None, 'n_estimators': 100, 'n_jobs': 1, 'nthread': None, 'objective': 'reg:linear', 'random_state': 0, 'reg_alpha': 0, 'reg_lambda': 1, 'scale_pos_weight': 1, 'seed': None, 'silent': None, 'subsample': 1, 'verbosity': 1, 'warm_start': True}\n"
          ]
        },
        {
          "output_type": "stream",
          "name": "stderr",
          "text": [
            "WORKER: registered result for job (5, 0, 1) with dispatcher\n",
            "WORKER: start processing job (5, 0, 2)\n"
          ]
        },
        {
          "output_type": "stream",
          "name": "stdout",
          "text": [
            "{'base_score': 0.5, 'booster': 'gbtree', 'colsample_bylevel': 1, 'colsample_bynode': 1, 'colsample_bytree': 1, 'gamma': 0, 'importance_type': 'gain', 'learning_rate': 0.75, 'max_delta_step': 0, 'max_depth': 9, 'min_child_weight': 1, 'missing': None, 'n_estimators': 100, 'n_jobs': 1, 'nthread': None, 'objective': 'reg:linear', 'random_state': 0, 'reg_alpha': 0, 'reg_lambda': 1, 'scale_pos_weight': 1, 'seed': None, 'silent': None, 'subsample': 1, 'verbosity': 1, 'warm_start': True}\n"
          ]
        },
        {
          "output_type": "stream",
          "name": "stderr",
          "text": [
            "WORKER: registered result for job (5, 0, 2) with dispatcher\n",
            "WORKER: start processing job (6, 0, 0)\n",
            "WORKER: registered result for job (6, 0, 0) with dispatcher\n",
            "WORKER: start processing job (6, 0, 1)\n"
          ]
        },
        {
          "output_type": "stream",
          "name": "stdout",
          "text": [
            "{'base_score': 0.5, 'booster': 'gbtree', 'colsample_bylevel': 1, 'colsample_bynode': 1, 'colsample_bytree': 1, 'gamma': 0, 'importance_type': 'gain', 'learning_rate': 1, 'max_delta_step': 0, 'max_depth': 6, 'min_child_weight': 1, 'missing': None, 'n_estimators': 11, 'n_jobs': 1, 'nthread': None, 'objective': 'reg:linear', 'random_state': 0, 'reg_alpha': 0, 'reg_lambda': 1, 'scale_pos_weight': 1, 'seed': None, 'silent': None, 'subsample': 1, 'verbosity': 1, 'warm_start': True}\n",
            "{'base_score': 0.5, 'booster': 'gbtree', 'colsample_bylevel': 1, 'colsample_bynode': 1, 'colsample_bytree': 1, 'gamma': 0, 'importance_type': 'gain', 'learning_rate': 0.25, 'max_delta_step': 0, 'max_depth': 9, 'min_child_weight': 1, 'missing': None, 'n_estimators': 11, 'n_jobs': 1, 'nthread': None, 'objective': 'reg:linear', 'random_state': 0, 'reg_alpha': 0, 'reg_lambda': 1, 'scale_pos_weight': 1, 'seed': None, 'silent': None, 'subsample': 1, 'verbosity': 1, 'warm_start': True}\n"
          ]
        },
        {
          "output_type": "stream",
          "name": "stderr",
          "text": [
            "WORKER: registered result for job (6, 0, 1) with dispatcher\n",
            "WORKER: start processing job (6, 0, 2)\n"
          ]
        },
        {
          "output_type": "stream",
          "name": "stdout",
          "text": [
            "{'base_score': 0.5, 'booster': 'gbtree', 'colsample_bylevel': 1, 'colsample_bynode': 1, 'colsample_bytree': 1, 'gamma': 0, 'importance_type': 'gain', 'learning_rate': 0.75, 'max_delta_step': 0, 'max_depth': 8, 'min_child_weight': 1, 'missing': None, 'n_estimators': 11, 'n_jobs': 1, 'nthread': None, 'objective': 'reg:linear', 'random_state': 0, 'reg_alpha': 0, 'reg_lambda': 1, 'scale_pos_weight': 1, 'seed': None, 'silent': None, 'subsample': 1, 'verbosity': 1, 'warm_start': True}\n"
          ]
        },
        {
          "output_type": "stream",
          "name": "stderr",
          "text": [
            "WORKER: registered result for job (6, 0, 2) with dispatcher\n",
            "WORKER: start processing job (6, 0, 3)\n"
          ]
        },
        {
          "output_type": "stream",
          "name": "stdout",
          "text": [
            "{'base_score': 0.5, 'booster': 'gbtree', 'colsample_bylevel': 1, 'colsample_bynode': 1, 'colsample_bytree': 1, 'gamma': 0, 'importance_type': 'gain', 'learning_rate': 0.5, 'max_delta_step': 0, 'max_depth': 8, 'min_child_weight': 1, 'missing': None, 'n_estimators': 11, 'n_jobs': 1, 'nthread': None, 'objective': 'reg:linear', 'random_state': 0, 'reg_alpha': 0, 'reg_lambda': 1, 'scale_pos_weight': 1, 'seed': None, 'silent': None, 'subsample': 1, 'verbosity': 1, 'warm_start': True}\n"
          ]
        },
        {
          "output_type": "stream",
          "name": "stderr",
          "text": [
            "WORKER: registered result for job (6, 0, 3) with dispatcher\n",
            "WORKER: start processing job (6, 0, 4)\n"
          ]
        },
        {
          "output_type": "stream",
          "name": "stdout",
          "text": [
            "{'base_score': 0.5, 'booster': 'gbtree', 'colsample_bylevel': 1, 'colsample_bynode': 1, 'colsample_bytree': 1, 'gamma': 0, 'importance_type': 'gain', 'learning_rate': 0.75, 'max_delta_step': 0, 'max_depth': 8, 'min_child_weight': 1, 'missing': None, 'n_estimators': 11, 'n_jobs': 1, 'nthread': None, 'objective': 'reg:linear', 'random_state': 0, 'reg_alpha': 0, 'reg_lambda': 1, 'scale_pos_weight': 1, 'seed': None, 'silent': None, 'subsample': 1, 'verbosity': 1, 'warm_start': True}\n"
          ]
        },
        {
          "output_type": "stream",
          "name": "stderr",
          "text": [
            "WORKER: registered result for job (6, 0, 4) with dispatcher\n",
            "WORKER: start processing job (6, 0, 5)\n"
          ]
        },
        {
          "output_type": "stream",
          "name": "stdout",
          "text": [
            "{'base_score': 0.5, 'booster': 'gbtree', 'colsample_bylevel': 1, 'colsample_bynode': 1, 'colsample_bytree': 1, 'gamma': 0, 'importance_type': 'gain', 'learning_rate': 0.5, 'max_delta_step': 0, 'max_depth': 8, 'min_child_weight': 1, 'missing': None, 'n_estimators': 11, 'n_jobs': 1, 'nthread': None, 'objective': 'reg:linear', 'random_state': 0, 'reg_alpha': 0, 'reg_lambda': 1, 'scale_pos_weight': 1, 'seed': None, 'silent': None, 'subsample': 1, 'verbosity': 1, 'warm_start': True}\n"
          ]
        },
        {
          "output_type": "stream",
          "name": "stderr",
          "text": [
            "WORKER: registered result for job (6, 0, 5) with dispatcher\n",
            "WORKER: start processing job (6, 0, 6)\n"
          ]
        },
        {
          "output_type": "stream",
          "name": "stdout",
          "text": [
            "{'base_score': 0.5, 'booster': 'gbtree', 'colsample_bylevel': 1, 'colsample_bynode': 1, 'colsample_bytree': 1, 'gamma': 0, 'importance_type': 'gain', 'learning_rate': 0, 'max_delta_step': 0, 'max_depth': 3, 'min_child_weight': 1, 'missing': None, 'n_estimators': 11, 'n_jobs': 1, 'nthread': None, 'objective': 'reg:linear', 'random_state': 0, 'reg_alpha': 0, 'reg_lambda': 1, 'scale_pos_weight': 1, 'seed': None, 'silent': None, 'subsample': 1, 'verbosity': 1, 'warm_start': True}\n"
          ]
        },
        {
          "output_type": "stream",
          "name": "stderr",
          "text": [
            "WORKER: registered result for job (6, 0, 6) with dispatcher\n",
            "WORKER: start processing job (6, 0, 7)\n"
          ]
        },
        {
          "output_type": "stream",
          "name": "stdout",
          "text": [
            "{'base_score': 0.5, 'booster': 'gbtree', 'colsample_bylevel': 1, 'colsample_bynode': 1, 'colsample_bytree': 1, 'gamma': 0, 'importance_type': 'gain', 'learning_rate': 0.5, 'max_delta_step': 0, 'max_depth': 8, 'min_child_weight': 1, 'missing': None, 'n_estimators': 11, 'n_jobs': 1, 'nthread': None, 'objective': 'reg:linear', 'random_state': 0, 'reg_alpha': 0, 'reg_lambda': 1, 'scale_pos_weight': 1, 'seed': None, 'silent': None, 'subsample': 1, 'verbosity': 1, 'warm_start': True}\n"
          ]
        },
        {
          "output_type": "stream",
          "name": "stderr",
          "text": [
            "WORKER: registered result for job (6, 0, 7) with dispatcher\n",
            "WORKER: start processing job (6, 0, 8)\n"
          ]
        },
        {
          "output_type": "stream",
          "name": "stdout",
          "text": [
            "{'base_score': 0.5, 'booster': 'gbtree', 'colsample_bylevel': 1, 'colsample_bynode': 1, 'colsample_bytree': 1, 'gamma': 0, 'importance_type': 'gain', 'learning_rate': 0.75, 'max_delta_step': 0, 'max_depth': 8, 'min_child_weight': 1, 'missing': None, 'n_estimators': 11, 'n_jobs': 1, 'nthread': None, 'objective': 'reg:linear', 'random_state': 0, 'reg_alpha': 0, 'reg_lambda': 1, 'scale_pos_weight': 1, 'seed': None, 'silent': None, 'subsample': 1, 'verbosity': 1, 'warm_start': True}\n"
          ]
        },
        {
          "output_type": "stream",
          "name": "stderr",
          "text": [
            "WORKER: registered result for job (6, 0, 8) with dispatcher\n",
            "WORKER: start processing job (6, 0, 0)\n"
          ]
        },
        {
          "output_type": "stream",
          "name": "stdout",
          "text": [
            "{'base_score': 0.5, 'booster': 'gbtree', 'colsample_bylevel': 1, 'colsample_bynode': 1, 'colsample_bytree': 1, 'gamma': 0, 'importance_type': 'gain', 'learning_rate': 1, 'max_delta_step': 0, 'max_depth': 6, 'min_child_weight': 1, 'missing': None, 'n_estimators': 33, 'n_jobs': 1, 'nthread': None, 'objective': 'reg:linear', 'random_state': 0, 'reg_alpha': 0, 'reg_lambda': 1, 'scale_pos_weight': 1, 'seed': None, 'silent': None, 'subsample': 1, 'verbosity': 1, 'warm_start': True}\n"
          ]
        },
        {
          "output_type": "stream",
          "name": "stderr",
          "text": [
            "WORKER: registered result for job (6, 0, 0) with dispatcher\n",
            "WORKER: start processing job (6, 0, 1)\n"
          ]
        },
        {
          "output_type": "stream",
          "name": "stdout",
          "text": [
            "{'base_score': 0.5, 'booster': 'gbtree', 'colsample_bylevel': 1, 'colsample_bynode': 1, 'colsample_bytree': 1, 'gamma': 0, 'importance_type': 'gain', 'learning_rate': 0.25, 'max_delta_step': 0, 'max_depth': 9, 'min_child_weight': 1, 'missing': None, 'n_estimators': 33, 'n_jobs': 1, 'nthread': None, 'objective': 'reg:linear', 'random_state': 0, 'reg_alpha': 0, 'reg_lambda': 1, 'scale_pos_weight': 1, 'seed': None, 'silent': None, 'subsample': 1, 'verbosity': 1, 'warm_start': True}\n"
          ]
        },
        {
          "output_type": "stream",
          "name": "stderr",
          "text": [
            "WORKER: registered result for job (6, 0, 1) with dispatcher\n",
            "WORKER: start processing job (6, 0, 2)\n"
          ]
        },
        {
          "output_type": "stream",
          "name": "stdout",
          "text": [
            "{'base_score': 0.5, 'booster': 'gbtree', 'colsample_bylevel': 1, 'colsample_bynode': 1, 'colsample_bytree': 1, 'gamma': 0, 'importance_type': 'gain', 'learning_rate': 0.75, 'max_delta_step': 0, 'max_depth': 8, 'min_child_weight': 1, 'missing': None, 'n_estimators': 33, 'n_jobs': 1, 'nthread': None, 'objective': 'reg:linear', 'random_state': 0, 'reg_alpha': 0, 'reg_lambda': 1, 'scale_pos_weight': 1, 'seed': None, 'silent': None, 'subsample': 1, 'verbosity': 1, 'warm_start': True}\n"
          ]
        },
        {
          "output_type": "stream",
          "name": "stderr",
          "text": [
            "WORKER: registered result for job (6, 0, 2) with dispatcher\n",
            "WORKER: start processing job (6, 0, 1)\n"
          ]
        },
        {
          "output_type": "stream",
          "name": "stdout",
          "text": [
            "{'base_score': 0.5, 'booster': 'gbtree', 'colsample_bylevel': 1, 'colsample_bynode': 1, 'colsample_bytree': 1, 'gamma': 0, 'importance_type': 'gain', 'learning_rate': 0.25, 'max_delta_step': 0, 'max_depth': 9, 'min_child_weight': 1, 'missing': None, 'n_estimators': 100, 'n_jobs': 1, 'nthread': None, 'objective': 'reg:linear', 'random_state': 0, 'reg_alpha': 0, 'reg_lambda': 1, 'scale_pos_weight': 1, 'seed': None, 'silent': None, 'subsample': 1, 'verbosity': 1, 'warm_start': True}\n"
          ]
        },
        {
          "output_type": "stream",
          "name": "stderr",
          "text": [
            "WORKER: registered result for job (6, 0, 1) with dispatcher\n",
            "WORKER: start processing job (7, 0, 0)\n"
          ]
        },
        {
          "output_type": "stream",
          "name": "stdout",
          "text": [
            "{'base_score': 0.5, 'booster': 'gbtree', 'colsample_bylevel': 1, 'colsample_bynode': 1, 'colsample_bytree': 1, 'gamma': 0, 'importance_type': 'gain', 'learning_rate': 0, 'max_delta_step': 0, 'max_depth': 9, 'min_child_weight': 1, 'missing': None, 'n_estimators': 33, 'n_jobs': 1, 'nthread': None, 'objective': 'reg:linear', 'random_state': 0, 'reg_alpha': 0, 'reg_lambda': 1, 'scale_pos_weight': 1, 'seed': None, 'silent': None, 'subsample': 1, 'verbosity': 1, 'warm_start': True}\n"
          ]
        },
        {
          "output_type": "stream",
          "name": "stderr",
          "text": [
            "WORKER: registered result for job (7, 0, 0) with dispatcher\n",
            "WORKER: start processing job (7, 0, 1)\n"
          ]
        },
        {
          "output_type": "stream",
          "name": "stdout",
          "text": [
            "{'base_score': 0.5, 'booster': 'gbtree', 'colsample_bylevel': 1, 'colsample_bynode': 1, 'colsample_bytree': 1, 'gamma': 0, 'importance_type': 'gain', 'learning_rate': 0.75, 'max_delta_step': 0, 'max_depth': 6, 'min_child_weight': 1, 'missing': None, 'n_estimators': 33, 'n_jobs': 1, 'nthread': None, 'objective': 'reg:linear', 'random_state': 0, 'reg_alpha': 0, 'reg_lambda': 1, 'scale_pos_weight': 1, 'seed': None, 'silent': None, 'subsample': 1, 'verbosity': 1, 'warm_start': True}\n"
          ]
        },
        {
          "output_type": "stream",
          "name": "stderr",
          "text": [
            "WORKER: registered result for job (7, 0, 1) with dispatcher\n",
            "WORKER: start processing job (7, 0, 2)\n"
          ]
        },
        {
          "output_type": "stream",
          "name": "stdout",
          "text": [
            "{'base_score': 0.5, 'booster': 'gbtree', 'colsample_bylevel': 1, 'colsample_bynode': 1, 'colsample_bytree': 1, 'gamma': 0, 'importance_type': 'gain', 'learning_rate': 0, 'max_delta_step': 0, 'max_depth': 9, 'min_child_weight': 1, 'missing': None, 'n_estimators': 33, 'n_jobs': 1, 'nthread': None, 'objective': 'reg:linear', 'random_state': 0, 'reg_alpha': 0, 'reg_lambda': 1, 'scale_pos_weight': 1, 'seed': None, 'silent': None, 'subsample': 1, 'verbosity': 1, 'warm_start': True}\n"
          ]
        },
        {
          "output_type": "stream",
          "name": "stderr",
          "text": [
            "WORKER: registered result for job (7, 0, 2) with dispatcher\n",
            "WORKER: start processing job (7, 0, 1)\n"
          ]
        },
        {
          "output_type": "stream",
          "name": "stdout",
          "text": [
            "{'base_score': 0.5, 'booster': 'gbtree', 'colsample_bylevel': 1, 'colsample_bynode': 1, 'colsample_bytree': 1, 'gamma': 0, 'importance_type': 'gain', 'learning_rate': 0.75, 'max_delta_step': 0, 'max_depth': 6, 'min_child_weight': 1, 'missing': None, 'n_estimators': 100, 'n_jobs': 1, 'nthread': None, 'objective': 'reg:linear', 'random_state': 0, 'reg_alpha': 0, 'reg_lambda': 1, 'scale_pos_weight': 1, 'seed': None, 'silent': None, 'subsample': 1, 'verbosity': 1, 'warm_start': True}\n"
          ]
        },
        {
          "output_type": "stream",
          "name": "stderr",
          "text": [
            "WORKER: registered result for job (7, 0, 1) with dispatcher\n",
            "WORKER: start processing job (8, 0, 0)\n"
          ]
        },
        {
          "output_type": "stream",
          "name": "stdout",
          "text": [
            "{'base_score': 0.5, 'booster': 'gbtree', 'colsample_bylevel': 1, 'colsample_bynode': 1, 'colsample_bytree': 1, 'gamma': 0, 'importance_type': 'gain', 'learning_rate': 0, 'max_delta_step': 0, 'max_depth': 9, 'min_child_weight': 1, 'missing': None, 'n_estimators': 100, 'n_jobs': 1, 'nthread': None, 'objective': 'reg:linear', 'random_state': 0, 'reg_alpha': 0, 'reg_lambda': 1, 'scale_pos_weight': 1, 'seed': None, 'silent': None, 'subsample': 1, 'verbosity': 1, 'warm_start': True}\n"
          ]
        },
        {
          "output_type": "stream",
          "name": "stderr",
          "text": [
            "WORKER: registered result for job (8, 0, 0) with dispatcher\n",
            "WORKER: start processing job (8, 0, 1)\n"
          ]
        },
        {
          "output_type": "stream",
          "name": "stdout",
          "text": [
            "{'base_score': 0.5, 'booster': 'gbtree', 'colsample_bylevel': 1, 'colsample_bynode': 1, 'colsample_bytree': 1, 'gamma': 0, 'importance_type': 'gain', 'learning_rate': 0, 'max_delta_step': 0, 'max_depth': 9, 'min_child_weight': 1, 'missing': None, 'n_estimators': 100, 'n_jobs': 1, 'nthread': None, 'objective': 'reg:linear', 'random_state': 0, 'reg_alpha': 0, 'reg_lambda': 1, 'scale_pos_weight': 1, 'seed': None, 'silent': None, 'subsample': 1, 'verbosity': 1, 'warm_start': True}\n"
          ]
        },
        {
          "output_type": "stream",
          "name": "stderr",
          "text": [
            "WORKER: registered result for job (8, 0, 1) with dispatcher\n",
            "WORKER: start processing job (8, 0, 2)\n"
          ]
        },
        {
          "output_type": "stream",
          "name": "stdout",
          "text": [
            "{'base_score': 0.5, 'booster': 'gbtree', 'colsample_bylevel': 1, 'colsample_bynode': 1, 'colsample_bytree': 1, 'gamma': 0, 'importance_type': 'gain', 'learning_rate': 0.25, 'max_delta_step': 0, 'max_depth': 9, 'min_child_weight': 1, 'missing': None, 'n_estimators': 100, 'n_jobs': 1, 'nthread': None, 'objective': 'reg:linear', 'random_state': 0, 'reg_alpha': 0, 'reg_lambda': 1, 'scale_pos_weight': 1, 'seed': None, 'silent': None, 'subsample': 1, 'verbosity': 1, 'warm_start': True}\n"
          ]
        },
        {
          "output_type": "stream",
          "name": "stderr",
          "text": [
            "WORKER: registered result for job (8, 0, 2) with dispatcher\n",
            "WORKER: start processing job (9, 0, 0)\n",
            "WORKER: registered result for job (9, 0, 0) with dispatcher\n"
          ]
        },
        {
          "output_type": "stream",
          "name": "stdout",
          "text": [
            "{'base_score': 0.5, 'booster': 'gbtree', 'colsample_bylevel': 1, 'colsample_bynode': 1, 'colsample_bytree': 1, 'gamma': 0, 'importance_type': 'gain', 'learning_rate': 0.25, 'max_delta_step': 0, 'max_depth': 9, 'min_child_weight': 1, 'missing': None, 'n_estimators': 11, 'n_jobs': 1, 'nthread': None, 'objective': 'reg:linear', 'random_state': 0, 'reg_alpha': 0, 'reg_lambda': 1, 'scale_pos_weight': 1, 'seed': None, 'silent': None, 'subsample': 1, 'verbosity': 1, 'warm_start': True}\n"
          ]
        },
        {
          "output_type": "stream",
          "name": "stderr",
          "text": [
            "WORKER: start processing job (9, 0, 1)\n"
          ]
        },
        {
          "output_type": "stream",
          "name": "stdout",
          "text": [
            "{'base_score': 0.5, 'booster': 'gbtree', 'colsample_bylevel': 1, 'colsample_bynode': 1, 'colsample_bytree': 1, 'gamma': 0, 'importance_type': 'gain', 'learning_rate': 0.25, 'max_delta_step': 0, 'max_depth': 9, 'min_child_weight': 1, 'missing': None, 'n_estimators': 11, 'n_jobs': 1, 'nthread': None, 'objective': 'reg:linear', 'random_state': 0, 'reg_alpha': 0, 'reg_lambda': 1, 'scale_pos_weight': 1, 'seed': None, 'silent': None, 'subsample': 1, 'verbosity': 1, 'warm_start': True}\n"
          ]
        },
        {
          "output_type": "stream",
          "name": "stderr",
          "text": [
            "WORKER: registered result for job (9, 0, 1) with dispatcher\n",
            "WORKER: start processing job (9, 0, 2)\n"
          ]
        },
        {
          "output_type": "stream",
          "name": "stdout",
          "text": [
            "{'base_score': 0.5, 'booster': 'gbtree', 'colsample_bylevel': 1, 'colsample_bynode': 1, 'colsample_bytree': 1, 'gamma': 0, 'importance_type': 'gain', 'learning_rate': 0, 'max_delta_step': 0, 'max_depth': 1, 'min_child_weight': 1, 'missing': None, 'n_estimators': 11, 'n_jobs': 1, 'nthread': None, 'objective': 'reg:linear', 'random_state': 0, 'reg_alpha': 0, 'reg_lambda': 1, 'scale_pos_weight': 1, 'seed': None, 'silent': None, 'subsample': 1, 'verbosity': 1, 'warm_start': True}\n"
          ]
        },
        {
          "output_type": "stream",
          "name": "stderr",
          "text": [
            "WORKER: registered result for job (9, 0, 2) with dispatcher\n",
            "WORKER: start processing job (9, 0, 3)\n"
          ]
        },
        {
          "output_type": "stream",
          "name": "stdout",
          "text": [
            "{'base_score': 0.5, 'booster': 'gbtree', 'colsample_bylevel': 1, 'colsample_bynode': 1, 'colsample_bytree': 1, 'gamma': 0, 'importance_type': 'gain', 'learning_rate': 0.5, 'max_delta_step': 0, 'max_depth': 4, 'min_child_weight': 1, 'missing': None, 'n_estimators': 11, 'n_jobs': 1, 'nthread': None, 'objective': 'reg:linear', 'random_state': 0, 'reg_alpha': 0, 'reg_lambda': 1, 'scale_pos_weight': 1, 'seed': None, 'silent': None, 'subsample': 1, 'verbosity': 1, 'warm_start': True}\n"
          ]
        },
        {
          "output_type": "stream",
          "name": "stderr",
          "text": [
            "WORKER: registered result for job (9, 0, 3) with dispatcher\n",
            "WORKER: start processing job (9, 0, 4)\n"
          ]
        },
        {
          "output_type": "stream",
          "name": "stdout",
          "text": [
            "{'base_score': 0.5, 'booster': 'gbtree', 'colsample_bylevel': 1, 'colsample_bynode': 1, 'colsample_bytree': 1, 'gamma': 0, 'importance_type': 'gain', 'learning_rate': 0.25, 'max_delta_step': 0, 'max_depth': 9, 'min_child_weight': 1, 'missing': None, 'n_estimators': 11, 'n_jobs': 1, 'nthread': None, 'objective': 'reg:linear', 'random_state': 0, 'reg_alpha': 0, 'reg_lambda': 1, 'scale_pos_weight': 1, 'seed': None, 'silent': None, 'subsample': 1, 'verbosity': 1, 'warm_start': True}\n"
          ]
        },
        {
          "output_type": "stream",
          "name": "stderr",
          "text": [
            "WORKER: registered result for job (9, 0, 4) with dispatcher\n",
            "WORKER: start processing job (9, 0, 5)\n"
          ]
        },
        {
          "output_type": "stream",
          "name": "stdout",
          "text": [
            "{'base_score': 0.5, 'booster': 'gbtree', 'colsample_bylevel': 1, 'colsample_bynode': 1, 'colsample_bytree': 1, 'gamma': 0, 'importance_type': 'gain', 'learning_rate': 1, 'max_delta_step': 0, 'max_depth': 3, 'min_child_weight': 1, 'missing': None, 'n_estimators': 11, 'n_jobs': 1, 'nthread': None, 'objective': 'reg:linear', 'random_state': 0, 'reg_alpha': 0, 'reg_lambda': 1, 'scale_pos_weight': 1, 'seed': None, 'silent': None, 'subsample': 1, 'verbosity': 1, 'warm_start': True}\n"
          ]
        },
        {
          "output_type": "stream",
          "name": "stderr",
          "text": [
            "WORKER: registered result for job (9, 0, 5) with dispatcher\n",
            "WORKER: start processing job (9, 0, 6)\n"
          ]
        },
        {
          "output_type": "stream",
          "name": "stdout",
          "text": [
            "{'base_score': 0.5, 'booster': 'gbtree', 'colsample_bylevel': 1, 'colsample_bynode': 1, 'colsample_bytree': 1, 'gamma': 0, 'importance_type': 'gain', 'learning_rate': 0.25, 'max_delta_step': 0, 'max_depth': 9, 'min_child_weight': 1, 'missing': None, 'n_estimators': 11, 'n_jobs': 1, 'nthread': None, 'objective': 'reg:linear', 'random_state': 0, 'reg_alpha': 0, 'reg_lambda': 1, 'scale_pos_weight': 1, 'seed': None, 'silent': None, 'subsample': 1, 'verbosity': 1, 'warm_start': True}\n"
          ]
        },
        {
          "output_type": "stream",
          "name": "stderr",
          "text": [
            "WORKER: registered result for job (9, 0, 6) with dispatcher\n",
            "WORKER: start processing job (9, 0, 7)\n"
          ]
        },
        {
          "output_type": "stream",
          "name": "stdout",
          "text": [
            "{'base_score': 0.5, 'booster': 'gbtree', 'colsample_bylevel': 1, 'colsample_bynode': 1, 'colsample_bytree': 1, 'gamma': 0, 'importance_type': 'gain', 'learning_rate': 0.25, 'max_delta_step': 0, 'max_depth': 9, 'min_child_weight': 1, 'missing': None, 'n_estimators': 11, 'n_jobs': 1, 'nthread': None, 'objective': 'reg:linear', 'random_state': 0, 'reg_alpha': 0, 'reg_lambda': 1, 'scale_pos_weight': 1, 'seed': None, 'silent': None, 'subsample': 1, 'verbosity': 1, 'warm_start': True}\n"
          ]
        },
        {
          "output_type": "stream",
          "name": "stderr",
          "text": [
            "WORKER: registered result for job (9, 0, 7) with dispatcher\n",
            "WORKER: start processing job (9, 0, 8)\n"
          ]
        },
        {
          "output_type": "stream",
          "name": "stdout",
          "text": [
            "{'base_score': 0.5, 'booster': 'gbtree', 'colsample_bylevel': 1, 'colsample_bynode': 1, 'colsample_bytree': 1, 'gamma': 0, 'importance_type': 'gain', 'learning_rate': 0.25, 'max_delta_step': 0, 'max_depth': 9, 'min_child_weight': 1, 'missing': None, 'n_estimators': 11, 'n_jobs': 1, 'nthread': None, 'objective': 'reg:linear', 'random_state': 0, 'reg_alpha': 0, 'reg_lambda': 1, 'scale_pos_weight': 1, 'seed': None, 'silent': None, 'subsample': 1, 'verbosity': 1, 'warm_start': True}\n"
          ]
        },
        {
          "output_type": "stream",
          "name": "stderr",
          "text": [
            "WORKER: registered result for job (9, 0, 8) with dispatcher\n",
            "WORKER: start processing job (9, 0, 0)\n"
          ]
        },
        {
          "output_type": "stream",
          "name": "stdout",
          "text": [
            "{'base_score': 0.5, 'booster': 'gbtree', 'colsample_bylevel': 1, 'colsample_bynode': 1, 'colsample_bytree': 1, 'gamma': 0, 'importance_type': 'gain', 'learning_rate': 0.25, 'max_delta_step': 0, 'max_depth': 9, 'min_child_weight': 1, 'missing': None, 'n_estimators': 33, 'n_jobs': 1, 'nthread': None, 'objective': 'reg:linear', 'random_state': 0, 'reg_alpha': 0, 'reg_lambda': 1, 'scale_pos_weight': 1, 'seed': None, 'silent': None, 'subsample': 1, 'verbosity': 1, 'warm_start': True}\n"
          ]
        },
        {
          "output_type": "stream",
          "name": "stderr",
          "text": [
            "WORKER: registered result for job (9, 0, 0) with dispatcher\n",
            "WORKER: start processing job (9, 0, 1)\n"
          ]
        },
        {
          "output_type": "stream",
          "name": "stdout",
          "text": [
            "{'base_score': 0.5, 'booster': 'gbtree', 'colsample_bylevel': 1, 'colsample_bynode': 1, 'colsample_bytree': 1, 'gamma': 0, 'importance_type': 'gain', 'learning_rate': 0.25, 'max_delta_step': 0, 'max_depth': 9, 'min_child_weight': 1, 'missing': None, 'n_estimators': 33, 'n_jobs': 1, 'nthread': None, 'objective': 'reg:linear', 'random_state': 0, 'reg_alpha': 0, 'reg_lambda': 1, 'scale_pos_weight': 1, 'seed': None, 'silent': None, 'subsample': 1, 'verbosity': 1, 'warm_start': True}\n"
          ]
        },
        {
          "output_type": "stream",
          "name": "stderr",
          "text": [
            "WORKER: registered result for job (9, 0, 1) with dispatcher\n",
            "WORKER: start processing job (9, 0, 2)\n"
          ]
        },
        {
          "output_type": "stream",
          "name": "stdout",
          "text": [
            "{'base_score': 0.5, 'booster': 'gbtree', 'colsample_bylevel': 1, 'colsample_bynode': 1, 'colsample_bytree': 1, 'gamma': 0, 'importance_type': 'gain', 'learning_rate': 0, 'max_delta_step': 0, 'max_depth': 1, 'min_child_weight': 1, 'missing': None, 'n_estimators': 33, 'n_jobs': 1, 'nthread': None, 'objective': 'reg:linear', 'random_state': 0, 'reg_alpha': 0, 'reg_lambda': 1, 'scale_pos_weight': 1, 'seed': None, 'silent': None, 'subsample': 1, 'verbosity': 1, 'warm_start': True}\n"
          ]
        },
        {
          "output_type": "stream",
          "name": "stderr",
          "text": [
            "WORKER: registered result for job (9, 0, 2) with dispatcher\n",
            "WORKER: start processing job (9, 0, 1)\n"
          ]
        },
        {
          "output_type": "stream",
          "name": "stdout",
          "text": [
            "{'base_score': 0.5, 'booster': 'gbtree', 'colsample_bylevel': 1, 'colsample_bynode': 1, 'colsample_bytree': 1, 'gamma': 0, 'importance_type': 'gain', 'learning_rate': 0.25, 'max_delta_step': 0, 'max_depth': 9, 'min_child_weight': 1, 'missing': None, 'n_estimators': 100, 'n_jobs': 1, 'nthread': None, 'objective': 'reg:linear', 'random_state': 0, 'reg_alpha': 0, 'reg_lambda': 1, 'scale_pos_weight': 1, 'seed': None, 'silent': None, 'subsample': 1, 'verbosity': 1, 'warm_start': True}\n"
          ]
        },
        {
          "output_type": "stream",
          "name": "stderr",
          "text": [
            "WORKER: registered result for job (9, 0, 1) with dispatcher\n",
            "\n",
            "Best score: -0.5137831221183291\n",
            "Best found configuration: {'learning_rate': 0.25, 'max_depth': 9}\n",
            "A total of 54 unique configurations where sampled.\n",
            "A total of 73 runs where executed.\n",
            "Total budget of resource 'n_estimators' corresponds to 27.000000000000014 full function evaluations.\n"
          ]
        },
        {
          "output_type": "stream",
          "name": "stdout",
          "text": [
            "[{'fit_error': None, 'test_scores': {'score': -3.420806808023003}, 'n_test_samples': 99, 'fit_time': 0.010006189346313477, 'score_time': 0.0005881786346435547}, {'fit_error': None, 'test_scores': {'score': 0.11905028403535167}, 'n_test_samples': 99, 'fit_time': 0.009514808654785156, 'score_time': 0.0005035400390625}, {'fit_error': None, 'test_scores': {'score': -0.18733419243659455}, 'n_test_samples': 99, 'fit_time': 0.009053468704223633, 'score_time': 0.0004570484161376953}, {'fit_error': None, 'test_scores': {'score': -1.0983424508983308}, 'n_test_samples': 99, 'fit_time': 0.00896453857421875, 'score_time': 0.0004417896270751953}, {'fit_error': None, 'test_scores': {'score': -1.0716697840362208}, 'n_test_samples': 98, 'fit_time': 0.008831024169921875, 'score_time': 0.0004875659942626953}, {'fit_error': None, 'test_scores': {'score': -4.662315741419269}, 'n_test_samples': 99, 'fit_time': 0.04793357849121094, 'score_time': 0.0008769035339355469}, {'fit_error': None, 'test_scores': {'score': 0.1758755419108906}, 'n_test_samples': 99, 'fit_time': 0.031082868576049805, 'score_time': 0.0008547306060791016}, {'fit_error': None, 'test_scores': {'score': -0.3972856275868355}, 'n_test_samples': 99, 'fit_time': 0.026340961456298828, 'score_time': 0.0008413791656494141}, {'fit_error': None, 'test_scores': {'score': -1.3858167691244212}, 'n_test_samples': 99, 'fit_time': 0.03160738945007324, 'score_time': 0.0010099411010742188}, {'fit_error': None, 'test_scores': {'score': -0.8432323089552825}, 'n_test_samples': 98, 'fit_time': 0.027025222778320312, 'score_time': 0.0009315013885498047}, {'fit_error': None, 'test_scores': {'score': -6.522733558917241}, 'n_test_samples': 99, 'fit_time': 0.01011800765991211, 'score_time': 0.0005164146423339844}, {'fit_error': None, 'test_scores': {'score': 0.2421001483657821}, 'n_test_samples': 99, 'fit_time': 0.011112451553344727, 'score_time': 0.0007317066192626953}, {'fit_error': None, 'test_scores': {'score': -0.3797615640026939}, 'n_test_samples': 99, 'fit_time': 0.013252973556518555, 'score_time': 0.0007445812225341797}, {'fit_error': None, 'test_scores': {'score': -1.5740467742297408}, 'n_test_samples': 99, 'fit_time': 0.013805150985717773, 'score_time': 0.0007498264312744141}, {'fit_error': None, 'test_scores': {'score': -0.7940688983784601}, 'n_test_samples': 98, 'fit_time': 0.012502670288085938, 'score_time': 0.0007505416870117188}, {'fit_error': None, 'test_scores': {'score': -6.522733558917241}, 'n_test_samples': 99, 'fit_time': 0.018581628799438477, 'score_time': 0.0008261203765869141}, {'fit_error': None, 'test_scores': {'score': 0.2421001483657821}, 'n_test_samples': 99, 'fit_time': 0.01866936683654785, 'score_time': 0.000804901123046875}, {'fit_error': None, 'test_scores': {'score': -0.3797615640026939}, 'n_test_samples': 99, 'fit_time': 0.02253127098083496, 'score_time': 0.0008056163787841797}, {'fit_error': None, 'test_scores': {'score': -1.5740467742297408}, 'n_test_samples': 99, 'fit_time': 0.016546010971069336, 'score_time': 0.0007622241973876953}, {'fit_error': None, 'test_scores': {'score': -0.7940688983784601}, 'n_test_samples': 98, 'fit_time': 0.01961970329284668, 'score_time': 0.0009179115295410156}, {'fit_error': None, 'test_scores': {'score': -6.522733558917241}, 'n_test_samples': 99, 'fit_time': 0.017713308334350586, 'score_time': 0.0008366107940673828}, {'fit_error': None, 'test_scores': {'score': 0.2421001483657821}, 'n_test_samples': 99, 'fit_time': 0.014847040176391602, 'score_time': 0.0007607936859130859}, {'fit_error': None, 'test_scores': {'score': -0.3797615640026939}, 'n_test_samples': 99, 'fit_time': 0.013817787170410156, 'score_time': 0.0007741451263427734}, {'fit_error': None, 'test_scores': {'score': -1.5740467742297408}, 'n_test_samples': 99, 'fit_time': 0.014684915542602539, 'score_time': 0.0008213520050048828}, {'fit_error': None, 'test_scores': {'score': -0.7940688983784601}, 'n_test_samples': 98, 'fit_time': 0.01449441909790039, 'score_time': 0.0008037090301513672}, {'fit_error': None, 'test_scores': {'score': -6.522733558917241}, 'n_test_samples': 99, 'fit_time': 0.014868497848510742, 'score_time': 0.0009050369262695312}, {'fit_error': None, 'test_scores': {'score': 0.2421001483657821}, 'n_test_samples': 99, 'fit_time': 0.016828060150146484, 'score_time': 0.0008320808410644531}, {'fit_error': None, 'test_scores': {'score': -0.3797615640026939}, 'n_test_samples': 99, 'fit_time': 0.012000799179077148, 'score_time': 0.0005443096160888672}, {'fit_error': None, 'test_scores': {'score': -1.5740467742297408}, 'n_test_samples': 99, 'fit_time': 0.011727571487426758, 'score_time': 0.0005459785461425781}, {'fit_error': None, 'test_scores': {'score': -0.7940688983784601}, 'n_test_samples': 98, 'fit_time': 0.011725902557373047, 'score_time': 0.0005526542663574219}, {'fit_error': None, 'test_scores': {'score': -6.522733558917241}, 'n_test_samples': 99, 'fit_time': 0.017038345336914062, 'score_time': 0.0006279945373535156}, {'fit_error': None, 'test_scores': {'score': 0.2421001483657821}, 'n_test_samples': 99, 'fit_time': 0.013801097869873047, 'score_time': 0.0005860328674316406}, {'fit_error': None, 'test_scores': {'score': -0.3797615640026939}, 'n_test_samples': 99, 'fit_time': 0.016887426376342773, 'score_time': 0.000997304916381836}, {'fit_error': None, 'test_scores': {'score': -1.5740467742297408}, 'n_test_samples': 99, 'fit_time': 0.014164447784423828, 'score_time': 0.0005705356597900391}, {'fit_error': None, 'test_scores': {'score': -0.7940688983784601}, 'n_test_samples': 98, 'fit_time': 0.01293492317199707, 'score_time': 0.0005948543548583984}, {'fit_error': None, 'test_scores': {'score': -5.827831076738604}, 'n_test_samples': 99, 'fit_time': 0.018334388732910156, 'score_time': 0.0006563663482666016}, {'fit_error': None, 'test_scores': {'score': 0.17658104559701604}, 'n_test_samples': 99, 'fit_time': 0.012862920761108398, 'score_time': 0.0006279945373535156}, {'fit_error': None, 'test_scores': {'score': -0.38766029892914644}, 'n_test_samples': 99, 'fit_time': 0.011352777481079102, 'score_time': 0.0005793571472167969}, {'fit_error': None, 'test_scores': {'score': -1.4583771237894942}, 'n_test_samples': 99, 'fit_time': 0.01274418830871582, 'score_time': 0.0006427764892578125}, {'fit_error': None, 'test_scores': {'score': -0.8291295126680802}, 'n_test_samples': 98, 'fit_time': 0.01213693618774414, 'score_time': 0.0006422996520996094}, {'fit_error': None, 'test_scores': {'score': -5.537380348223283}, 'n_test_samples': 99, 'fit_time': 0.014998674392700195, 'score_time': 0.0006692409515380859}, {'fit_error': None, 'test_scores': {'score': 0.17811256711837176}, 'n_test_samples': 99, 'fit_time': 0.013753175735473633, 'score_time': 0.0011334419250488281}, {'fit_error': None, 'test_scores': {'score': -0.40255470760209344}, 'n_test_samples': 99, 'fit_time': 0.012868642807006836, 'score_time': 0.0006227493286132812}, {'fit_error': None, 'test_scores': {'score': -1.447630177215017}, 'n_test_samples': 99, 'fit_time': 0.01949596405029297, 'score_time': 0.0011832714080810547}, {'fit_error': None, 'test_scores': {'score': -0.8340073982747793}, 'n_test_samples': 98, 'fit_time': 0.020384550094604492, 'score_time': 0.0010471343994140625}, {'fit_error': None, 'test_scores': {'score': -4.3186976844417675}, 'n_test_samples': 99, 'fit_time': 0.025847434997558594, 'score_time': 0.0008902549743652344}, {'fit_error': None, 'test_scores': {'score': 0.1743321421181252}, 'n_test_samples': 99, 'fit_time': 0.028873682022094727, 'score_time': 0.0009300708770751953}, {'fit_error': None, 'test_scores': {'score': -0.3965762337887886}, 'n_test_samples': 99, 'fit_time': 0.02302408218383789, 'score_time': 0.0009493827819824219}, {'fit_error': None, 'test_scores': {'score': -1.382420065243743}, 'n_test_samples': 99, 'fit_time': 0.03015613555908203, 'score_time': 0.0011525154113769531}, {'fit_error': None, 'test_scores': {'score': -0.843933700401361}, 'n_test_samples': 98, 'fit_time': 0.026970386505126953, 'score_time': 0.0010433197021484375}, {'fit_error': None, 'test_scores': {'score': -3.9599224243473303}, 'n_test_samples': 99, 'fit_time': 0.04554414749145508, 'score_time': 0.0012097358703613281}, {'fit_error': None, 'test_scores': {'score': 0.1856168381787856}, 'n_test_samples': 99, 'fit_time': 0.04728531837463379, 'score_time': 0.0015799999237060547}, {'fit_error': None, 'test_scores': {'score': -0.3982973478689873}, 'n_test_samples': 99, 'fit_time': 0.046343326568603516, 'score_time': 0.0015370845794677734}, {'fit_error': None, 'test_scores': {'score': -1.3812413924939397}, 'n_test_samples': 99, 'fit_time': 0.10805320739746094, 'score_time': 0.0023932456970214844}, {'fit_error': None, 'test_scores': {'score': -0.8456123203217574}, 'n_test_samples': 98, 'fit_time': 0.09509968757629395, 'score_time': 0.0021224021911621094}, {'fit_error': None, 'test_scores': {'score': -5.537380348223283}, 'n_test_samples': 99, 'fit_time': 0.020800113677978516, 'score_time': 0.0010864734649658203}, {'fit_error': None, 'test_scores': {'score': 0.17811256711837176}, 'n_test_samples': 99, 'fit_time': 0.023082256317138672, 'score_time': 0.0010304450988769531}, {'fit_error': None, 'test_scores': {'score': -0.40255470760209344}, 'n_test_samples': 99, 'fit_time': 0.02349257469177246, 'score_time': 0.0009558200836181641}, {'fit_error': None, 'test_scores': {'score': -1.447630177215017}, 'n_test_samples': 99, 'fit_time': 0.024646759033203125, 'score_time': 0.0010790824890136719}, {'fit_error': None, 'test_scores': {'score': -0.8340073982747793}, 'n_test_samples': 98, 'fit_time': 0.020475149154663086, 'score_time': 0.0011320114135742188}, {'fit_error': None, 'test_scores': {'score': -4.3186976844417675}, 'n_test_samples': 99, 'fit_time': 0.02301812171936035, 'score_time': 0.0008835792541503906}, {'fit_error': None, 'test_scores': {'score': 0.1743321421181252}, 'n_test_samples': 99, 'fit_time': 0.02476978302001953, 'score_time': 0.0009505748748779297}, {'fit_error': None, 'test_scores': {'score': -0.3965762337887886}, 'n_test_samples': 99, 'fit_time': 0.021813631057739258, 'score_time': 0.0009751319885253906}, {'fit_error': None, 'test_scores': {'score': -1.382420065243743}, 'n_test_samples': 99, 'fit_time': 0.022216081619262695, 'score_time': 0.0011827945709228516}, {'fit_error': None, 'test_scores': {'score': -0.843933700401361}, 'n_test_samples': 98, 'fit_time': 0.023653030395507812, 'score_time': 0.003930807113647461}, {'fit_error': None, 'test_scores': {'score': -49.0299738278294}, 'n_test_samples': 99, 'fit_time': 0.02521538734436035, 'score_time': 0.0015633106231689453}, {'fit_error': None, 'test_scores': {'score': -38.557927006818446}, 'n_test_samples': 99, 'fit_time': 0.03336191177368164, 'score_time': 0.0010204315185546875}, {'fit_error': None, 'test_scores': {'score': -5.264678697824723}, 'n_test_samples': 99, 'fit_time': 0.025065898895263672, 'score_time': 0.0006155967712402344}, {'fit_error': None, 'test_scores': {'score': -25.856782798776052}, 'n_test_samples': 99, 'fit_time': 0.02405095100402832, 'score_time': 0.0009572505950927734}, {'fit_error': None, 'test_scores': {'score': -19.31938948651936}, 'n_test_samples': 98, 'fit_time': 0.021910429000854492, 'score_time': 0.0008461475372314453}, {'fit_error': None, 'test_scores': {'score': -49.0299738278294}, 'n_test_samples': 99, 'fit_time': 0.0888824462890625, 'score_time': 0.0014548301696777344}, {'fit_error': None, 'test_scores': {'score': -38.557927006818446}, 'n_test_samples': 99, 'fit_time': 0.13178753852844238, 'score_time': 0.001390218734741211}, {'fit_error': None, 'test_scores': {'score': -5.264678697824723}, 'n_test_samples': 99, 'fit_time': 0.12689876556396484, 'score_time': 0.0012736320495605469}, {'fit_error': None, 'test_scores': {'score': -25.856782798776052}, 'n_test_samples': 99, 'fit_time': 0.15650510787963867, 'score_time': 0.0011615753173828125}, {'fit_error': None, 'test_scores': {'score': -19.31938948651936}, 'n_test_samples': 98, 'fit_time': 0.1337742805480957, 'score_time': 0.008345603942871094}, {'fit_error': None, 'test_scores': {'score': -49.0299738278294}, 'n_test_samples': 99, 'fit_time': 0.03922319412231445, 'score_time': 0.001199483871459961}, {'fit_error': None, 'test_scores': {'score': -38.557927006818446}, 'n_test_samples': 99, 'fit_time': 0.025362253189086914, 'score_time': 0.0009789466857910156}, {'fit_error': None, 'test_scores': {'score': -5.264678697824723}, 'n_test_samples': 99, 'fit_time': 0.024907588958740234, 'score_time': 0.0008714199066162109}, {'fit_error': None, 'test_scores': {'score': -25.856782798776052}, 'n_test_samples': 99, 'fit_time': 0.026659488677978516, 'score_time': 0.0008974075317382812}, {'fit_error': None, 'test_scores': {'score': -19.31938948651936}, 'n_test_samples': 98, 'fit_time': 0.03693723678588867, 'score_time': 0.0009331703186035156}, {'fit_error': None, 'test_scores': {'score': -49.0299738278294}, 'n_test_samples': 99, 'fit_time': 0.04087662696838379, 'score_time': 0.0010552406311035156}, {'fit_error': None, 'test_scores': {'score': -38.557927006818446}, 'n_test_samples': 99, 'fit_time': 0.04042553901672363, 'score_time': 0.0010144710540771484}, {'fit_error': None, 'test_scores': {'score': -5.264678697824723}, 'n_test_samples': 99, 'fit_time': 0.034087419509887695, 'score_time': 0.0009627342224121094}, {'fit_error': None, 'test_scores': {'score': -25.856782798776052}, 'n_test_samples': 99, 'fit_time': 0.027894973754882812, 'score_time': 0.0008885860443115234}, {'fit_error': None, 'test_scores': {'score': -19.31938948651936}, 'n_test_samples': 98, 'fit_time': 0.02663588523864746, 'score_time': 0.0009410381317138672}, {'fit_error': None, 'test_scores': {'score': -6.018281021492954}, 'n_test_samples': 99, 'fit_time': 0.11518359184265137, 'score_time': 0.0018928050994873047}, {'fit_error': None, 'test_scores': {'score': 0.16965746730584008}, 'n_test_samples': 99, 'fit_time': 0.17963075637817383, 'score_time': 0.0018301010131835938}, {'fit_error': None, 'test_scores': {'score': -0.4858639731651597}, 'n_test_samples': 99, 'fit_time': 0.14016246795654297, 'score_time': 0.0018093585968017578}, {'fit_error': None, 'test_scores': {'score': -1.475884736180686}, 'n_test_samples': 99, 'fit_time': 0.13707733154296875, 'score_time': 0.0017695426940917969}, {'fit_error': None, 'test_scores': {'score': -0.884162751946528}, 'n_test_samples': 98, 'fit_time': 0.17558741569519043, 'score_time': 0.004784822463989258}, {'fit_error': None, 'test_scores': {'score': -4.911556606322404}, 'n_test_samples': 99, 'fit_time': 0.12809205055236816, 'score_time': 0.0021669864654541016}, {'fit_error': None, 'test_scores': {'score': 0.19602293295676732}, 'n_test_samples': 99, 'fit_time': 0.11459684371948242, 'score_time': 0.002119302749633789}, {'fit_error': None, 'test_scores': {'score': -0.4979807935781084}, 'n_test_samples': 99, 'fit_time': 0.24362468719482422, 'score_time': 0.002399921417236328}, {'fit_error': None, 'test_scores': {'score': -1.4599834068407538}, 'n_test_samples': 99, 'fit_time': 0.24483489990234375, 'score_time': 0.0023193359375}, {'fit_error': None, 'test_scores': {'score': -0.8882327444954838}, 'n_test_samples': 98, 'fit_time': 0.21276593208312988, 'score_time': 0.006381988525390625}, {'fit_error': None, 'test_scores': {'score': -4.911556606322404}, 'n_test_samples': 99, 'fit_time': 0.10062241554260254, 'score_time': 0.0028367042541503906}, {'fit_error': None, 'test_scores': {'score': 0.19602293295676732}, 'n_test_samples': 99, 'fit_time': 0.12692952156066895, 'score_time': 0.0022323131561279297}, {'fit_error': None, 'test_scores': {'score': -0.4979807935781084}, 'n_test_samples': 99, 'fit_time': 0.13604116439819336, 'score_time': 0.00580286979675293}, {'fit_error': None, 'test_scores': {'score': -1.4599834068407538}, 'n_test_samples': 99, 'fit_time': 0.15105748176574707, 'score_time': 0.008464574813842773}, {'fit_error': None, 'test_scores': {'score': -0.8882327444954838}, 'n_test_samples': 98, 'fit_time': 0.11622881889343262, 'score_time': 0.0023212432861328125}, {'fit_error': None, 'test_scores': {'score': -62.788599780402556}, 'n_test_samples': 99, 'fit_time': 0.011552095413208008, 'score_time': 0.0007808208465576172}, {'fit_error': None, 'test_scores': {'score': 0.20268919626222626}, 'n_test_samples': 99, 'fit_time': 0.016820430755615234, 'score_time': 0.0007264614105224609}, {'fit_error': None, 'test_scores': {'score': 0.03247893136444402}, 'n_test_samples': 99, 'fit_time': 0.008738279342651367, 'score_time': 0.0006861686706542969}, {'fit_error': None, 'test_scores': {'score': -0.6326043144363871}, 'n_test_samples': 99, 'fit_time': 0.021615028381347656, 'score_time': 0.0006997585296630859}, {'fit_error': None, 'test_scores': {'score': -1.2151357248735932}, 'n_test_samples': 98, 'fit_time': 0.02129507064819336, 'score_time': 0.0006849765777587891}, {'fit_error': None, 'test_scores': {'score': -0.46262025054841627}, 'n_test_samples': 99, 'fit_time': 0.07084441184997559, 'score_time': 0.0010166168212890625}, {'fit_error': None, 'test_scores': {'score': 0.2648898099483341}, 'n_test_samples': 99, 'fit_time': 0.04794621467590332, 'score_time': 0.0009281635284423828}, {'fit_error': None, 'test_scores': {'score': -0.2709121738113991}, 'n_test_samples': 99, 'fit_time': 0.019778013229370117, 'score_time': 0.0009071826934814453}, {'fit_error': None, 'test_scores': {'score': -1.3673771229794762}, 'n_test_samples': 99, 'fit_time': 0.02440929412841797, 'score_time': 0.0009484291076660156}, {'fit_error': None, 'test_scores': {'score': -0.7338129791138452}, 'n_test_samples': 98, 'fit_time': 0.019574642181396484, 'score_time': 0.0008499622344970703}, {'fit_error': None, 'test_scores': {'score': -0.49796012886158514}, 'n_test_samples': 99, 'fit_time': 0.1264514923095703, 'score_time': 0.011126279830932617}, {'fit_error': None, 'test_scores': {'score': 0.2985036374068306}, 'n_test_samples': 99, 'fit_time': 0.12132644653320312, 'score_time': 0.0016155242919921875}, {'fit_error': None, 'test_scores': {'score': -0.26701059377041636}, 'n_test_samples': 99, 'fit_time': 0.07825565338134766, 'score_time': 0.001795053482055664}, {'fit_error': None, 'test_scores': {'score': -1.3671007691441326}, 'n_test_samples': 99, 'fit_time': 0.15107178688049316, 'score_time': 0.0017514228820800781}, {'fit_error': None, 'test_scores': {'score': -0.7353516023659312}, 'n_test_samples': 98, 'fit_time': 0.1560046672821045, 'score_time': 0.009775638580322266}, {'fit_error': None, 'test_scores': {'score': -0.46115089384538055}, 'n_test_samples': 99, 'fit_time': 0.04276323318481445, 'score_time': 0.0009398460388183594}, {'fit_error': None, 'test_scores': {'score': 0.2771046878657285}, 'n_test_samples': 99, 'fit_time': 0.024293184280395508, 'score_time': 0.000978708267211914}, {'fit_error': None, 'test_scores': {'score': -0.27088528439615667}, 'n_test_samples': 99, 'fit_time': 0.023015975952148438, 'score_time': 0.0010802745819091797}, {'fit_error': None, 'test_scores': {'score': -1.3669185783103615}, 'n_test_samples': 99, 'fit_time': 0.032267093658447266, 'score_time': 0.0011715888977050781}, {'fit_error': None, 'test_scores': {'score': -0.7347533265760693}, 'n_test_samples': 98, 'fit_time': 0.051108360290527344, 'score_time': 0.0012264251708984375}, {'fit_error': None, 'test_scores': {'score': -0.4979608591386453}, 'n_test_samples': 99, 'fit_time': 0.08529782295227051, 'score_time': 0.0015299320220947266}, {'fit_error': None, 'test_scores': {'score': 0.29850772917005497}, 'n_test_samples': 99, 'fit_time': 0.12853407859802246, 'score_time': 0.001766204833984375}, {'fit_error': None, 'test_scores': {'score': -0.26700904160865924}, 'n_test_samples': 99, 'fit_time': 0.10836648941040039, 'score_time': 0.001964569091796875}, {'fit_error': None, 'test_scores': {'score': -1.3671007691441326}, 'n_test_samples': 99, 'fit_time': 0.13714265823364258, 'score_time': 0.014839410781860352}, {'fit_error': None, 'test_scores': {'score': -0.7353519454092408}, 'n_test_samples': 98, 'fit_time': 0.15290069580078125, 'score_time': 0.0018095970153808594}, {'fit_error': None, 'test_scores': {'score': -0.4979608591386453}, 'n_test_samples': 99, 'fit_time': 0.10677552223205566, 'score_time': 0.001725912094116211}, {'fit_error': None, 'test_scores': {'score': 0.298507004709032}, 'n_test_samples': 99, 'fit_time': 0.14310646057128906, 'score_time': 0.004197597503662109}, {'fit_error': None, 'test_scores': {'score': -0.26700904160865924}, 'n_test_samples': 99, 'fit_time': 0.12430906295776367, 'score_time': 0.0018696784973144531}, {'fit_error': None, 'test_scores': {'score': -1.3671007691441326}, 'n_test_samples': 99, 'fit_time': 0.08764171600341797, 'score_time': 0.0018188953399658203}, {'fit_error': None, 'test_scores': {'score': -0.7353519454092408}, 'n_test_samples': 98, 'fit_time': 0.05059409141540527, 'score_time': 0.0017502307891845703}, {'fit_error': None, 'test_scores': {'score': -0.5087444730457835}, 'n_test_samples': 99, 'fit_time': 0.03849911689758301, 'score_time': 0.0010228157043457031}, {'fit_error': None, 'test_scores': {'score': 0.2771910722092037}, 'n_test_samples': 99, 'fit_time': 0.04515409469604492, 'score_time': 0.0009946823120117188}, {'fit_error': None, 'test_scores': {'score': -0.2717352694108677}, 'n_test_samples': 99, 'fit_time': 0.0391843318939209, 'score_time': 0.0011816024780273438}, {'fit_error': None, 'test_scores': {'score': -1.3668031145202897}, 'n_test_samples': 99, 'fit_time': 0.03696298599243164, 'score_time': 0.004227638244628906}, {'fit_error': None, 'test_scores': {'score': -0.735251175098919}, 'n_test_samples': 98, 'fit_time': 0.03163743019104004, 'score_time': 0.0009963512420654297}, {'fit_error': None, 'test_scores': {'score': -0.5147092242921107}, 'n_test_samples': 99, 'fit_time': 0.06290745735168457, 'score_time': 0.0011415481567382812}, {'fit_error': None, 'test_scores': {'score': 0.28829248345825553}, 'n_test_samples': 99, 'fit_time': 0.042946577072143555, 'score_time': 0.0010411739349365234}, {'fit_error': None, 'test_scores': {'score': -0.2688395691429051}, 'n_test_samples': 99, 'fit_time': 0.04319500923156738, 'score_time': 0.0012586116790771484}, {'fit_error': None, 'test_scores': {'score': -1.3668637354025632}, 'n_test_samples': 99, 'fit_time': 0.06459426879882812, 'score_time': 0.001251220703125}, {'fit_error': None, 'test_scores': {'score': -0.7351728913567155}, 'n_test_samples': 98, 'fit_time': 0.07885885238647461, 'score_time': 0.0012788772583007812}, {'fit_error': None, 'test_scores': {'score': -0.5175035802018106}, 'n_test_samples': 99, 'fit_time': 0.0846099853515625, 'score_time': 0.0011649131774902344}, {'fit_error': None, 'test_scores': {'score': 0.29090566938132867}, 'n_test_samples': 99, 'fit_time': 0.06920218467712402, 'score_time': 0.001222848892211914}, {'fit_error': None, 'test_scores': {'score': -0.2685026149137957}, 'n_test_samples': 99, 'fit_time': 0.07336711883544922, 'score_time': 0.0013420581817626953}, {'fit_error': None, 'test_scores': {'score': -1.3669645288772925}, 'n_test_samples': 99, 'fit_time': 0.03793668746948242, 'score_time': 0.0011856555938720703}, {'fit_error': None, 'test_scores': {'score': -0.7351442835998938}, 'n_test_samples': 98, 'fit_time': 0.022058486938476562, 'score_time': 0.0011038780212402344}, {'fit_error': None, 'test_scores': {'score': -0.5131148075117629}, 'n_test_samples': 99, 'fit_time': 0.07276010513305664, 'score_time': 0.004388332366943359}, {'fit_error': None, 'test_scores': {'score': 0.2939124793684662}, 'n_test_samples': 99, 'fit_time': 0.04968142509460449, 'score_time': 0.008324861526489258}, {'fit_error': None, 'test_scores': {'score': -0.2677041645022782}, 'n_test_samples': 99, 'fit_time': 0.03454709053039551, 'score_time': 0.0012083053588867188}, {'fit_error': None, 'test_scores': {'score': -1.3669547996811136}, 'n_test_samples': 99, 'fit_time': 0.026972293853759766, 'score_time': 0.0011701583862304688}, {'fit_error': None, 'test_scores': {'score': -0.7352930685539392}, 'n_test_samples': 98, 'fit_time': 0.05916142463684082, 'score_time': 0.0012934207916259766}, {'fit_error': None, 'test_scores': {'score': -0.5136796542833137}, 'n_test_samples': 99, 'fit_time': 0.06372284889221191, 'score_time': 0.001180410385131836}, {'fit_error': None, 'test_scores': {'score': 0.2938938688173456}, 'n_test_samples': 99, 'fit_time': 0.0411229133605957, 'score_time': 0.0012738704681396484}, {'fit_error': None, 'test_scores': {'score': -0.26783231952000586}, 'n_test_samples': 99, 'fit_time': 0.02225327491760254, 'score_time': 0.011369466781616211}, {'fit_error': None, 'test_scores': {'score': -1.3669681143469825}, 'n_test_samples': 99, 'fit_time': 0.03105473518371582, 'score_time': 0.0012829303741455078}, {'fit_error': None, 'test_scores': {'score': -0.7352809401137337}, 'n_test_samples': 98, 'fit_time': 0.028565168380737305, 'score_time': 0.0012767314910888672}, {'fit_error': None, 'test_scores': {'score': -0.5109110094941576}, 'n_test_samples': 99, 'fit_time': 0.06004524230957031, 'score_time': 0.0013713836669921875}, {'fit_error': None, 'test_scores': {'score': 0.2931765557976278}, 'n_test_samples': 99, 'fit_time': 0.060260772705078125, 'score_time': 0.0035772323608398438}, {'fit_error': None, 'test_scores': {'score': -0.2680394581478365}, 'n_test_samples': 99, 'fit_time': 0.06523013114929199, 'score_time': 0.004518032073974609}, {'fit_error': None, 'test_scores': {'score': -1.3669657829961053}, 'n_test_samples': 99, 'fit_time': 0.04969954490661621, 'score_time': 0.0013835430145263672}, {'fit_error': None, 'test_scores': {'score': -0.7352886213522707}, 'n_test_samples': 98, 'fit_time': 0.02448439598083496, 'score_time': 0.00125885009765625}, {'fit_error': None, 'test_scores': {'score': -0.4979608591386453}, 'n_test_samples': 99, 'fit_time': 0.11302375793457031, 'score_time': 0.00939321517944336}, {'fit_error': None, 'test_scores': {'score': 0.298507004709032}, 'n_test_samples': 99, 'fit_time': 0.09544968605041504, 'score_time': 0.0016345977783203125}, {'fit_error': None, 'test_scores': {'score': -0.26700904160865924}, 'n_test_samples': 99, 'fit_time': 0.13982391357421875, 'score_time': 0.009931564331054688}, {'fit_error': None, 'test_scores': {'score': -1.3671007691441326}, 'n_test_samples': 99, 'fit_time': 0.09151840209960938, 'score_time': 0.0017778873443603516}, {'fit_error': None, 'test_scores': {'score': -0.7353519454092408}, 'n_test_samples': 98, 'fit_time': 0.07172751426696777, 'score_time': 0.011797666549682617}, {'fit_error': None, 'test_scores': {'score': -7.131742568269436}, 'n_test_samples': 99, 'fit_time': 0.0828714370727539, 'score_time': 0.0010662078857421875}, {'fit_error': None, 'test_scores': {'score': 0.2590400170024201}, 'n_test_samples': 99, 'fit_time': 0.05034780502319336, 'score_time': 0.0009794235229492188}, {'fit_error': None, 'test_scores': {'score': -0.47322147229410083}, 'n_test_samples': 99, 'fit_time': 0.1152651309967041, 'score_time': 0.0010268688201904297}, {'fit_error': None, 'test_scores': {'score': -1.191115316502628}, 'n_test_samples': 99, 'fit_time': 0.07249236106872559, 'score_time': 0.0011796951293945312}, {'fit_error': None, 'test_scores': {'score': -0.8740488119131127}, 'n_test_samples': 98, 'fit_time': 0.05970573425292969, 'score_time': 0.0010595321655273438}, {'fit_error': None, 'test_scores': {'score': -6.913608514270559}, 'n_test_samples': 99, 'fit_time': 0.11535382270812988, 'score_time': 0.0012314319610595703}, {'fit_error': None, 'test_scores': {'score': 0.25664500735889806}, 'n_test_samples': 99, 'fit_time': 0.11118650436401367, 'score_time': 0.001294851303100586}, {'fit_error': None, 'test_scores': {'score': -0.47737857547850293}, 'n_test_samples': 99, 'fit_time': 0.11787223815917969, 'score_time': 0.016414642333984375}, {'fit_error': None, 'test_scores': {'score': -1.1974275309699753}, 'n_test_samples': 99, 'fit_time': 0.0679175853729248, 'score_time': 0.0013403892517089844}, {'fit_error': None, 'test_scores': {'score': -0.8865303070313086}, 'n_test_samples': 98, 'fit_time': 0.0421903133392334, 'score_time': 0.0013625621795654297}, {'fit_error': None, 'test_scores': {'score': -6.86413203852454}, 'n_test_samples': 99, 'fit_time': 0.0712277889251709, 'score_time': 0.0023484230041503906}, {'fit_error': None, 'test_scores': {'score': 0.2584545687217765}, 'n_test_samples': 99, 'fit_time': 0.056653738021850586, 'score_time': 0.001295328140258789}, {'fit_error': None, 'test_scores': {'score': -0.47735821592195804}, 'n_test_samples': 99, 'fit_time': 0.08312773704528809, 'score_time': 0.0014545917510986328}, {'fit_error': None, 'test_scores': {'score': -1.1973421015242476}, 'n_test_samples': 99, 'fit_time': 0.05315446853637695, 'score_time': 0.0015807151794433594}, {'fit_error': None, 'test_scores': {'score': -0.8865580992201816}, 'n_test_samples': 98, 'fit_time': 0.047002315521240234, 'score_time': 0.0014431476593017578}, {'fit_error': None, 'test_scores': {'score': -6.880777357666419}, 'n_test_samples': 99, 'fit_time': 0.11230850219726562, 'score_time': 0.0013866424560546875}, {'fit_error': None, 'test_scores': {'score': 0.2563929962693111}, 'n_test_samples': 99, 'fit_time': 0.10677099227905273, 'score_time': 0.0016829967498779297}, {'fit_error': None, 'test_scores': {'score': -0.4778805725252617}, 'n_test_samples': 99, 'fit_time': 0.12597966194152832, 'score_time': 0.0018322467803955078}, {'fit_error': None, 'test_scores': {'score': -1.1974879955790612}, 'n_test_samples': 99, 'fit_time': 0.1407451629638672, 'score_time': 0.0018689632415771484}, {'fit_error': None, 'test_scores': {'score': -0.8865629807596618}, 'n_test_samples': 98, 'fit_time': 0.10584855079650879, 'score_time': 0.0017516613006591797}, {'fit_error': None, 'test_scores': {'score': -6.880705707203303}, 'n_test_samples': 99, 'fit_time': 0.2601747512817383, 'score_time': 0.001882314682006836}, {'fit_error': None, 'test_scores': {'score': 0.2566648868828634}, 'n_test_samples': 99, 'fit_time': 0.1720893383026123, 'score_time': 0.0024323463439941406}, {'fit_error': None, 'test_scores': {'score': -0.4778821946554497}, 'n_test_samples': 99, 'fit_time': 0.18459153175354004, 'score_time': 0.0031812191009521484}, {'fit_error': None, 'test_scores': {'score': -1.1974891234442775}, 'n_test_samples': 99, 'fit_time': 0.3048567771911621, 'score_time': 0.009507179260253906}, {'fit_error': None, 'test_scores': {'score': -0.8865985725967371}, 'n_test_samples': 98, 'fit_time': 0.2214796543121338, 'score_time': 0.002418041229248047}, {'fit_error': None, 'test_scores': {'score': -6.881150935035207}, 'n_test_samples': 99, 'fit_time': 0.21324968338012695, 'score_time': 0.0021436214447021484}, {'fit_error': None, 'test_scores': {'score': 0.2566795611118011}, 'n_test_samples': 99, 'fit_time': 0.19370388984680176, 'score_time': 0.010960102081298828}, {'fit_error': None, 'test_scores': {'score': -0.47788436311591087}, 'n_test_samples': 99, 'fit_time': 0.23847079277038574, 'score_time': 0.0033681392669677734}, {'fit_error': None, 'test_scores': {'score': -1.1974836868711285}, 'n_test_samples': 99, 'fit_time': 0.24203133583068848, 'score_time': 0.002798795700073242}, {'fit_error': None, 'test_scores': {'score': -0.8866002117266476}, 'n_test_samples': 98, 'fit_time': 0.1699352264404297, 'score_time': 0.0025861263275146484}, {'fit_error': None, 'test_scores': {'score': -6.881135011655869}, 'n_test_samples': 99, 'fit_time': 0.22423958778381348, 'score_time': 0.012356996536254883}, {'fit_error': None, 'test_scores': {'score': 0.2566795611118011}, 'n_test_samples': 99, 'fit_time': 0.1591346263885498, 'score_time': 0.014062643051147461}, {'fit_error': None, 'test_scores': {'score': -0.47788436311591087}, 'n_test_samples': 99, 'fit_time': 0.16553044319152832, 'score_time': 0.003436565399169922}, {'fit_error': None, 'test_scores': {'score': -1.1974836868711285}, 'n_test_samples': 99, 'fit_time': 0.1873950958251953, 'score_time': 0.012974977493286133}, {'fit_error': None, 'test_scores': {'score': -0.8866002117266476}, 'n_test_samples': 98, 'fit_time': 0.1040959358215332, 'score_time': 0.002570629119873047}, {'fit_error': None, 'test_scores': {'score': -12.254879555866337}, 'n_test_samples': 99, 'fit_time': 0.02422189712524414, 'score_time': 0.0008575916290283203}, {'fit_error': None, 'test_scores': {'score': 0.01746344288416346}, 'n_test_samples': 99, 'fit_time': 0.0407407283782959, 'score_time': 0.0008435249328613281}, {'fit_error': None, 'test_scores': {'score': -0.7214487238883891}, 'n_test_samples': 99, 'fit_time': 0.022823095321655273, 'score_time': 0.0007295608520507812}, {'fit_error': None, 'test_scores': {'score': -1.9943944236414834}, 'n_test_samples': 99, 'fit_time': 0.014386653900146484, 'score_time': 0.0007727146148681641}, {'fit_error': None, 'test_scores': {'score': -0.8156619934547493}, 'n_test_samples': 98, 'fit_time': 0.04445052146911621, 'score_time': 0.0007727146148681641}, {'fit_error': None, 'test_scores': {'score': -13.165863168862847}, 'n_test_samples': 99, 'fit_time': 0.1548171043395996, 'score_time': 0.0017147064208984375}, {'fit_error': None, 'test_scores': {'score': 0.2425608814145943}, 'n_test_samples': 99, 'fit_time': 0.19590353965759277, 'score_time': 0.0018224716186523438}, {'fit_error': None, 'test_scores': {'score': -0.7104653317390421}, 'n_test_samples': 99, 'fit_time': 0.16653227806091309, 'score_time': 0.002194643020629883}, {'fit_error': None, 'test_scores': {'score': -1.9331044977671725}, 'n_test_samples': 99, 'fit_time': 0.11377692222595215, 'score_time': 0.0018427371978759766}, {'fit_error': None, 'test_scores': {'score': -0.8002822052677485}, 'n_test_samples': 98, 'fit_time': 0.16821861267089844, 'score_time': 0.0018024444580078125}, {'fit_error': None, 'test_scores': {'score': -12.792263034956738}, 'n_test_samples': 99, 'fit_time': 0.0668339729309082, 'score_time': 0.001104116439819336}, {'fit_error': None, 'test_scores': {'score': 0.10376805184391613}, 'n_test_samples': 99, 'fit_time': 0.06287908554077148, 'score_time': 0.008516311645507812}, {'fit_error': None, 'test_scores': {'score': -0.7129981899558879}, 'n_test_samples': 99, 'fit_time': 0.042514801025390625, 'score_time': 0.0009832382202148438}, {'fit_error': None, 'test_scores': {'score': -1.9503647133079332}, 'n_test_samples': 99, 'fit_time': 0.05510687828063965, 'score_time': 0.001089334487915039}, {'fit_error': None, 'test_scores': {'score': -0.8117319836326968}, 'n_test_samples': 98, 'fit_time': 0.04628276824951172, 'score_time': 0.0009522438049316406}, {'fit_error': None, 'test_scores': {'score': -13.165863168862847}, 'n_test_samples': 99, 'fit_time': 0.08004999160766602, 'score_time': 0.001630544662475586}, {'fit_error': None, 'test_scores': {'score': 0.24256103399956175}, 'n_test_samples': 99, 'fit_time': 0.13785481452941895, 'score_time': 0.0018277168273925781}, {'fit_error': None, 'test_scores': {'score': -0.7104653317390421}, 'n_test_samples': 99, 'fit_time': 0.1460719108581543, 'score_time': 0.015231609344482422}, {'fit_error': None, 'test_scores': {'score': -1.9331044977671725}, 'n_test_samples': 99, 'fit_time': 0.12303805351257324, 'score_time': 0.010903120040893555}, {'fit_error': None, 'test_scores': {'score': -0.8002822052677485}, 'n_test_samples': 98, 'fit_time': 0.12776851654052734, 'score_time': 0.0017642974853515625}, {'fit_error': None, 'test_scores': {'score': -13.165863647925569}, 'n_test_samples': 99, 'fit_time': 0.12346005439758301, 'score_time': 0.0017614364624023438}, {'fit_error': None, 'test_scores': {'score': 0.24256105379528115}, 'n_test_samples': 99, 'fit_time': 0.09664559364318848, 'score_time': 0.0019714832305908203}, {'fit_error': None, 'test_scores': {'score': -0.7104653317390421}, 'n_test_samples': 99, 'fit_time': 0.057355403900146484, 'score_time': 0.0022039413452148438}, {'fit_error': None, 'test_scores': {'score': -1.9331044977671725}, 'n_test_samples': 99, 'fit_time': 0.15908217430114746, 'score_time': 0.0019512176513671875}, {'fit_error': None, 'test_scores': {'score': -0.8002822052677485}, 'n_test_samples': 98, 'fit_time': 0.13185620307922363, 'score_time': 0.0019328594207763672}, {'fit_error': None, 'test_scores': {'score': -13.025014890883533}, 'n_test_samples': 99, 'fit_time': 0.0448150634765625, 'score_time': 0.0010862350463867188}, {'fit_error': None, 'test_scores': {'score': 0.21701726707956426}, 'n_test_samples': 99, 'fit_time': 0.10626411437988281, 'score_time': 0.0011909008026123047}, {'fit_error': None, 'test_scores': {'score': -0.7064666079111317}, 'n_test_samples': 99, 'fit_time': 0.09331321716308594, 'score_time': 0.0010988712310791016}, {'fit_error': None, 'test_scores': {'score': -1.9300436736791262}, 'n_test_samples': 99, 'fit_time': 0.06939554214477539, 'score_time': 0.001115560531616211}, {'fit_error': None, 'test_scores': {'score': -0.8001579083307404}, 'n_test_samples': 98, 'fit_time': 0.06268596649169922, 'score_time': 0.01520395278930664}, {'fit_error': None, 'test_scores': {'score': -13.165863647925569}, 'n_test_samples': 99, 'fit_time': 0.11888742446899414, 'score_time': 0.008408069610595703}, {'fit_error': None, 'test_scores': {'score': 0.24256105379528115}, 'n_test_samples': 99, 'fit_time': 0.13394951820373535, 'score_time': 0.008972644805908203}, {'fit_error': None, 'test_scores': {'score': -0.7104653317390421}, 'n_test_samples': 99, 'fit_time': 0.1069943904876709, 'score_time': 0.011267423629760742}, {'fit_error': None, 'test_scores': {'score': -1.9331044977671725}, 'n_test_samples': 99, 'fit_time': 0.1443500518798828, 'score_time': 0.001917123794555664}, {'fit_error': None, 'test_scores': {'score': -0.8002822052677485}, 'n_test_samples': 98, 'fit_time': 0.10111784934997559, 'score_time': 0.0017859935760498047}, {'fit_error': None, 'test_scores': {'score': -13.15536885452502}, 'n_test_samples': 99, 'fit_time': 0.08784079551696777, 'score_time': 0.0014064311981201172}, {'fit_error': None, 'test_scores': {'score': 0.22799353585162774}, 'n_test_samples': 99, 'fit_time': 0.0803074836730957, 'score_time': 0.0012485980987548828}, {'fit_error': None, 'test_scores': {'score': -0.7080839868102993}, 'n_test_samples': 99, 'fit_time': 0.08538389205932617, 'score_time': 0.0012094974517822266}, {'fit_error': None, 'test_scores': {'score': -1.9331711677258259}, 'n_test_samples': 99, 'fit_time': 0.07992100715637207, 'score_time': 0.0012252330780029297}, {'fit_error': None, 'test_scores': {'score': -0.8003791495672301}, 'n_test_samples': 98, 'fit_time': 0.04752182960510254, 'score_time': 0.0011987686157226562}, {'fit_error': None, 'test_scores': {'score': -13.258954478713411}, 'n_test_samples': 99, 'fit_time': 0.0873868465423584, 'score_time': 0.008356571197509766}, {'fit_error': None, 'test_scores': {'score': 0.23751436686700333}, 'n_test_samples': 99, 'fit_time': 0.08265972137451172, 'score_time': 0.0012998580932617188}, {'fit_error': None, 'test_scores': {'score': -0.709961833842337}, 'n_test_samples': 99, 'fit_time': 0.10120129585266113, 'score_time': 0.0014557838439941406}, {'fit_error': None, 'test_scores': {'score': -1.9330972177046055}, 'n_test_samples': 99, 'fit_time': 0.10447049140930176, 'score_time': 0.008986949920654297}, {'fit_error': None, 'test_scores': {'score': -0.8003055008826363}, 'n_test_samples': 98, 'fit_time': 0.05113625526428223, 'score_time': 0.0013325214385986328}, {'fit_error': None, 'test_scores': {'score': -13.178307988075213}, 'n_test_samples': 99, 'fit_time': 0.05422377586364746, 'score_time': 0.0011820793151855469}, {'fit_error': None, 'test_scores': {'score': 0.23957844784908577}, 'n_test_samples': 99, 'fit_time': 0.0584409236907959, 'score_time': 0.0013730525970458984}, {'fit_error': None, 'test_scores': {'score': -0.7101462743388212}, 'n_test_samples': 99, 'fit_time': 0.08270764350891113, 'score_time': 0.004561662673950195}, {'fit_error': None, 'test_scores': {'score': -1.9332525084768202}, 'n_test_samples': 99, 'fit_time': 0.11026215553283691, 'score_time': 0.013564109802246094}, {'fit_error': None, 'test_scores': {'score': -0.800292895492352}, 'n_test_samples': 98, 'fit_time': 0.05869626998901367, 'score_time': 0.008460760116577148}, {'fit_error': None, 'test_scores': {'score': -13.178307988075213}, 'n_test_samples': 99, 'fit_time': 0.05784201622009277, 'score_time': 0.0012099742889404297}, {'fit_error': None, 'test_scores': {'score': 0.23957844784908577}, 'n_test_samples': 99, 'fit_time': 0.09301209449768066, 'score_time': 0.0013785362243652344}, {'fit_error': None, 'test_scores': {'score': -0.7101462743388212}, 'n_test_samples': 99, 'fit_time': 0.10338926315307617, 'score_time': 0.009619951248168945}, {'fit_error': None, 'test_scores': {'score': -1.9332525084768202}, 'n_test_samples': 99, 'fit_time': 0.1072690486907959, 'score_time': 0.0015285015106201172}, {'fit_error': None, 'test_scores': {'score': -0.800292895492352}, 'n_test_samples': 98, 'fit_time': 0.0929710865020752, 'score_time': 0.0014450550079345703}, {'fit_error': None, 'test_scores': {'score': -13.162773750186666}, 'n_test_samples': 99, 'fit_time': 0.11932158470153809, 'score_time': 0.0013964176177978516}, {'fit_error': None, 'test_scores': {'score': 0.2419277217272251}, 'n_test_samples': 99, 'fit_time': 0.11593389511108398, 'score_time': 0.004829883575439453}, {'fit_error': None, 'test_scores': {'score': -0.7103179351232658}, 'n_test_samples': 99, 'fit_time': 0.053053855895996094, 'score_time': 0.0016391277313232422}, {'fit_error': None, 'test_scores': {'score': -1.9331269789575494}, 'n_test_samples': 99, 'fit_time': 0.07811093330383301, 'score_time': 0.0016484260559082031}, {'fit_error': None, 'test_scores': {'score': -0.8002862369012009}, 'n_test_samples': 98, 'fit_time': 0.045209407806396484, 'score_time': 0.0015494823455810547}, {'fit_error': None, 'test_scores': {'score': -13.167757123517053}, 'n_test_samples': 99, 'fit_time': 0.0760796070098877, 'score_time': 0.0014345645904541016}, {'fit_error': None, 'test_scores': {'score': 0.24260401219813688}, 'n_test_samples': 99, 'fit_time': 0.12926101684570312, 'score_time': 0.004843473434448242}, {'fit_error': None, 'test_scores': {'score': -0.7104694818737691}, 'n_test_samples': 99, 'fit_time': 0.12565183639526367, 'score_time': 0.0018129348754882812}, {'fit_error': None, 'test_scores': {'score': -1.9331641146812224}, 'n_test_samples': 99, 'fit_time': 0.0870063304901123, 'score_time': 0.0068361759185791016}, {'fit_error': None, 'test_scores': {'score': -0.8002756158276059}, 'n_test_samples': 98, 'fit_time': 0.05539536476135254, 'score_time': 0.0015475749969482422}, {'fit_error': None, 'test_scores': {'score': -49.0299738278294}, 'n_test_samples': 99, 'fit_time': 0.05036211013793945, 'score_time': 0.0009164810180664062}, {'fit_error': None, 'test_scores': {'score': -38.557927006818446}, 'n_test_samples': 99, 'fit_time': 0.0237276554107666, 'score_time': 0.0007936954498291016}, {'fit_error': None, 'test_scores': {'score': -5.264678697824723}, 'n_test_samples': 99, 'fit_time': 0.03593802452087402, 'score_time': 0.0008313655853271484}, {'fit_error': None, 'test_scores': {'score': -25.856782798776052}, 'n_test_samples': 99, 'fit_time': 0.07355833053588867, 'score_time': 0.008870601654052734}, {'fit_error': None, 'test_scores': {'score': -19.31938948651936}, 'n_test_samples': 98, 'fit_time': 0.06941556930541992, 'score_time': 0.0009493827819824219}, {'fit_error': None, 'test_scores': {'score': -2.5545219701811606}, 'n_test_samples': 99, 'fit_time': 0.08046126365661621, 'score_time': 0.0011858940124511719}, {'fit_error': None, 'test_scores': {'score': 0.22275761253465676}, 'n_test_samples': 99, 'fit_time': 0.07629823684692383, 'score_time': 0.001218557357788086}, {'fit_error': None, 'test_scores': {'score': -0.60780579748221}, 'n_test_samples': 99, 'fit_time': 0.07034158706665039, 'score_time': 0.001230478286743164}, {'fit_error': None, 'test_scores': {'score': -1.499985243842601}, 'n_test_samples': 99, 'fit_time': 0.10489416122436523, 'score_time': 0.007364511489868164}, {'fit_error': None, 'test_scores': {'score': -0.6058144009569459}, 'n_test_samples': 98, 'fit_time': 0.12210631370544434, 'score_time': 0.0012555122375488281}, {'fit_error': None, 'test_scores': {'score': -2.5865347085527657}, 'n_test_samples': 99, 'fit_time': 0.3300952911376953, 'score_time': 0.0017943382263183594}, {'fit_error': None, 'test_scores': {'score': 0.2190080225283514}, 'n_test_samples': 99, 'fit_time': 0.19597434997558594, 'score_time': 0.007363557815551758}, {'fit_error': None, 'test_scores': {'score': -0.6061024754415807}, 'n_test_samples': 99, 'fit_time': 0.24501776695251465, 'score_time': 0.012371063232421875}, {'fit_error': None, 'test_scores': {'score': -1.4954831975330398}, 'n_test_samples': 99, 'fit_time': 0.296842098236084, 'score_time': 0.013184309005737305}, {'fit_error': None, 'test_scores': {'score': -0.6079867232097851}, 'n_test_samples': 98, 'fit_time': 0.15742921829223633, 'score_time': 0.002016782760620117}, {'fit_error': None, 'test_scores': {'score': -2.5545219701811606}, 'n_test_samples': 99, 'fit_time': 0.12762975692749023, 'score_time': 0.0014183521270751953}, {'fit_error': None, 'test_scores': {'score': 0.22275761253465676}, 'n_test_samples': 99, 'fit_time': 0.08884763717651367, 'score_time': 0.0013203620910644531}, {'fit_error': None, 'test_scores': {'score': -0.60780579748221}, 'n_test_samples': 99, 'fit_time': 0.0689699649810791, 'score_time': 0.001466989517211914}, {'fit_error': None, 'test_scores': {'score': -1.499985243842601}, 'n_test_samples': 99, 'fit_time': 0.07162165641784668, 'score_time': 0.008547067642211914}, {'fit_error': None, 'test_scores': {'score': -0.6058144009569459}, 'n_test_samples': 98, 'fit_time': 0.058347225189208984, 'score_time': 0.001310110092163086}, {'fit_error': None, 'test_scores': {'score': -2.5865347085527657}, 'n_test_samples': 99, 'fit_time': 0.489302396774292, 'score_time': 0.00959920883178711}, {'fit_error': None, 'test_scores': {'score': 0.2190080225283514}, 'n_test_samples': 99, 'fit_time': 0.3975067138671875, 'score_time': 0.0024466514587402344}, {'fit_error': None, 'test_scores': {'score': -0.6061024754415807}, 'n_test_samples': 99, 'fit_time': 0.2812321186065674, 'score_time': 0.014827966690063477}, {'fit_error': None, 'test_scores': {'score': -1.4954831975330398}, 'n_test_samples': 99, 'fit_time': 0.260880708694458, 'score_time': 0.002745389938354492}, {'fit_error': None, 'test_scores': {'score': -0.6079867232097851}, 'n_test_samples': 98, 'fit_time': 0.34166431427001953, 'score_time': 0.002720355987548828}, {'fit_error': None, 'test_scores': {'score': -2.5865347085527657}, 'n_test_samples': 99, 'fit_time': 0.4280672073364258, 'score_time': 0.015103340148925781}, {'fit_error': None, 'test_scores': {'score': 0.2190080225283514}, 'n_test_samples': 99, 'fit_time': 0.26202392578125, 'score_time': 0.0027022361755371094}, {'fit_error': None, 'test_scores': {'score': -0.6061024754415807}, 'n_test_samples': 99, 'fit_time': 0.39670872688293457, 'score_time': 0.003690958023071289}, {'fit_error': None, 'test_scores': {'score': -1.4954831975330398}, 'n_test_samples': 99, 'fit_time': 0.32146596908569336, 'score_time': 0.005684375762939453}, {'fit_error': None, 'test_scores': {'score': -0.6079867232097851}, 'n_test_samples': 98, 'fit_time': 0.3017578125, 'score_time': 0.003381490707397461}, {'fit_error': None, 'test_scores': {'score': -2.58638676016893}, 'n_test_samples': 99, 'fit_time': 0.33216047286987305, 'score_time': 0.003426074981689453}, {'fit_error': None, 'test_scores': {'score': 0.21899933973225705}, 'n_test_samples': 99, 'fit_time': 0.2895388603210449, 'score_time': 0.010503292083740234}, {'fit_error': None, 'test_scores': {'score': -0.606100422148528}, 'n_test_samples': 99, 'fit_time': 0.14269733428955078, 'score_time': 0.003996372222900391}, {'fit_error': None, 'test_scores': {'score': -1.4954828905529212}, 'n_test_samples': 99, 'fit_time': 0.2625000476837158, 'score_time': 0.014181137084960938}, {'fit_error': None, 'test_scores': {'score': -0.6079875062828144}, 'n_test_samples': 98, 'fit_time': 0.296750545501709, 'score_time': 0.014039754867553711}, {'fit_error': None, 'test_scores': {'score': -3.0890815670293144}, 'n_test_samples': 99, 'fit_time': 0.026553630828857422, 'score_time': 0.0008645057678222656}, {'fit_error': None, 'test_scores': {'score': 0.08087939810348799}, 'n_test_samples': 99, 'fit_time': 0.03866386413574219, 'score_time': 0.0008709430694580078}, {'fit_error': None, 'test_scores': {'score': -0.16673449389414596}, 'n_test_samples': 99, 'fit_time': 0.03447389602661133, 'score_time': 0.0008916854858398438}, {'fit_error': None, 'test_scores': {'score': -1.0536029729874459}, 'n_test_samples': 99, 'fit_time': 0.03940105438232422, 'score_time': 0.0008959770202636719}, {'fit_error': None, 'test_scores': {'score': -1.062860684209487}, 'n_test_samples': 98, 'fit_time': 0.032997846603393555, 'score_time': 0.0008039474487304688}, {'fit_error': None, 'test_scores': {'score': -4.794547991996543}, 'n_test_samples': 99, 'fit_time': 0.13455581665039062, 'score_time': 0.0015642642974853516}, {'fit_error': None, 'test_scores': {'score': 0.21921473669934843}, 'n_test_samples': 99, 'fit_time': 0.06729483604431152, 'score_time': 0.003891468048095703}, {'fit_error': None, 'test_scores': {'score': -0.4188998864076148}, 'n_test_samples': 99, 'fit_time': 0.08544564247131348, 'score_time': 0.002073526382446289}, {'fit_error': None, 'test_scores': {'score': -1.2601970983635589}, 'n_test_samples': 99, 'fit_time': 0.07666516304016113, 'score_time': 0.001990795135498047}, {'fit_error': None, 'test_scores': {'score': -0.8747783027317109}, 'n_test_samples': 98, 'fit_time': 0.06923341751098633, 'score_time': 0.0017838478088378906}, {'fit_error': None, 'test_scores': {'score': -3.7616712411333486}, 'n_test_samples': 99, 'fit_time': 0.08030915260314941, 'score_time': 0.0009620189666748047}, {'fit_error': None, 'test_scores': {'score': 0.20824483739263344}, 'n_test_samples': 99, 'fit_time': 0.08480095863342285, 'score_time': 0.0009508132934570312}, {'fit_error': None, 'test_scores': {'score': -0.39272870309983077}, 'n_test_samples': 99, 'fit_time': 0.06964612007141113, 'score_time': 0.009948968887329102}, {'fit_error': None, 'test_scores': {'score': -1.2461426446677626}, 'n_test_samples': 99, 'fit_time': 0.08541703224182129, 'score_time': 0.0009829998016357422}, {'fit_error': None, 'test_scores': {'score': -0.8366617596409038}, 'n_test_samples': 98, 'fit_time': 0.07200121879577637, 'score_time': 0.0010807514190673828}, {'fit_error': None, 'test_scores': {'score': -4.771418315050234}, 'n_test_samples': 99, 'fit_time': 0.07216620445251465, 'score_time': 0.0018050670623779297}, {'fit_error': None, 'test_scores': {'score': 0.21982089914524117}, 'n_test_samples': 99, 'fit_time': 0.07189106941223145, 'score_time': 0.002095937728881836}, {'fit_error': None, 'test_scores': {'score': -0.4188991235720634}, 'n_test_samples': 99, 'fit_time': 0.07796096801757812, 'score_time': 0.0025222301483154297}, {'fit_error': None, 'test_scores': {'score': -1.2601709371637315}, 'n_test_samples': 99, 'fit_time': 0.0695340633392334, 'score_time': 0.0036699771881103516}, {'fit_error': None, 'test_scores': {'score': -0.8747753134523897}, 'n_test_samples': 98, 'fit_time': 0.07415056228637695, 'score_time': 0.002138376235961914}, {'fit_error': None, 'test_scores': {'score': -4.764384705464471}, 'n_test_samples': 99, 'fit_time': 0.14675092697143555, 'score_time': 0.002460956573486328}, {'fit_error': None, 'test_scores': {'score': 0.22027215406235168}, 'n_test_samples': 99, 'fit_time': 0.15581870079040527, 'score_time': 0.0030469894409179688}, {'fit_error': None, 'test_scores': {'score': -0.41890048463166396}, 'n_test_samples': 99, 'fit_time': 0.1882929801940918, 'score_time': 0.0037887096405029297}, {'fit_error': None, 'test_scores': {'score': -1.260231656154419}, 'n_test_samples': 99, 'fit_time': 0.14395785331726074, 'score_time': 0.003353118896484375}, {'fit_error': None, 'test_scores': {'score': -0.8748027194963166}, 'n_test_samples': 98, 'fit_time': 0.1834888458251953, 'score_time': 0.004916191101074219}, {'fit_error': None, 'test_scores': {'score': -3.7616712411333486}, 'n_test_samples': 99, 'fit_time': 0.07426261901855469, 'score_time': 0.0009262561798095703}, {'fit_error': None, 'test_scores': {'score': 0.20824483739263344}, 'n_test_samples': 99, 'fit_time': 0.06340599060058594, 'score_time': 0.0009093284606933594}, {'fit_error': None, 'test_scores': {'score': -0.39272870309983077}, 'n_test_samples': 99, 'fit_time': 0.05140399932861328, 'score_time': 0.0009014606475830078}, {'fit_error': None, 'test_scores': {'score': -1.2461426446677626}, 'n_test_samples': 99, 'fit_time': 0.07258009910583496, 'score_time': 0.0010199546813964844}, {'fit_error': None, 'test_scores': {'score': -0.8366617596409038}, 'n_test_samples': 98, 'fit_time': 0.06525993347167969, 'score_time': 0.0009448528289794922}, {'fit_error': None, 'test_scores': {'score': -4.771418315050234}, 'n_test_samples': 99, 'fit_time': 0.059096336364746094, 'score_time': 0.0031616687774658203}, {'fit_error': None, 'test_scores': {'score': 0.21982089914524117}, 'n_test_samples': 99, 'fit_time': 0.05449676513671875, 'score_time': 0.001909494400024414}, {'fit_error': None, 'test_scores': {'score': -0.4188991235720634}, 'n_test_samples': 99, 'fit_time': 0.05900168418884277, 'score_time': 0.002406597137451172}, {'fit_error': None, 'test_scores': {'score': -1.2601709371637315}, 'n_test_samples': 99, 'fit_time': 0.0865623950958252, 'score_time': 0.002251148223876953}, {'fit_error': None, 'test_scores': {'score': -0.8747753134523897}, 'n_test_samples': 98, 'fit_time': 0.06569647789001465, 'score_time': 0.0021140575408935547}, {'fit_error': None, 'test_scores': {'score': -3.9763164504630613}, 'n_test_samples': 99, 'fit_time': 0.061659812927246094, 'score_time': 0.013041496276855469}, {'fit_error': None, 'test_scores': {'score': 0.21364807754955284}, 'n_test_samples': 99, 'fit_time': 0.06597733497619629, 'score_time': 0.0009677410125732422}, {'fit_error': None, 'test_scores': {'score': -0.4065179360247009}, 'n_test_samples': 99, 'fit_time': 0.05762314796447754, 'score_time': 0.0190427303314209}, {'fit_error': None, 'test_scores': {'score': -1.2677197457731917}, 'n_test_samples': 99, 'fit_time': 0.07454872131347656, 'score_time': 0.0010590553283691406}, {'fit_error': None, 'test_scores': {'score': -0.8683906191065285}, 'n_test_samples': 98, 'fit_time': 0.05459117889404297, 'score_time': 0.0010364055633544922}, {'fit_error': None, 'test_scores': {'score': -4.158008707424285}, 'n_test_samples': 99, 'fit_time': 0.08524489402770996, 'score_time': 0.0010857582092285156}, {'fit_error': None, 'test_scores': {'score': 0.2119212711147319}, 'n_test_samples': 99, 'fit_time': 0.07206535339355469, 'score_time': 0.0011191368103027344}, {'fit_error': None, 'test_scores': {'score': -0.4141161056215692}, 'n_test_samples': 99, 'fit_time': 0.1021583080291748, 'score_time': 0.0011775493621826172}, {'fit_error': None, 'test_scores': {'score': -1.2609092830724995}, 'n_test_samples': 99, 'fit_time': 0.07267069816589355, 'score_time': 0.0013194084167480469}, {'fit_error': None, 'test_scores': {'score': -0.8702376396028411}, 'n_test_samples': 98, 'fit_time': 0.08332300186157227, 'score_time': 0.001226186752319336}, {'fit_error': None, 'test_scores': {'score': -4.945976340900117}, 'n_test_samples': 99, 'fit_time': 0.031075000762939453, 'score_time': 0.0011200904846191406}, {'fit_error': None, 'test_scores': {'score': 0.20997253814931183}, 'n_test_samples': 99, 'fit_time': 0.03691291809082031, 'score_time': 0.0010242462158203125}, {'fit_error': None, 'test_scores': {'score': -0.420711017668707}, 'n_test_samples': 99, 'fit_time': 0.052160024642944336, 'score_time': 0.0010936260223388672}, {'fit_error': None, 'test_scores': {'score': -1.2616454730398412}, 'n_test_samples': 99, 'fit_time': 0.04135274887084961, 'score_time': 0.009645938873291016}, {'fit_error': None, 'test_scores': {'score': -0.8723984138766534}, 'n_test_samples': 98, 'fit_time': 0.07788467407226562, 'score_time': 0.0012085437774658203}, {'fit_error': None, 'test_scores': {'score': -4.948959375575111}, 'n_test_samples': 99, 'fit_time': 0.037481069564819336, 'score_time': 0.0011506080627441406}, {'fit_error': None, 'test_scores': {'score': 0.20963008413555972}, 'n_test_samples': 99, 'fit_time': 0.0422215461730957, 'score_time': 0.001110076904296875}, {'fit_error': None, 'test_scores': {'score': -0.4196831044261655}, 'n_test_samples': 99, 'fit_time': 0.04290032386779785, 'score_time': 0.008472442626953125}, {'fit_error': None, 'test_scores': {'score': -1.2615338409837307}, 'n_test_samples': 99, 'fit_time': 0.06016898155212402, 'score_time': 0.0013420581817626953}, {'fit_error': None, 'test_scores': {'score': -0.8740754209284314}, 'n_test_samples': 98, 'fit_time': 0.031189918518066406, 'score_time': 0.0012364387512207031}, {'fit_error': None, 'test_scores': {'score': -4.8894079748704184}, 'n_test_samples': 99, 'fit_time': 0.04124593734741211, 'score_time': 0.0012843608856201172}, {'fit_error': None, 'test_scores': {'score': 0.20994642215208903}, 'n_test_samples': 99, 'fit_time': 0.06674385070800781, 'score_time': 0.007782697677612305}, {'fit_error': None, 'test_scores': {'score': -0.4186797375710345}, 'n_test_samples': 99, 'fit_time': 0.043202877044677734, 'score_time': 0.0013935565948486328}, {'fit_error': None, 'test_scores': {'score': -1.259871762849356}, 'n_test_samples': 99, 'fit_time': 0.03516578674316406, 'score_time': 0.0014061927795410156}, {'fit_error': None, 'test_scores': {'score': -0.8736653237908494}, 'n_test_samples': 98, 'fit_time': 0.03344845771789551, 'score_time': 0.0013031959533691406}, {'fit_error': None, 'test_scores': {'score': -4.882481673389073}, 'n_test_samples': 99, 'fit_time': 0.03671860694885254, 'score_time': 0.001252889633178711}, {'fit_error': None, 'test_scores': {'score': 0.21264157597526123}, 'n_test_samples': 99, 'fit_time': 0.037586212158203125, 'score_time': 0.0012500286102294922}, {'fit_error': None, 'test_scores': {'score': -0.41884819158033415}, 'n_test_samples': 99, 'fit_time': 0.0422818660736084, 'score_time': 0.0014421939849853516}, {'fit_error': None, 'test_scores': {'score': -1.2599360763269996}, 'n_test_samples': 99, 'fit_time': 0.04180335998535156, 'score_time': 0.0015325546264648438}, {'fit_error': None, 'test_scores': {'score': -0.8737471795944374}, 'n_test_samples': 98, 'fit_time': 0.03946709632873535, 'score_time': 0.0057866573333740234}]\n",
            "[02:33:24] WARNING: /workspace/src/objective/regression_obj.cu:152: reg:linear is now deprecated in favor of reg:squarederror.\n"
          ]
        },
        {
          "output_type": "execute_result",
          "data": {
            "text/plain": [
              "{'learning_rate': 0.25, 'max_depth': 9}"
            ]
          },
          "metadata": {},
          "execution_count": 32
        }
      ]
    },
    {
      "cell_type": "code",
      "execution_count": null,
      "metadata": {
        "colab": {
          "base_uri": "https://localhost:8080/",
          "height": 686
        },
        "id": "HJ09BcFBr10Z",
        "outputId": "a60201d4-f33a-458e-f0ad-4cadb80700ac"
      },
      "outputs": [
        {
          "output_type": "stream",
          "name": "stdout",
          "text": [
            "[02:33:24] WARNING: /workspace/src/objective/regression_obj.cu:152: reg:linear is now deprecated in favor of reg:squarederror.\n"
          ]
        },
        {
          "output_type": "execute_result",
          "data": {
            "text/plain": [
              "     Prediction       Actual\n",
              "0   2404.240479  3013.732666\n",
              "1   2473.459717  3167.856201\n",
              "2   2655.831787  3141.691162\n",
              "3   2502.587402  3164.245117\n",
              "4   2397.026855  3043.414307\n",
              "5   2509.301025  3322.211670\n",
              "6   2504.095215  3265.443359\n",
              "7   2513.656250  3310.504150\n",
              "8   2594.523438  3156.509521\n",
              "9   2649.340088  3014.845947\n",
              "10  2301.418213  3020.089844\n",
              "11  2379.653564  3182.702148\n",
              "12  2227.297607  3286.935303\n",
              "13  2149.862061  3226.083984\n",
              "14  2142.951172  3242.115479\n",
              "15  2219.688477  3319.257324\n",
              "16  2394.852051  3172.456299\n",
              "17  2399.113037  3224.915283\n",
              "18  2386.517334  3100.325439\n",
              "19  2354.524414  3270.600830"
            ],
            "text/html": [
              "\n",
              "  <div id=\"df-efb81d1f-edab-44a9-87bd-3cb99c1ca737\">\n",
              "    <div class=\"colab-df-container\">\n",
              "      <div>\n",
              "<style scoped>\n",
              "    .dataframe tbody tr th:only-of-type {\n",
              "        vertical-align: middle;\n",
              "    }\n",
              "\n",
              "    .dataframe tbody tr th {\n",
              "        vertical-align: top;\n",
              "    }\n",
              "\n",
              "    .dataframe thead th {\n",
              "        text-align: right;\n",
              "    }\n",
              "</style>\n",
              "<table border=\"1\" class=\"dataframe\">\n",
              "  <thead>\n",
              "    <tr style=\"text-align: right;\">\n",
              "      <th></th>\n",
              "      <th>Prediction</th>\n",
              "      <th>Actual</th>\n",
              "    </tr>\n",
              "  </thead>\n",
              "  <tbody>\n",
              "    <tr>\n",
              "      <th>0</th>\n",
              "      <td>2404.240479</td>\n",
              "      <td>3013.732666</td>\n",
              "    </tr>\n",
              "    <tr>\n",
              "      <th>1</th>\n",
              "      <td>2473.459717</td>\n",
              "      <td>3167.856201</td>\n",
              "    </tr>\n",
              "    <tr>\n",
              "      <th>2</th>\n",
              "      <td>2655.831787</td>\n",
              "      <td>3141.691162</td>\n",
              "    </tr>\n",
              "    <tr>\n",
              "      <th>3</th>\n",
              "      <td>2502.587402</td>\n",
              "      <td>3164.245117</td>\n",
              "    </tr>\n",
              "    <tr>\n",
              "      <th>4</th>\n",
              "      <td>2397.026855</td>\n",
              "      <td>3043.414307</td>\n",
              "    </tr>\n",
              "    <tr>\n",
              "      <th>5</th>\n",
              "      <td>2509.301025</td>\n",
              "      <td>3322.211670</td>\n",
              "    </tr>\n",
              "    <tr>\n",
              "      <th>6</th>\n",
              "      <td>2504.095215</td>\n",
              "      <td>3265.443359</td>\n",
              "    </tr>\n",
              "    <tr>\n",
              "      <th>7</th>\n",
              "      <td>2513.656250</td>\n",
              "      <td>3310.504150</td>\n",
              "    </tr>\n",
              "    <tr>\n",
              "      <th>8</th>\n",
              "      <td>2594.523438</td>\n",
              "      <td>3156.509521</td>\n",
              "    </tr>\n",
              "    <tr>\n",
              "      <th>9</th>\n",
              "      <td>2649.340088</td>\n",
              "      <td>3014.845947</td>\n",
              "    </tr>\n",
              "    <tr>\n",
              "      <th>10</th>\n",
              "      <td>2301.418213</td>\n",
              "      <td>3020.089844</td>\n",
              "    </tr>\n",
              "    <tr>\n",
              "      <th>11</th>\n",
              "      <td>2379.653564</td>\n",
              "      <td>3182.702148</td>\n",
              "    </tr>\n",
              "    <tr>\n",
              "      <th>12</th>\n",
              "      <td>2227.297607</td>\n",
              "      <td>3286.935303</td>\n",
              "    </tr>\n",
              "    <tr>\n",
              "      <th>13</th>\n",
              "      <td>2149.862061</td>\n",
              "      <td>3226.083984</td>\n",
              "    </tr>\n",
              "    <tr>\n",
              "      <th>14</th>\n",
              "      <td>2142.951172</td>\n",
              "      <td>3242.115479</td>\n",
              "    </tr>\n",
              "    <tr>\n",
              "      <th>15</th>\n",
              "      <td>2219.688477</td>\n",
              "      <td>3319.257324</td>\n",
              "    </tr>\n",
              "    <tr>\n",
              "      <th>16</th>\n",
              "      <td>2394.852051</td>\n",
              "      <td>3172.456299</td>\n",
              "    </tr>\n",
              "    <tr>\n",
              "      <th>17</th>\n",
              "      <td>2399.113037</td>\n",
              "      <td>3224.915283</td>\n",
              "    </tr>\n",
              "    <tr>\n",
              "      <th>18</th>\n",
              "      <td>2386.517334</td>\n",
              "      <td>3100.325439</td>\n",
              "    </tr>\n",
              "    <tr>\n",
              "      <th>19</th>\n",
              "      <td>2354.524414</td>\n",
              "      <td>3270.600830</td>\n",
              "    </tr>\n",
              "  </tbody>\n",
              "</table>\n",
              "</div>\n",
              "      <button class=\"colab-df-convert\" onclick=\"convertToInteractive('df-efb81d1f-edab-44a9-87bd-3cb99c1ca737')\"\n",
              "              title=\"Convert this dataframe to an interactive table.\"\n",
              "              style=\"display:none;\">\n",
              "        \n",
              "  <svg xmlns=\"http://www.w3.org/2000/svg\" height=\"24px\"viewBox=\"0 0 24 24\"\n",
              "       width=\"24px\">\n",
              "    <path d=\"M0 0h24v24H0V0z\" fill=\"none\"/>\n",
              "    <path d=\"M18.56 5.44l.94 2.06.94-2.06 2.06-.94-2.06-.94-.94-2.06-.94 2.06-2.06.94zm-11 1L8.5 8.5l.94-2.06 2.06-.94-2.06-.94L8.5 2.5l-.94 2.06-2.06.94zm10 10l.94 2.06.94-2.06 2.06-.94-2.06-.94-.94-2.06-.94 2.06-2.06.94z\"/><path d=\"M17.41 7.96l-1.37-1.37c-.4-.4-.92-.59-1.43-.59-.52 0-1.04.2-1.43.59L10.3 9.45l-7.72 7.72c-.78.78-.78 2.05 0 2.83L4 21.41c.39.39.9.59 1.41.59.51 0 1.02-.2 1.41-.59l7.78-7.78 2.81-2.81c.8-.78.8-2.07 0-2.86zM5.41 20L4 18.59l7.72-7.72 1.47 1.35L5.41 20z\"/>\n",
              "  </svg>\n",
              "      </button>\n",
              "      \n",
              "  <style>\n",
              "    .colab-df-container {\n",
              "      display:flex;\n",
              "      flex-wrap:wrap;\n",
              "      gap: 12px;\n",
              "    }\n",
              "\n",
              "    .colab-df-convert {\n",
              "      background-color: #E8F0FE;\n",
              "      border: none;\n",
              "      border-radius: 50%;\n",
              "      cursor: pointer;\n",
              "      display: none;\n",
              "      fill: #1967D2;\n",
              "      height: 32px;\n",
              "      padding: 0 0 0 0;\n",
              "      width: 32px;\n",
              "    }\n",
              "\n",
              "    .colab-df-convert:hover {\n",
              "      background-color: #E2EBFA;\n",
              "      box-shadow: 0px 1px 2px rgba(60, 64, 67, 0.3), 0px 1px 3px 1px rgba(60, 64, 67, 0.15);\n",
              "      fill: #174EA6;\n",
              "    }\n",
              "\n",
              "    [theme=dark] .colab-df-convert {\n",
              "      background-color: #3B4455;\n",
              "      fill: #D2E3FC;\n",
              "    }\n",
              "\n",
              "    [theme=dark] .colab-df-convert:hover {\n",
              "      background-color: #434B5C;\n",
              "      box-shadow: 0px 1px 3px 1px rgba(0, 0, 0, 0.15);\n",
              "      filter: drop-shadow(0px 1px 2px rgba(0, 0, 0, 0.3));\n",
              "      fill: #FFFFFF;\n",
              "    }\n",
              "  </style>\n",
              "\n",
              "      <script>\n",
              "        const buttonEl =\n",
              "          document.querySelector('#df-efb81d1f-edab-44a9-87bd-3cb99c1ca737 button.colab-df-convert');\n",
              "        buttonEl.style.display =\n",
              "          google.colab.kernel.accessAllowed ? 'block' : 'none';\n",
              "\n",
              "        async function convertToInteractive(key) {\n",
              "          const element = document.querySelector('#df-efb81d1f-edab-44a9-87bd-3cb99c1ca737');\n",
              "          const dataTable =\n",
              "            await google.colab.kernel.invokeFunction('convertToInteractive',\n",
              "                                                     [key], {});\n",
              "          if (!dataTable) return;\n",
              "\n",
              "          const docLinkHtml = 'Like what you see? Visit the ' +\n",
              "            '<a target=\"_blank\" href=https://colab.research.google.com/notebooks/data_table.ipynb>data table notebook</a>'\n",
              "            + ' to learn more about interactive tables.';\n",
              "          element.innerHTML = '';\n",
              "          dataTable['output_type'] = 'display_data';\n",
              "          await google.colab.output.renderOutput(dataTable, element);\n",
              "          const docLink = document.createElement('div');\n",
              "          docLink.innerHTML = docLinkHtml;\n",
              "          element.appendChild(docLink);\n",
              "        }\n",
              "      </script>\n",
              "    </div>\n",
              "  </div>\n",
              "  "
            ]
          },
          "metadata": {},
          "execution_count": 33
        }
      ],
      "source": [
        "\n",
        "\n",
        "\n",
        "# Choose a learning rate and create classifier\n",
        "model = xgb.XGBRegressor(objective ='reg:linear', learning_rate = search.best_params_['learning_rate'],\n",
        "                max_depth = search.best_params_['max_depth'], n_estimators = 100)\n",
        "\n",
        "# Fit the model\n",
        "model.fit(X_train_scaled, y_train.ravel())\n",
        "\n",
        "# Make Prediction\n",
        "predictions = model.predict(X_test_scaled)\n",
        "pd.DataFrame({\"Prediction\": predictions, \"Actual\": y_test.ravel()}).head(20)"
      ]
    },
    {
      "cell_type": "markdown",
      "metadata": {
        "id": "ExvqtCM_r10Z"
      },
      "source": [
        "  ### Evaluate the model"
      ]
    },
    {
      "cell_type": "code",
      "execution_count": null,
      "metadata": {
        "colab": {
          "base_uri": "https://localhost:8080/",
          "height": 450
        },
        "id": "dYcfunidr10Z",
        "outputId": "9b6acaae-d05a-4514-b3fe-8270db0c5ee3"
      },
      "outputs": [
        {
          "output_type": "execute_result",
          "data": {
            "text/plain": [
              "                   Real    Predicted\n",
              "Date                                \n",
              "2021-08-08  3013.732666  2404.240479\n",
              "2021-08-09  3167.856201  2473.459717\n",
              "2021-08-10  3141.691162  2655.831787\n",
              "2021-08-11  3164.245117  2502.587402\n",
              "2021-08-12  3043.414307  2397.026855\n",
              "...                 ...          ...\n",
              "2021-11-11  4730.384277  2713.229980\n",
              "2021-11-12  4667.115234  2998.551270\n",
              "2021-11-13  4651.460449  2472.942627\n",
              "2021-11-14  4626.358887  2467.385498\n",
              "2021-11-15  4557.503906  2467.385498\n",
              "\n",
              "[100 rows x 2 columns]"
            ],
            "text/html": [
              "\n",
              "  <div id=\"df-446b3175-0400-4464-b222-dc2f443bc73f\">\n",
              "    <div class=\"colab-df-container\">\n",
              "      <div>\n",
              "<style scoped>\n",
              "    .dataframe tbody tr th:only-of-type {\n",
              "        vertical-align: middle;\n",
              "    }\n",
              "\n",
              "    .dataframe tbody tr th {\n",
              "        vertical-align: top;\n",
              "    }\n",
              "\n",
              "    .dataframe thead th {\n",
              "        text-align: right;\n",
              "    }\n",
              "</style>\n",
              "<table border=\"1\" class=\"dataframe\">\n",
              "  <thead>\n",
              "    <tr style=\"text-align: right;\">\n",
              "      <th></th>\n",
              "      <th>Real</th>\n",
              "      <th>Predicted</th>\n",
              "    </tr>\n",
              "    <tr>\n",
              "      <th>Date</th>\n",
              "      <th></th>\n",
              "      <th></th>\n",
              "    </tr>\n",
              "  </thead>\n",
              "  <tbody>\n",
              "    <tr>\n",
              "      <th>2021-08-08</th>\n",
              "      <td>3013.732666</td>\n",
              "      <td>2404.240479</td>\n",
              "    </tr>\n",
              "    <tr>\n",
              "      <th>2021-08-09</th>\n",
              "      <td>3167.856201</td>\n",
              "      <td>2473.459717</td>\n",
              "    </tr>\n",
              "    <tr>\n",
              "      <th>2021-08-10</th>\n",
              "      <td>3141.691162</td>\n",
              "      <td>2655.831787</td>\n",
              "    </tr>\n",
              "    <tr>\n",
              "      <th>2021-08-11</th>\n",
              "      <td>3164.245117</td>\n",
              "      <td>2502.587402</td>\n",
              "    </tr>\n",
              "    <tr>\n",
              "      <th>2021-08-12</th>\n",
              "      <td>3043.414307</td>\n",
              "      <td>2397.026855</td>\n",
              "    </tr>\n",
              "    <tr>\n",
              "      <th>...</th>\n",
              "      <td>...</td>\n",
              "      <td>...</td>\n",
              "    </tr>\n",
              "    <tr>\n",
              "      <th>2021-11-11</th>\n",
              "      <td>4730.384277</td>\n",
              "      <td>2713.229980</td>\n",
              "    </tr>\n",
              "    <tr>\n",
              "      <th>2021-11-12</th>\n",
              "      <td>4667.115234</td>\n",
              "      <td>2998.551270</td>\n",
              "    </tr>\n",
              "    <tr>\n",
              "      <th>2021-11-13</th>\n",
              "      <td>4651.460449</td>\n",
              "      <td>2472.942627</td>\n",
              "    </tr>\n",
              "    <tr>\n",
              "      <th>2021-11-14</th>\n",
              "      <td>4626.358887</td>\n",
              "      <td>2467.385498</td>\n",
              "    </tr>\n",
              "    <tr>\n",
              "      <th>2021-11-15</th>\n",
              "      <td>4557.503906</td>\n",
              "      <td>2467.385498</td>\n",
              "    </tr>\n",
              "  </tbody>\n",
              "</table>\n",
              "<p>100 rows × 2 columns</p>\n",
              "</div>\n",
              "      <button class=\"colab-df-convert\" onclick=\"convertToInteractive('df-446b3175-0400-4464-b222-dc2f443bc73f')\"\n",
              "              title=\"Convert this dataframe to an interactive table.\"\n",
              "              style=\"display:none;\">\n",
              "        \n",
              "  <svg xmlns=\"http://www.w3.org/2000/svg\" height=\"24px\"viewBox=\"0 0 24 24\"\n",
              "       width=\"24px\">\n",
              "    <path d=\"M0 0h24v24H0V0z\" fill=\"none\"/>\n",
              "    <path d=\"M18.56 5.44l.94 2.06.94-2.06 2.06-.94-2.06-.94-.94-2.06-.94 2.06-2.06.94zm-11 1L8.5 8.5l.94-2.06 2.06-.94-2.06-.94L8.5 2.5l-.94 2.06-2.06.94zm10 10l.94 2.06.94-2.06 2.06-.94-2.06-.94-.94-2.06-.94 2.06-2.06.94z\"/><path d=\"M17.41 7.96l-1.37-1.37c-.4-.4-.92-.59-1.43-.59-.52 0-1.04.2-1.43.59L10.3 9.45l-7.72 7.72c-.78.78-.78 2.05 0 2.83L4 21.41c.39.39.9.59 1.41.59.51 0 1.02-.2 1.41-.59l7.78-7.78 2.81-2.81c.8-.78.8-2.07 0-2.86zM5.41 20L4 18.59l7.72-7.72 1.47 1.35L5.41 20z\"/>\n",
              "  </svg>\n",
              "      </button>\n",
              "      \n",
              "  <style>\n",
              "    .colab-df-container {\n",
              "      display:flex;\n",
              "      flex-wrap:wrap;\n",
              "      gap: 12px;\n",
              "    }\n",
              "\n",
              "    .colab-df-convert {\n",
              "      background-color: #E8F0FE;\n",
              "      border: none;\n",
              "      border-radius: 50%;\n",
              "      cursor: pointer;\n",
              "      display: none;\n",
              "      fill: #1967D2;\n",
              "      height: 32px;\n",
              "      padding: 0 0 0 0;\n",
              "      width: 32px;\n",
              "    }\n",
              "\n",
              "    .colab-df-convert:hover {\n",
              "      background-color: #E2EBFA;\n",
              "      box-shadow: 0px 1px 2px rgba(60, 64, 67, 0.3), 0px 1px 3px 1px rgba(60, 64, 67, 0.15);\n",
              "      fill: #174EA6;\n",
              "    }\n",
              "\n",
              "    [theme=dark] .colab-df-convert {\n",
              "      background-color: #3B4455;\n",
              "      fill: #D2E3FC;\n",
              "    }\n",
              "\n",
              "    [theme=dark] .colab-df-convert:hover {\n",
              "      background-color: #434B5C;\n",
              "      box-shadow: 0px 1px 3px 1px rgba(0, 0, 0, 0.15);\n",
              "      filter: drop-shadow(0px 1px 2px rgba(0, 0, 0, 0.3));\n",
              "      fill: #FFFFFF;\n",
              "    }\n",
              "  </style>\n",
              "\n",
              "      <script>\n",
              "        const buttonEl =\n",
              "          document.querySelector('#df-446b3175-0400-4464-b222-dc2f443bc73f button.colab-df-convert');\n",
              "        buttonEl.style.display =\n",
              "          google.colab.kernel.accessAllowed ? 'block' : 'none';\n",
              "\n",
              "        async function convertToInteractive(key) {\n",
              "          const element = document.querySelector('#df-446b3175-0400-4464-b222-dc2f443bc73f');\n",
              "          const dataTable =\n",
              "            await google.colab.kernel.invokeFunction('convertToInteractive',\n",
              "                                                     [key], {});\n",
              "          if (!dataTable) return;\n",
              "\n",
              "          const docLinkHtml = 'Like what you see? Visit the ' +\n",
              "            '<a target=\"_blank\" href=https://colab.research.google.com/notebooks/data_table.ipynb>data table notebook</a>'\n",
              "            + ' to learn more about interactive tables.';\n",
              "          element.innerHTML = '';\n",
              "          dataTable['output_type'] = 'display_data';\n",
              "          await google.colab.output.renderOutput(dataTable, element);\n",
              "          const docLink = document.createElement('div');\n",
              "          docLink.innerHTML = docLinkHtml;\n",
              "          element.appendChild(docLink);\n",
              "        }\n",
              "      </script>\n",
              "    </div>\n",
              "  </div>\n",
              "  "
            ]
          },
          "metadata": {},
          "execution_count": 34
        }
      ],
      "source": [
        "# Calculating the accuracy score\n",
        "# acc_score = accuracy_score(y_test, predictions)\n",
        "# print(f\"Accuracy Score : {acc_score}\")\n",
        "\n",
        "\n",
        "stocks = pd.DataFrame({\n",
        "    \"Real\": y_test.ravel(),\n",
        "    \"Predicted\": predictions.ravel()\n",
        "    }, index = df.index[-len(y_test): ])\n",
        "stocks.head(100)\n",
        "\n"
      ]
    },
    {
      "cell_type": "code",
      "execution_count": null,
      "metadata": {
        "colab": {
          "base_uri": "https://localhost:8080/",
          "height": 525
        },
        "id": "HBwogACer10a",
        "outputId": "20f33612-e789-4b67-8e50-a831440224f6"
      },
      "outputs": [
        {
          "output_type": "execute_result",
          "data": {
            "text/plain": [
              "<matplotlib.axes._subplots.AxesSubplot at 0x7f101a05ea90>"
            ]
          },
          "metadata": {},
          "execution_count": 35
        },
        {
          "output_type": "display_data",
          "data": {
            "text/plain": [
              "<Figure size 1152x576 with 1 Axes>"
            ],
            "image/png": "[encoded data removed]"
          },
          "metadata": {
            "needs_background": "light"
          }
        }
      ],
      "source": [
        "stocks.plot(figsize = (16,8))"
      ]
    },
    {
      "cell_type": "code",
      "execution_count": null,
      "metadata": {
        "colab": {
          "base_uri": "https://localhost:8080/"
        },
        "id": "WoOJU-1Pr10a",
        "outputId": "6ed71f72-7a1e-45f4-cbec-772e819d1e0c"
      },
      "outputs": [
        {
          "output_type": "stream",
          "name": "stdout",
          "text": [
            "Mean Absolute Error: 993.7109\n",
            "Mean Squared Error: 1263839.6693\n",
            "Root Mean Squared Error: 1124.2062\n",
            "(R^2) Score: -2.2939\n",
            "Accuracy: 72.79 %.\n"
          ]
        }
      ],
      "source": [
        "from sklearn import metrics\n",
        "\n",
        "print(f'Mean Absolute Error:', round(metrics.mean_absolute_error(y_test, predictions), 4))\n",
        "print(f'Mean Squared Error:', round(metrics.mean_squared_error(y_test, predictions), 4))\n",
        "print(f'Root Mean Squared Error:', round(np.sqrt(metrics.mean_squared_error(y_test, predictions)), 4))\n",
        "print(f'(R^2) Score:', round(metrics.r2_score(y_test, predictions), 4))\n",
        "errors = abs(predictions - y_test)\n",
        "mape = 100 * (errors / y_test)\n",
        "accuracy = 100 - np.mean(mape)\n",
        "print('Accuracy:', round(accuracy, 2), '%.') "
      ]
    }
  ],
  "metadata": {
    "file_extension": ".py",
    "kernelspec": {
      "display_name": "Python [conda env:alpacaenv] *",
      "language": "python",
      "name": "conda-env-alpacaenv-py"
    },
    "language_info": {
      "codemirror_mode": {
        "name": "ipython",
        "version": 3
      },
      "file_extension": ".py",
      "mimetype": "text/x-python",
      "name": "python",
      "nbconvert_exporter": "python",
      "pygments_lexer": "ipython3",
      "version": "3.7.12"
    },
    "mimetype": "text/x-python",
    "name": "python",
    "npconvert_exporter": "python",
    "pygments_lexer": "ipython3",
    "version": 3,
    "colab": {
      "name": "XGBoostRegressor.ipynb",
      "provenance": []
    }
  },
  "nbformat": 4,
  "nbformat_minor": 0
}